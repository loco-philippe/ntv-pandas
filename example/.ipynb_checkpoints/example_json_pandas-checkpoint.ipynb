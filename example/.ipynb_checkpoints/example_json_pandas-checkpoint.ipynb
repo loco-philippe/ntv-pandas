{
 "cells": [
  {
   "cell_type": "markdown",
   "id": "343c7b20",
   "metadata": {},
   "source": [
    "## Current JSON-pandas interface \n",
    "-------     \n",
    "      \n",
    "### Introduction\n",
    "The data type is not explicitely taken into account in the current JSON interface.     \n",
    "\n",
    "### Content\n",
    "This NoteBook uses examples to present some key points\n",
    "\n",
    "*(active link on jupyter Notebook or Nbviewer)*\n",
    "- [Current Json interface](#Current-Json-interface)\n",
    "    - [Example : simple column](#Example-:-simple-column)\n",
    "    - [Types and Json interface](#Types-and-Json-interface)\n",
    "    - [Data compactness](#data-compactness)\n",
    "    - [External types](#external-types)    \n",
    "- [Appendix: JSON interface - option: \"table\"](#Appendix:-JSON-interface---option:-\"table\")\n",
    "    - [Converting pandas dtype to table-schema type](#Converting-pandas-dtype-to-table-schema-type)\n",
    "    - [Converting table-schema type to pandas dtype](#Converting-table-schema-type-to-pandas-dtype)\n",
    "    - [Example converting pandas dtype to table-schema type](#Example-converting-pandas-dtype-to-table-schema-type)\n",
    "\n",
    "This Notebook can also be viewed at [nbviewer](http://nbviewer.org/github/loco-philippe/NTV/tree/main/example)"
   ]
  },
  {
   "cell_type": "code",
   "execution_count": 1,
   "id": "d00a0cb6",
   "metadata": {},
   "outputs": [],
   "source": [
    "import math\n",
    "from pprint import pprint\n",
    "\n",
    "import pandas as pd\n",
    "from shapely.geometry import Point\n",
    "from datetime import date, datetime, time"
   ]
  },
  {
   "cell_type": "markdown",
   "id": "1935fc6a",
   "metadata": {},
   "source": [
    "## Current Json interface\n",
    "- the `orient='table'` option of the json interface is detailed in [Appendix](#5---Appendix:-JSON-interface---option:-\"table\")"
   ]
  },
  {
   "cell_type": "markdown",
   "id": "c4397201",
   "metadata": {},
   "source": [
    "### Example : simple column\n",
    "- the interface is not reversible with this example"
   ]
  },
  {
   "cell_type": "code",
   "execution_count": 2,
   "id": "5dea32e4",
   "metadata": {},
   "outputs": [
    {
     "name": "stdout",
     "output_type": "stream",
     "text": [
      "   test integer test string\n",
      "0             1           a\n",
      "1             2           b\n",
      "2             3           c\n"
     ]
    }
   ],
   "source": [
    "df = pd.read_json('{\"test integer\":[1,2,3], \"test string\": [\"a\", \"b\", \"c\"]}')\n",
    "print(df)\n",
    "# but it is impossible with to_json() to recreate the initial data"
   ]
  },
  {
   "cell_type": "markdown",
   "id": "d4ac6f3c",
   "metadata": {},
   "source": [
    "### Types and Json interface "
   ]
  },
  {
   "cell_type": "markdown",
   "id": "5762e1c1",
   "metadata": {},
   "source": [
    "- the only way to keep the types in the json interface is to use the orient='table' option"
   ]
  },
  {
   "cell_type": "code",
   "execution_count": 3,
   "id": "16a2a625",
   "metadata": {},
   "outputs": [
    {
     "data": {
      "text/plain": [
       "'{\"test int32\":{\"0\":10,\"1\":20}}'"
      ]
     },
     "execution_count": 3,
     "metadata": {},
     "output_type": "execute_result"
    }
   ],
   "source": [
    "df  = pd.DataFrame(pd.Series([10,20], name='test int32', dtype='Int32'))\n",
    "\n",
    "# dtype is not included in usual json interface\n",
    "df.to_json()"
   ]
  },
  {
   "cell_type": "markdown",
   "id": "4e423a66",
   "metadata": {},
   "source": [
    "- only few types are allowed in json-table interface : int64, float64, bool, datetime64, timedelta64, categorical"
   ]
  },
  {
   "cell_type": "code",
   "execution_count": 4,
   "id": "810eb785",
   "metadata": {},
   "outputs": [
    {
     "name": "stdout",
     "output_type": "stream",
     "text": [
      "test int32    int64\n",
      "dtype: object\n",
      "\n",
      "is Json translation reversible ?  False\n"
     ]
    }
   ],
   "source": [
    "# 'int32' is lost in json-table interface\n",
    "df2 = pd.read_json(df.to_json(orient='table'), orient='table')\n",
    "print(df2.dtypes)\n",
    "print('\\nis Json translation reversible ? ', df.equals(df2))"
   ]
  },
  {
   "cell_type": "markdown",
   "id": "65fa8eaf",
   "metadata": {},
   "source": [
    "- allowed types are not always kept in json interface "
   ]
  },
  {
   "cell_type": "code",
   "execution_count": 5,
   "id": "8f28a6b6",
   "metadata": {},
   "outputs": [
    {
     "name": "stdout",
     "output_type": "stream",
     "text": [
      "test float64    float64\n",
      "dtype: object \n",
      "\n",
      "test float64    int64\n",
      "dtype: object\n",
      "\n",
      "is Json translation reversible ?  False\n"
     ]
    }
   ],
   "source": [
    "df = pd.DataFrame(pd.Series([10,20], name='test float64', dtype='float64'))\n",
    "print(df.dtypes, '\\n')\n",
    "df2 = pd.read_json(df.to_json(orient='records'), orient='records')\n",
    "print(df2.dtypes)\n",
    "print('\\nis Json translation reversible ? ', df.equals(df2))"
   ]
  },
  {
   "cell_type": "code",
   "execution_count": 6,
   "id": "c64c287e",
   "metadata": {},
   "outputs": [
    {
     "name": "stdout",
     "output_type": "stream",
     "text": [
      "float64 \n",
      "\n",
      "0   NaT\n",
      "1   NaT\n",
      "dtype: datetime64[ns]\n",
      "\n",
      "is Json translation reversible ?  False\n"
     ]
    }
   ],
   "source": [
    "sr = pd.Series([math.nan,math.nan], name='nan')\n",
    "print(sr.dtype, '\\n')\n",
    "sr2 = pd.read_json(sr.to_json(), typ='series')\n",
    "print(sr2)\n",
    "print('\\nis Json translation reversible ? ', sr.equals(sr2))"
   ]
  },
  {
   "cell_type": "markdown",
   "id": "ee71b6dc",
   "metadata": {},
   "source": [
    "- data with 'object' dtype is kept only in certain cases"
   ]
  },
  {
   "cell_type": "code",
   "execution_count": 7,
   "id": "3e11b78a",
   "metadata": {},
   "outputs": [
    {
     "name": "stdout",
     "output_type": "stream",
     "text": [
      "{\"test dates\":{\"0\":1614556800000,\"1\":1614729600000}} \n",
      "\n",
      "{\"schema\":{\"fields\":[{\"name\":\"index\",\"type\":\"integer\"},{\"name\":\"test dates\",\"type\":\"string\"}],\"primaryKey\":[\"index\"],\"pandas_version\":\"1.4.0\"},\"data\":[{\"index\":0,\"test dates\":\"2021-03-01T00:00:00.000\"},{\"index\":1,\"test dates\":\"2021-03-03T00:00:00.000\"}]} \n",
      "\n",
      "                test dates\n",
      "0  2021-03-01T00:00:00.000\n",
      "1  2021-03-03T00:00:00.000\n",
      "\n",
      "is Json translation reversible ?  False\n"
     ]
    }
   ],
   "source": [
    "dfd = pd.DataFrame({'test dates': [date(2021, 3, 1), date(2021, 3, 3)]})\n",
    "\n",
    "print(dfd.to_json(default_handler=date.isoformat), '\\n')\n",
    "print(dfd.to_json(orient='table'), '\\n')\n",
    "\n",
    "dfd2 = pd.read_json(dfd.to_json(orient='table'), orient='table')\n",
    "print(dfd2)\n",
    "\n",
    "print('\\nis Json translation reversible ? ', dfd.equals(dfd2))"
   ]
  },
  {
   "cell_type": "code",
   "execution_count": 8,
   "id": "05cd6fdb",
   "metadata": {},
   "outputs": [
    {
     "name": "stdout",
     "output_type": "stream",
     "text": [
      "     test tuple\n",
      "0  (2021, 3, 1)\n",
      "1  (2021, 3, 3) \n",
      "\n",
      "{\"test tuple\":{\"0\":[2021,3,1],\"1\":[2021,3,3]}} \n",
      "\n",
      "{\"schema\":{\"fields\":[{\"name\":\"index\",\"type\":\"integer\"},{\"name\":\"test tuple\",\"type\":\"string\"}],\"primaryKey\":[\"index\"],\"pandas_version\":\"1.4.0\"},\"data\":[{\"index\":0,\"test tuple\":[2021,3,1]},{\"index\":1,\"test tuple\":[2021,3,3]}]} \n",
      "\n",
      "     test tuple\n",
      "0  [2021, 3, 1]\n",
      "1  [2021, 3, 3]\n",
      "\n",
      "is Json translation reversible ?  False\n"
     ]
    }
   ],
   "source": [
    "dfd = pd.DataFrame({'test tuple': [(2021, 3, 1), (2021, 3, 3)]})\n",
    "print(dfd, '\\n')\n",
    "print(dfd.to_json(), '\\n')\n",
    "print(dfd.to_json(orient='table'), '\\n')\n",
    "dfd2 = pd.read_json(dfd.to_json(orient='table'), orient='table')\n",
    "print(dfd2)\n",
    "print('\\nis Json translation reversible ? ', dfd.equals(dfd2))"
   ]
  },
  {
   "cell_type": "markdown",
   "id": "982a4f14",
   "metadata": {},
   "source": [
    "- with categorical dtype, the underlying dtype is not included in json interface"
   ]
  },
  {
   "cell_type": "code",
   "execution_count": 9,
   "id": "e2019c70",
   "metadata": {},
   "outputs": [
    {
     "name": "stdout",
     "output_type": "stream",
     "text": [
      "{\"schema\":{\"fields\":[{\"name\":\"index\",\"type\":\"integer\"},{\"name\":\"test float\",\"type\":\"any\",\"constraints\":{\"enum\":[10.0,20.0]},\"ordered\":false}],\"primaryKey\":[\"index\"],\"pandas_version\":\"1.4.0\"},\"data\":[{\"index\":0,\"test float\":10.0},{\"index\":1,\"test float\":20.0}]}\n"
     ]
    }
   ],
   "source": [
    "df = pd.DataFrame(pd.Series([10,20], name='test float', dtype='float32'), dtype='category')\n",
    "print(df.to_json(orient='table'))"
   ]
  },
  {
   "cell_type": "markdown",
   "id": "62a4df33",
   "metadata": {},
   "source": [
    "- `to_csv` and `to_json` methods have different behaviors"
   ]
  },
  {
   "cell_type": "code",
   "execution_count": 10,
   "id": "d52194c8",
   "metadata": {},
   "outputs": [
    {
     "name": "stdout",
     "output_type": "stream",
     "text": [
      "CSV data :\n",
      " ,test dates,test times\r\n",
      "0,2021-10-02,10:10:02\r\n",
      "1,2021-10-04,11:10:04\r\n",
      "\n",
      "JSON data :\n",
      " {\"test dates\":{\"0\":1633132800000,\"1\":1633305600000},\"test times\":{\"0\":\"10:10:02\",\"1\":\"11:10:04\"}}\n",
      "JSON data :\n",
      " {\"test dates\":{\"0\":\"2021-10-02T00:00:00.000\",\"1\":\"2021-10-04T00:00:00.000\"},\"test times\":{\"0\":\"10:10:02\",\"1\":\"11:10:04\"}}\n"
     ]
    }
   ],
   "source": [
    "df = pd.DataFrame({'test dates' : [date(2021, 10, 2), date(2021, 10, 4)],\n",
    "                   'test times' : [time(10, 10, 2), time(11, 10, 4)]})\n",
    "print('CSV data :\\n', df.to_csv())\n",
    "print('JSON data :\\n', df.to_json())\n",
    "print('JSON data :\\n', df.to_json(date_format='iso'))"
   ]
  },
  {
   "cell_type": "markdown",
   "id": "27a0f805",
   "metadata": {},
   "source": [
    "### Data compactness\n",
    "- json-table interface is not compact (in this example the size is quadruple the size of the compact format)"
   ]
  },
  {
   "cell_type": "code",
   "execution_count": 11,
   "id": "db842b75",
   "metadata": {},
   "outputs": [
    {
     "ename": "ModuleNotFoundError",
     "evalue": "No module named 'ntv_pandas'",
     "output_type": "error",
     "traceback": [
      "\u001b[1;31m---------------------------------------------------------------------------\u001b[0m",
      "\u001b[1;31mModuleNotFoundError\u001b[0m                       Traceback (most recent call last)",
      "\u001b[1;32m~\\AppData\\Local\\Temp\\ipykernel_352\\2885862950.py\u001b[0m in \u001b[0;36m<module>\u001b[1;34m\u001b[0m\n\u001b[1;32m----> 1\u001b[1;33m \u001b[1;32mimport\u001b[0m \u001b[0mntv_pandas\u001b[0m \u001b[1;32mas\u001b[0m \u001b[0mnpd\u001b[0m\u001b[1;33m\u001b[0m\u001b[1;33m\u001b[0m\u001b[0m\n\u001b[0m\u001b[0;32m      2\u001b[0m \u001b[1;33m\u001b[0m\u001b[0m\n\u001b[0;32m      3\u001b[0m tab_data = {'dates':           ['1964-01-01', '1985-02-05', '2022-01-21', '1964-01-01', '1985-02-05', '2022-01-21'], \n\u001b[0;32m      4\u001b[0m             \u001b[1;34m'value'\u001b[0m\u001b[1;33m:\u001b[0m           \u001b[1;33m[\u001b[0m\u001b[1;36m10\u001b[0m\u001b[1;33m,\u001b[0m \u001b[1;36m10\u001b[0m\u001b[1;33m,\u001b[0m \u001b[1;36m20\u001b[0m\u001b[1;33m,\u001b[0m \u001b[1;36m20\u001b[0m\u001b[1;33m,\u001b[0m \u001b[1;36m30\u001b[0m\u001b[1;33m,\u001b[0m \u001b[1;36m30\u001b[0m\u001b[1;33m]\u001b[0m\u001b[1;33m,\u001b[0m\u001b[1;33m\u001b[0m\u001b[1;33m\u001b[0m\u001b[0m\n\u001b[0;32m      5\u001b[0m             \u001b[1;34m'names'\u001b[0m\u001b[1;33m:\u001b[0m           \u001b[1;33m[\u001b[0m\u001b[1;34m'john'\u001b[0m\u001b[1;33m,\u001b[0m \u001b[1;34m'eric'\u001b[0m\u001b[1;33m,\u001b[0m \u001b[1;34m'judith'\u001b[0m\u001b[1;33m,\u001b[0m \u001b[1;34m'mila'\u001b[0m\u001b[1;33m,\u001b[0m \u001b[1;34m'hector'\u001b[0m\u001b[1;33m,\u001b[0m \u001b[1;34m'maria'\u001b[0m\u001b[1;33m]\u001b[0m\u001b[1;33m,\u001b[0m\u001b[1;33m\u001b[0m\u001b[1;33m\u001b[0m\u001b[0m\n",
      "\u001b[1;31mModuleNotFoundError\u001b[0m: No module named 'ntv_pandas'"
     ]
    }
   ],
   "source": [
    "import ntv_pandas as npd\n",
    "\n",
    "tab_data = {'dates':           ['1964-01-01', '1985-02-05', '2022-01-21', '1964-01-01', '1985-02-05', '2022-01-21'], \n",
    "            'value':           [10, 10, 20, 20, 30, 30],\n",
    "            'names':           ['john', 'eric', 'judith', 'mila', 'hector', 'maria'],\n",
    "            'unique':          [True, True, True, True, True, True] }\n",
    "\n",
    "df = pd.DataFrame(tab_data, dtype='category')\n",
    "print(df, '\\n')\n",
    "\n",
    "# length with compact interface : 240\n",
    "print(npd.to_json(df, text=True))\n",
    "print(len(npd.to_json(df, text=True)), '\\n')\n",
    "\n",
    "# length with actual interface : 946\n",
    "print(df.to_json(orient='table'))\n",
    "print(len(df.to_json(orient='table')), '\\n')"
   ]
  },
  {
   "cell_type": "markdown",
   "id": "702bf756",
   "metadata": {},
   "source": [
    "### Interface is reversible only with json dtype\n",
    "- interface is reversible with primitive json types (int64, float64, string, bool) and with datetime type\n",
    "- see previous examples and [Annexe](#5---Annexe:-JSON-interface---option:-\"table\")"
   ]
  },
  {
   "cell_type": "markdown",
   "id": "2cf65060",
   "metadata": {},
   "source": [
    "### External types\n",
    "- the interface does not accept external types\n",
    "- to integrate external types, it is necessary to first create ExtensionArray and ExtensionDtype objects"
   ]
  },
  {
   "cell_type": "markdown",
   "id": "fd540ad3",
   "metadata": {},
   "source": [
    "## Appendix: JSON interface - option: \"table\""
   ]
  },
  {
   "cell_type": "markdown",
   "id": "9f4d9f74",
   "metadata": {},
   "source": [
    "### Converting pandas dtype to table-schema type"
   ]
  },
  {
   "cell_type": "markdown",
   "id": "75572433",
   "metadata": {},
   "source": [
    "- a part of pandas dtype (6 in full and 2 partially) are taken into account in the interface \n",
    "- `constraints` or `extDtype` members are added into table-schema header\n",
    "\n",
    "| **pandas**<br><br><br><br>dtype | **pandas**<br><br><br><br>dtype reverse | **pandas**<br><br>Reversible<br>(DataFrame are equal <br>and dtype are equal) | **table-schema**<br><br><br><br>type |\n",
    "| -------------------- | -------------------- | -------------------- | -------------------- |\n",
    "| datetime64[ns, <tz>]  | datetime64[ns, <tz>]          | yes | datetime<br>'tz': <tz> |\n",
    "| datetime64[ns]        | datetime64[ns]                | yes | datetime |\n",
    "| int64                 | int64                         | yes | integer |\n",
    "| float64               | float64                       | yes | number |\n",
    "| bool                  | bool                          | yes | boolean |\n",
    "| string                | string                        | yes | any<br>'extDtype': 'string' |\n",
    "| *category*              | category                      | depends on the dtype inside category | any<br>'enum': [xxxx] |\n",
    "| *object*                | object                        | depends on value type | string |\n",
    "| *Sparse[<dtype, fill>]* | <dtype>                       | no | type (from dtype)<br>'extDtype': 'Sparse[<dtype, fill>]' |\n",
    "| *int*                   | int64                         | no | integer |\n",
    "| *Intxx, UIntxx*         | int64                         | no | integer<br>'extDtype':dtype |\n",
    "| *float*                 | float64                       | no | number |\n",
    "| *float32*               | float64                       | no | number |\n",
    "| *Float64*               | float64                       | no | number<br>'extDtype':dtype |\n",
    "| *boolean*               | bool                          | no | boolean<br>'extDtype': 'boolean' |\n",
    "| *period[<freq>]*        | Read-json not available       | no | datetime<br>'freq': 'M' |\n",
    "| *timedelta64[ns]*       | Read_json not yet implemented | no | duration |\n",
    "| *interval*              | not available                 | no | string |\n",
    "    \n",
    " \n",
    "```python\n",
    "reversibility :\n",
    "    df_reverse = pd.read_json(df.to_json(orient='table'), orient='table')\n",
    "```"
   ]
  },
  {
   "cell_type": "markdown",
   "id": "65c4fd9e",
   "metadata": {},
   "source": [
    "### Converting table-schema type to pandas dtype"
   ]
  },
  {
   "cell_type": "markdown",
   "id": "576690ff",
   "metadata": {},
   "source": [
    "- 24 data types are defined in table-schema, 6 are taken into account in the interface\n",
    "\n",
    "| **Data**<br><br><br><br>Data type           | **table-schema**<br><br><br><br>format| **table-schema**<br><br><br><br>type | **pandas**<br><br><br>Specification<br>orient=’table’ |  **pandas**<br><br><br>read_json<br>orient=’table’ |\n",
    "| ------------------------------------------- | ---------------------------------- | -------------------- | -------------------- | -------------------- |\n",
    "| datetime                                    | default (datetime ISO8601 in UTC)  | datetime             | datetime64[ns] | ok |\n",
    "| number                                      | default                            | number               | float64 | ok |\n",
    "| integer                                     | default                            | integer              | int64 | ok |\n",
    "| boolean                                     | default                            | boolean              | bool | ok |\n",
    "| string                                      | default                            | string               | object | ok |\n",
    "| custom type                                 | default                            | any (custom type)    | category / string | ok |\n",
    "| *email*                                       | email                              | string               |  | Format not supported |\n",
    "| *uri*                                         | uri                                | string               |  | Format not supported |\n",
    "| *binary*                                      | Binary (base64 string)             | string               |  | Format not supported |\n",
    "| *uuid*                                        | uuid                               | string               |  | Format not supported |\n",
    "| *date, time or datetime with parsable format* | any (parsable ?)                   | date, time, datetime |  | Format partially supported |\n",
    "| *date, time or datetime with custom format*   | \\<PATTERN\\>                          | date, time, datetime |  | Format not supported |\n",
    "| duration                                    | default (lexical duration ISO8601) | duration             | timedelta64[ns] | Read_json not yet implemented |\n",
    "| *Json data*                                   | default (json)                     | object               |  | Unsupported |\n",
    "| *Json array*                                  | default (json array)               | array                |  | Unsupported |\n",
    "| *date*                                        | default (date ISO8601)             | date                 |  | Unsupported |\n",
    "| *time*                                        | default (time ISO8601)             | time                 |  | Unsupported |\n",
    "| *year*                                        | default                            | year                 |  | Unsupported |\n",
    "| *month*                                       | default                            | yearmonth            |  | Unsupported |\n",
    "| *Point (string)*                              | default (string “lon, lat”)        | geopoint             |  | Unsupported |\n",
    "| *Point (geojson array)*                       | array (array [lon, lat])           | geopoint             |  | Unsupported |\n",
    "| *Point (json object)*                         | object (eg {\"lon\": 90, \"lat\": 45}) | geopoint             |  | Unsupported |\n",
    "| *Geometry (geojson)*                          | default (geojson spec)             | geojson              |  | Unsupported |\n",
    "| *Geometry (topojson)*                         | Topojson (topojson spec)           | geojson              |  | Unsupported |\n",
    "| *Everything (custom type)*                    | <any> (string)                     | <any>                |  | Only ‘any‘ is supported |"
   ]
  },
  {
   "cell_type": "markdown",
   "id": "63f12237",
   "metadata": {},
   "source": [
    "### Example converting pandas dtype to table-schema type"
   ]
  },
  {
   "cell_type": "code",
   "execution_count": null,
   "id": "a435e4b5",
   "metadata": {},
   "outputs": [],
   "source": [
    "import json\n",
    "\n",
    "data = [[{'test': [1,2,3]}, {'dtype': 'int32'}],\n",
    "        [{'test': [1,2,3]}, {'dtype': 'int'}],\n",
    "        [{'test': [1,2,3]}, {'dtype': 'int64'}],\n",
    "        [{'test': [1,2,3]}, {'dtype': 'Int64'}],\n",
    "        [{'test': [1,2,3]}, {'dtype': 'UInt64'}],\n",
    "        [{'test': [1,2,3]}, {'dtype': 'float'}],\n",
    "        [{'test': [1,2,3]}, {'dtype': 'Float32'}],\n",
    "        [{'test': [1,2,3]}, {'dtype': 'float32'}],\n",
    "        [{'test': [1,2,3]}, {'dtype': 'float64'}],\n",
    "        [{'test': [1,2,3]}, {'dtype': 'Sparse[float64]'}],\n",
    "        # [{'test': [pd.Interval(1,2), pd.Interval(2,3), pd.Interval(3,4)]}], # read_json ko\n",
    "        [{'test': ['2020-01-01']}, {'dtype': 'datetime64[ns]'}],\n",
    "        [{'test': ['2020-01-01']}, {'dtype': 'datetime64[ns, UTC]'}],\n",
    "        [{'test': ['2020-01-01']}, {'dtype': 'category'}],\n",
    "        [{'test': [datetime(2020, 1, 1)]}, {'dtype': 'category'}],         \n",
    "        [{'test': [True, False]}, {'dtype': 'boolean'}],\n",
    "        [{'test': [True, False]}, {'dtype': 'bool'}],\n",
    "        # [{'test': ['1 days', '2 days']}, {'dtype': 'timedelta64[ns]'}], # read_json not yet implemented\n",
    "        # [{'test': ['2020-01-01', '2020-02-01', '2020-03-01']}, {'dtype': 'period[M]'}], # read_json not available\n",
    "         [{'test': [True, 1, 'er', datetime(2020, 1, 1)]}, {'dtype': 'object'}],\n",
    "       ]\n",
    "print('reverse (True, False), json table-schema object, reverse dtype:\\n')\n",
    "for df_data in data:\n",
    "    df = pd.DataFrame(df_data[0], **df_data[1]) if len(df_data) == 2 else pd.DataFrame(df_data[0])\n",
    "    js = df.to_json(orient='table')\n",
    "    df2 = pd.read_json(js, orient='table')\n",
    "    print(df.equals(df2), json.loads(js)['schema']['fields'][1], df2.dtypes[0])"
   ]
  }
 ],
 "metadata": {
  "kernelspec": {
   "display_name": "Python 3 (ipykernel)",
   "language": "python",
   "name": "python3"
  },
  "language_info": {
   "codemirror_mode": {
    "name": "ipython",
    "version": 3
   },
   "file_extension": ".py",
   "mimetype": "text/x-python",
   "name": "python",
   "nbconvert_exporter": "python",
   "pygments_lexer": "ipython3",
   "version": "3.10.9"
  }
 },
 "nbformat": 4,
 "nbformat_minor": 5
}
