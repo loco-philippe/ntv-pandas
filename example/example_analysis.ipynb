{
 "cells": [
  {
   "cell_type": "markdown",
   "id": "762d3483",
   "metadata": {},
   "source": [
    "# DataFrame integrity\n",
    "------\n",
    "This Notebook describes an example to explain how identify integrity errors in a DataFrame"
   ]
  },
  {
   "cell_type": "markdown",
   "id": "cc1f6714",
   "metadata": {},
   "source": [
    "The example in which the records are countries, is made up of four Fields :\n",
    "\n",
    "- country : country name\n",
    "- region : name of the region of the country\n",
    "- code : alpha-2 country code\n",
    "- population : population of the region (millions)\n",
    "\n",
    "A Data model is used to identify relationships between Fields."
   ]
  },
  {
   "cell_type": "markdown",
   "id": "ab5c4c21",
   "metadata": {},
   "source": [
    "## Data model\n",
    "\n",
    "Two entities are defined :\n",
    "\n",
    "- country : The first attribute is the name of the country (primary key of the entity), the second is its alpha-2 country code. The value of this attribute is unique for each country.\n",
    "- region : The first attribute is the name of the region (primary key of the entity), the second is its population. \n",
    "\n",
    "The data model is as follows :"
   ]
  },
  {
   "cell_type": "code",
   "execution_count": 1,
   "id": "28b3f57a",
   "metadata": {},
   "outputs": [],
   "source": [
    "from base64 import b64encode\n",
    "from IPython.display import Image, display\n",
    "from json_ntv import MermaidConnec"
   ]
  },
  {
   "cell_type": "code",
   "execution_count": 2,
   "id": "85bf54a1",
   "metadata": {},
   "outputs": [
    {
     "data": {
      "text/html": [
       "<img src=\"https://mermaid.ink/img/LS0tCnRpdGxlOiBjb3VudHJ5IGFuZCByZWdpb24KLS0tCmVyRGlhZ3JhbQogICAgQ09VTlRSWSB7CiAgICAgICAgc3RyaW5nIGNvdW50cnkgUEsKICAgICAgICBzdHJpbmcgY29kZSAidW5pcXVlIgogICAgfQogICAgUkVHSU9OIHsKICAgICAgICBzdHJpbmcgcmVnaW9uIFBLCiAgICAgICAgbnVtYmVyIHBvcHVsYXRpb24KICAgIH0KICAgIFJFR0lPTiB8fC0tfHsgQ09VTlRSWSA6IGJyaW5nc190b2dldGhlcg==\"/>"
      ],
      "text/plain": [
       "<IPython.core.display.Image object>"
      ]
     },
     "metadata": {},
     "output_type": "display_data"
    }
   ],
   "source": [
    "# Json data model \n",
    "df_country = { \n",
    "    'country and region:$erDiagram' : { \n",
    "        'entity': {\n",
    "            'COUNTRY':  [ \n",
    "                ['string', 'country',  'PK' ], \n",
    "                ['string', 'code', 'unique'] \n",
    "            ], \n",
    "            'REGION': [ \n",
    "                ['string', 'region',  'PK'],\n",
    "                ['number',    'population'] \n",
    "            ]\n",
    "        },\n",
    "        'relationship': [ \n",
    "            [ 'REGION', 'exactly one', 'identifying', 'one or more', 'COUNTRY',     'brings_together']\n",
    "        ],\n",
    "\n",
    "     } }\n",
    "\n",
    "# It is converted in Mermaid structure and then displayed\n",
    "diag = MermaidConnec.diagram(df_country)\n",
    "display(Image(url=\"https://mermaid.ink/img/\" + b64encode(diag.encode(\"ascii\")).decode(\"ascii\")))"
   ]
  },
  {
   "cell_type": "markdown",
   "id": "b6714358",
   "metadata": {},
   "source": [
    "## Rules to translate Data model in Tabular structure"
   ]
  },
  {
   "cell_type": "markdown",
   "id": "b73ba590",
   "metadata": {},
   "source": [
    "Main rules :\n",
    "\n",
    "* Each attribute in the data model if converted into a Field\n",
    "* Each Field has a 'derived' (or 'coupled' if the attribute is unique) relationship with the Field associated with the PK attribute of the same entity\n",
    "* The relationship between two entities is converted into a relationship between the Fields associated with the PK attributes\n",
    "* Cardinalities with a 0 are translated with the same rules as cardinalities with 1 (0 indicates that the Field is optional) \n",
    "* The cardinality of the data model relationships translates as follows :\n",
    "  * 1 - 1 : \"coupled\"\n",
    "  * 1 - n : \"derived\"\n",
    "  * n - n : \"linked\" "
   ]
  },
  {
   "cell_type": "markdown",
   "id": "b979b00d",
   "metadata": {},
   "source": [
    "## Relationships"
   ]
  },
  {
   "cell_type": "markdown",
   "id": "cf84c6ef",
   "metadata": {},
   "source": [
    "By applying the rules above, we identify three relationships :\n",
    "\n",
    "```json\n",
    "{ \"relationships\":\n",
    "  { \"fields\" : [ \"country\", \"code\"],      \"description\" : \"attributes\",      \"link\" : \"coupled\" },\n",
    "  { \"fields\" : [ \"region\", \"population\"], \"description\" : \"attributes\",      \"link\" : \"derived\" },\n",
    "  { \"fields\" : [ \"region\", \"country\"],    \"description\" : \"brings_together\", \"link\" : \"derived\" },\n",
    " }\n",
    " ```\n",
    "\n",
    "The indication that the country code is unique for a country reinforces the relationship between \"code\" and \"country\" (it was \"derived\" and is now \"coupled\").\n"
   ]
  },
  {
   "cell_type": "markdown",
   "id": "3c406e72",
   "metadata": {},
   "source": [
    "## Example\n",
    "The example contains three EU countries and one in Africa:"
   ]
  },
  {
   "cell_type": "markdown",
   "id": "96c34117",
   "metadata": {},
   "source": [
    "| country | region         | code  | population |\n",
    "|---------|----------------|-------|------------|\n",
    "| France  | European Union | FR    | 449        |\n",
    "| Spain   | European Union | ES    | 48         |\n",
    "| Estonia | European Union | ES    | 449        |\n",
    "| Nigeria | Africa         | NI    | 1460       |"
   ]
  },
  {
   "cell_type": "code",
   "execution_count": 3,
   "id": "59036fe9",
   "metadata": {},
   "outputs": [],
   "source": [
    "import pandas as pd\n",
    "import ntv_pandas as npd"
   ]
  },
  {
   "cell_type": "code",
   "execution_count": 4,
   "id": "c562e1c1",
   "metadata": {},
   "outputs": [],
   "source": [
    "example1 = {'country' :   ['France', 'Spain', 'Estonia', 'Nigeria'],\n",
    "            'region':     ['European Union', 'European Union', 'European Union', 'Africa'],\n",
    "            'code':       ['FR', 'ES', 'ES', 'NI'],\n",
    "            'population': [449, 48, 449, 1460]}\n",
    "pd_ex1 = pd.DataFrame(example1)"
   ]
  },
  {
   "cell_type": "markdown",
   "id": "28c5ee85",
   "metadata": {},
   "source": [
    "The analysis method uses the [TAB-analysis](https://github.com/loco-philippe/tab-analysis/blob/main/README.md) module to check relationships."
   ]
  },
  {
   "cell_type": "code",
   "execution_count": 5,
   "id": "8173543f",
   "metadata": {
    "scrolled": true
   },
   "outputs": [
    {
     "name": "stdout",
     "output_type": "stream",
     "text": [
      "country - code (must be coupled):  derived\n",
      "region - population (must be derived True):  derived False\n",
      "country - region (must be derived True):  derived True\n"
     ]
    }
   ],
   "source": [
    "ana1 = pd_ex1.npd.analysis()\n",
    "print(\"country - code (must be coupled): \", ana1.get_relation('country', 'code').typecoupl)\n",
    "print(\"region - population (must be derived True): \", ana1.get_relation('region', 'population').typecoupl, \n",
    "      ana1.get_relation('region', 'population').parent_child)\n",
    "print(\"country - region (must be derived True): \", ana1.get_relation('country', 'region').typecoupl,\n",
    "     ana1.get_relation('country', 'region').parent_child)"
   ]
  },
  {
   "cell_type": "markdown",
   "id": "0d24aff2",
   "metadata": {},
   "source": [
    "Two relationships are unconsistent. The usage of the detection tool (not shown here, see [tab_dataset](https://github.com/loco-philippe/tab-dataset/blob/main/README.md)) give us the errors:"
   ]
  },
  {
   "cell_type": "code",
   "execution_count": 6,
   "id": "b8270f82",
   "metadata": {},
   "outputs": [
    {
     "name": "stdout",
     "output_type": "stream",
     "text": [
      "{'row': [1, 2], 'code': ['ES', 'ES'], 'country': ['Spain', 'Estonia']}\n",
      "{'row': [0, 2, 1], 'population': [449, 449, 48], 'region': ['European Union', 'European Union', 'European Union']}\n"
     ]
    }
   ],
   "source": [
    "print(pd_ex1.npd.check_relation('country', 'code', 'coupled', value=True))\n",
    "print(pd_ex1.npd.check_relation('region', 'population', 'derived', value=True))"
   ]
  },
  {
   "cell_type": "markdown",
   "id": "3e342e60",
   "metadata": {},
   "source": [
    "## Example : after corrections\n",
    "\n"
   ]
  },
  {
   "cell_type": "markdown",
   "id": "1f9da96a",
   "metadata": {},
   "source": [
    "We update the Estonia code with EE and the population of EU with 449 in the Spain record:"
   ]
  },
  {
   "cell_type": "markdown",
   "id": "f5480cbb",
   "metadata": {},
   "source": [
    "| country | region         | code  | population |\n",
    "|---------|----------------|-------|------------|\n",
    "| France  | European Union | FR    | 449        |\n",
    "| Spain   | European Union | ES    | 449         |\n",
    "| Estonia | European Union | EE    | 449        |\n",
    "| Nigeria | Africa         | NI    | 1460       |"
   ]
  },
  {
   "cell_type": "code",
   "execution_count": 7,
   "id": "b205826b",
   "metadata": {},
   "outputs": [],
   "source": [
    "example2 = {'country' :   ['France', 'Spain', 'Estonia', 'Nigeria'],\n",
    "            'region':     ['European Union', 'European Union', 'European Union', 'Africa'],\n",
    "            'code':       ['FR', 'ES', 'EE', 'NI'],\n",
    "            'population': [449, 449, 449, 1460]}\n",
    "pd_ex2 = pd.DataFrame(example2)"
   ]
  },
  {
   "cell_type": "code",
   "execution_count": 8,
   "id": "d69c2ae2",
   "metadata": {
    "scrolled": true
   },
   "outputs": [
    {
     "name": "stdout",
     "output_type": "stream",
     "text": [
      "country - code (must be coupled):  coupled\n",
      "region - population (must be derived True):  coupled True\n",
      "country - region (must be derived True):  derived True\n"
     ]
    }
   ],
   "source": [
    "ana2 = pd_ex2.npd.analysis()\n",
    "print(\"country - code (must be coupled): \", ana2.get_relation('country', 'code').typecoupl)\n",
    "print(\"region - population (must be derived True): \", ana2.get_relation('region', 'population').typecoupl, \n",
    "      ana2.get_relation('region', 'population').parent_child)\n",
    "print(\"country - region (must be derived True): \", ana2.get_relation('country', 'region').typecoupl,\n",
    "     ana2.get_relation('country', 'region').parent_child)"
   ]
  },
  {
   "cell_type": "markdown",
   "id": "30e48b32",
   "metadata": {},
   "source": [
    "Note : The relationship between region and population is coupled and therefore also derived "
   ]
  }
 ],
 "metadata": {
  "kernelspec": {
   "display_name": "Python 3 (ipykernel)",
   "language": "python",
   "name": "python3"
  },
  "language_info": {
   "codemirror_mode": {
    "name": "ipython",
    "version": 3
   },
   "file_extension": ".py",
   "mimetype": "text/x-python",
   "name": "python",
   "nbconvert_exporter": "python",
   "pygments_lexer": "ipython3",
   "version": "3.10.9"
  }
 },
 "nbformat": 4,
 "nbformat_minor": 5
}
