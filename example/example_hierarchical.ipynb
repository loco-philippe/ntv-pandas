{
 "cells": [
  {
   "cell_type": "markdown",
   "id": "79411333-fdc1-4aba-b302-2044626818fd",
   "metadata": {},
   "source": [
    "# Example: Time series analysis\n",
    "\n",
    "This example presents the analysis and the representation of hierarchical data.\n"
   ]
  },
  {
   "cell_type": "markdown",
   "id": "f82e8901-380c-4315-854f-846b343748b8",
   "metadata": {},
   "source": [
    "## use case description\n",
    "\n",
    "The time series represent a daily event counter. \n",
    "\n",
    "The aim of the study is to identify the influential temporal parameters\n",
    "\n",
    "The time series is included in a table with potential temporal parameters:\n",
    "\n",
    "- study: study description\n",
    "- n_event: number of events\n",
    "- date: date (isoformat)\n",
    "- year: year of the date\n",
    "- yearmonth: year and month of the date\n",
    "- month: month of the date\n",
    "- weekday: day of the week\n",
    "- yearday: day of the year\n",
    "- day: day of the date"
   ]
  },
  {
   "cell_type": "markdown",
   "id": "d94e8605-b840-4032-8b37-6541686fddfa",
   "metadata": {},
   "source": [
    "## data acquisition"
   ]
  },
  {
   "cell_type": "code",
   "execution_count": 35,
   "id": "d241750e-4e7a-4471-bea1-27592f4758dc",
   "metadata": {},
   "outputs": [],
   "source": [
    "from datetime import date, timedelta\n",
    "from random import random\n",
    "\n",
    "columns = ['study', 'n_event', 'date', 'year', 'yearmonth', 'month', 'weekday', 'yearday', 'day']\n",
    "\n",
    "study = 'event analysis'\n",
    "t0 = date.fromisoformat('2000-01-01')\n",
    "event0 = 100\n",
    "\n",
    "def data_acquisition(n_dates):\n",
    "    '''return a list of records '''\n",
    "    data = []\n",
    "    for dt in range(n_dates):\n",
    "        dat = t0 + timedelta(dt)\n",
    "        dat_iso = dat.isoformat()\n",
    "        year = dat.year\n",
    "        yearmonth = dat_iso[:7]\n",
    "        month = dat.month\n",
    "        weekday = dat.isoweekday()\n",
    "        yearday = (dat - date.fromisoformat(str(dat.isoformat()[:4] + '-01-01'))).days\n",
    "        day = dat.day\n",
    "        n_event = round(event0 + (month-6) * random() + (weekday - 3.5) * random() + 0.1 * yearday * random() + random() * 10) \n",
    "        #data.append((study, n_event, dat_iso, year, yearmonth, month, weekday, yearday, day))\n",
    "        data.append((study, n_event, dat_iso, year, yearmonth, month))\n",
    "    return data"
   ]
  },
  {
   "cell_type": "code",
   "execution_count": 62,
   "id": "dfc35aeb-a01b-41de-b7c1-5bb55b49ff22",
   "metadata": {},
   "outputs": [
    {
     "data": {
      "text/html": [
       "<div>\n",
       "<style scoped>\n",
       "    .dataframe tbody tr th:only-of-type {\n",
       "        vertical-align: middle;\n",
       "    }\n",
       "\n",
       "    .dataframe tbody tr th {\n",
       "        vertical-align: top;\n",
       "    }\n",
       "\n",
       "    .dataframe thead th {\n",
       "        text-align: right;\n",
       "    }\n",
       "</style>\n",
       "<table border=\"1\" class=\"dataframe\">\n",
       "  <thead>\n",
       "    <tr style=\"text-align: right;\">\n",
       "      <th></th>\n",
       "      <th>study</th>\n",
       "      <th>n_event</th>\n",
       "      <th>date</th>\n",
       "      <th>year</th>\n",
       "      <th>yearmonth</th>\n",
       "      <th>month</th>\n",
       "    </tr>\n",
       "  </thead>\n",
       "  <tbody>\n",
       "    <tr>\n",
       "      <th>0</th>\n",
       "      <td>event analysis</td>\n",
       "      <td>113</td>\n",
       "      <td>2006-08-03</td>\n",
       "      <td>2006</td>\n",
       "      <td>2006-08</td>\n",
       "      <td>8</td>\n",
       "    </tr>\n",
       "    <tr>\n",
       "      <th>1</th>\n",
       "      <td>event analysis</td>\n",
       "      <td>126</td>\n",
       "      <td>2007-09-17</td>\n",
       "      <td>2007</td>\n",
       "      <td>2007-09</td>\n",
       "      <td>9</td>\n",
       "    </tr>\n",
       "    <tr>\n",
       "      <th>2</th>\n",
       "      <td>event analysis</td>\n",
       "      <td>119</td>\n",
       "      <td>2011-08-19</td>\n",
       "      <td>2011</td>\n",
       "      <td>2011-08</td>\n",
       "      <td>8</td>\n",
       "    </tr>\n",
       "    <tr>\n",
       "      <th>3</th>\n",
       "      <td>event analysis</td>\n",
       "      <td>115</td>\n",
       "      <td>2008-06-28</td>\n",
       "      <td>2008</td>\n",
       "      <td>2008-06</td>\n",
       "      <td>6</td>\n",
       "    </tr>\n",
       "    <tr>\n",
       "      <th>4</th>\n",
       "      <td>event analysis</td>\n",
       "      <td>114</td>\n",
       "      <td>2012-05-04</td>\n",
       "      <td>2012</td>\n",
       "      <td>2012-05</td>\n",
       "      <td>5</td>\n",
       "    </tr>\n",
       "    <tr>\n",
       "      <th>...</th>\n",
       "      <td>...</td>\n",
       "      <td>...</td>\n",
       "      <td>...</td>\n",
       "      <td>...</td>\n",
       "      <td>...</td>\n",
       "      <td>...</td>\n",
       "    </tr>\n",
       "    <tr>\n",
       "      <th>9995</th>\n",
       "      <td>event analysis</td>\n",
       "      <td>125</td>\n",
       "      <td>2012-07-21</td>\n",
       "      <td>2012</td>\n",
       "      <td>2012-07</td>\n",
       "      <td>7</td>\n",
       "    </tr>\n",
       "    <tr>\n",
       "      <th>9996</th>\n",
       "      <td>event analysis</td>\n",
       "      <td>114</td>\n",
       "      <td>2025-07-28</td>\n",
       "      <td>2025</td>\n",
       "      <td>2025-07</td>\n",
       "      <td>7</td>\n",
       "    </tr>\n",
       "    <tr>\n",
       "      <th>9997</th>\n",
       "      <td>event analysis</td>\n",
       "      <td>122</td>\n",
       "      <td>2002-09-05</td>\n",
       "      <td>2002</td>\n",
       "      <td>2002-09</td>\n",
       "      <td>9</td>\n",
       "    </tr>\n",
       "    <tr>\n",
       "      <th>9998</th>\n",
       "      <td>event analysis</td>\n",
       "      <td>117</td>\n",
       "      <td>2018-05-04</td>\n",
       "      <td>2018</td>\n",
       "      <td>2018-05</td>\n",
       "      <td>5</td>\n",
       "    </tr>\n",
       "    <tr>\n",
       "      <th>9999</th>\n",
       "      <td>event analysis</td>\n",
       "      <td>109</td>\n",
       "      <td>2002-09-23</td>\n",
       "      <td>2002</td>\n",
       "      <td>2002-09</td>\n",
       "      <td>9</td>\n",
       "    </tr>\n",
       "  </tbody>\n",
       "</table>\n",
       "<p>10000 rows × 6 columns</p>\n",
       "</div>"
      ],
      "text/plain": [
       "               study  n_event        date  year yearmonth  month\n",
       "0     event analysis      113  2006-08-03  2006   2006-08      8\n",
       "1     event analysis      126  2007-09-17  2007   2007-09      9\n",
       "2     event analysis      119  2011-08-19  2011   2011-08      8\n",
       "3     event analysis      115  2008-06-28  2008   2008-06      6\n",
       "4     event analysis      114  2012-05-04  2012   2012-05      5\n",
       "...              ...      ...         ...   ...       ...    ...\n",
       "9995  event analysis      125  2012-07-21  2012   2012-07      7\n",
       "9996  event analysis      114  2025-07-28  2025   2025-07      7\n",
       "9997  event analysis      122  2002-09-05  2002   2002-09      9\n",
       "9998  event analysis      117  2018-05-04  2018   2018-05      5\n",
       "9999  event analysis      109  2002-09-23  2002   2002-09      9\n",
       "\n",
       "[10000 rows x 6 columns]"
      ]
     },
     "execution_count": 62,
     "metadata": {},
     "output_type": "execute_result"
    }
   ],
   "source": [
    "import pandas as pd\n",
    "\n",
    "time_sr = pd.DataFrame(data_acquisition(10000), columns=columns[:6]).sample(frac=1).reset_index(drop=True)\n",
    "time_sr"
   ]
  },
  {
   "cell_type": "code",
   "execution_count": 63,
   "id": "a254fcd3-1ada-4529-b0d3-ecc9c26e681b",
   "metadata": {},
   "outputs": [
    {
     "name": "stdout",
     "output_type": "stream",
     "text": [
      "-1: root-derived (10000)\n",
      "   0 : study (9999 - 1)\n",
      "   1 : n_event (9943 - 57)\n",
      "   2 : date (0 - 10000)\n",
      "   4 : yearmonth (9671 - 329)\n",
      "      3 : year (301 - 28)\n",
      "      5 : month (317 - 12)\n"
     ]
    }
   ],
   "source": [
    "import ntv_pandas\n",
    "\n",
    "analys = time_sr.npd.analysis()\n",
    "print(analys.tree())"
   ]
  },
  {
   "cell_type": "code",
   "execution_count": 64,
   "id": "6d1f84d2-9e91-45de-a011-1984165b8957",
   "metadata": {},
   "outputs": [
    {
     "data": {
      "text/plain": [
       "230039"
      ]
     },
     "execution_count": 64,
     "metadata": {},
     "output_type": "execute_result"
    }
   ],
   "source": [
    "from tab_dataset.dataset import Sdataset, Ndataset\n",
    "\n",
    "time_sd = Sdataset(time_sr)\n",
    "jsn = time_sd.to_ntv(modecodec='optimize').to_obj(encoded=True)\n",
    "jsn2 = time_sd.to_ntv(modecodec='optimize').to_obj(encoded=False)\n",
    "len(jsn)\n",
    "#jsn"
   ]
  },
  {
   "cell_type": "code",
   "execution_count": 65,
   "id": "1663f929-e0a5-4c32-9298-1aafe2fc7978",
   "metadata": {},
   "outputs": [
    {
     "data": {
      "text/plain": [
       "148384"
      ]
     },
     "execution_count": 65,
     "metadata": {},
     "output_type": "execute_result"
    }
   ],
   "source": [
    "import cbor2\n",
    "len(cbor2.dumps(jsn2))"
   ]
  },
  {
   "cell_type": "code",
   "execution_count": 66,
   "id": "a5dca034-0fd7-42c0-ac99-c4248dfc63d0",
   "metadata": {},
   "outputs": [
    {
     "data": {
      "text/plain": [
       "103545"
      ]
     },
     "execution_count": 66,
     "metadata": {},
     "output_type": "execute_result"
    }
   ],
   "source": [
    "len(time_sr.to_parquet())"
   ]
  }
 ],
 "metadata": {
  "kernelspec": {
   "display_name": "Python 3 (ipykernel)",
   "language": "python",
   "name": "python3"
  },
  "language_info": {
   "codemirror_mode": {
    "name": "ipython",
    "version": 3
   },
   "file_extension": ".py",
   "mimetype": "text/x-python",
   "name": "python",
   "nbconvert_exporter": "python",
   "pygments_lexer": "ipython3",
   "version": "3.11.9"
  }
 },
 "nbformat": 4,
 "nbformat_minor": 5
}
