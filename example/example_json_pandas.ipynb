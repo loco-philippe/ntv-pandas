{
 "cells": [
  {
   "cell_type": "markdown",
   "id": "343c7b20",
   "metadata": {},
   "source": [
    "## A JSON format compatible with the pandas data structure \n",
    "-------     \n",
    "      \n",
    "### Introduction\n",
    "The data type is not explicitely taken into account in the current JSON interface.     \n",
    "    \n",
    "The existing solution is to use a data schema in addition.\n",
    "\n",
    "### Proposal\n",
    "To have a simple, compact and reversible solution, I propose to use the [JSON-NTV format (Named and Typed Value)](https://github.com/loco-philippe/NTV#readme) - which integrates the notion of type - and its JSON-TAB variation for tabular data.    \n",
    "This solution allows to include a large number of types (not necessarily Pandas dtype).     \n",
    "JSON-TAB is also applicable for multidimensional data (e.g. Xarray).\n",
    "\n",
    "### Content\n",
    "This NoteBook uses examples to present some key points\n",
    "\n",
    "*(active link on jupyter Notebook or Nbviewer)*\n",
    "- [0 - Simple example](#0---Simple-example)\n",
    "- [1 - Current Json interface](#1---Current-Json-interface)\n",
    "    - [Example : simple column](#Example-:-simple-column)\n",
    "    - [Types and Json interface](#Types-and-Json-interface)\n",
    "    - [Data compactness](#data-compactness)\n",
    "    - [External types](#external-types)\n",
    "- [2 - Series](#2---Series)\n",
    "    - [Simple example](#Simple-example)\n",
    "    - [Typed example](#Typed-example)\n",
    "    - [Examples with a non-Pandas type](#Examples-with-a-non-Pandas-type)\n",
    "    - [Categorical examples](#Categorical-examples)\n",
    "- [3 - DataFrame](#3---DataFrame)\n",
    "    - [Initial example](#Initial-example)\n",
    "    - [Complete example](#Complete-example)\n",
    "    - [Json data can be annotated](#Json-data-can-be-annotated)\n",
    "    - [Categorical data can be included](#Categorical-data-can-be-included)\n",
    "    - [Multidimensional data](#Multidimensional-data)\n",
    "- [4 - Appendix : Series tests](#4---Appendix-:-Series-tests)     \n",
    "- [5 - Appendix: JSON interface - option: \"table\"](#5---Appendix:-JSON-interface---option:-\"table\")\n",
    "    - [Converting pandas dtype to table-schema type](#Converting-pandas-dtype-to-table-schema-type)\n",
    "    - [Converting table-schema type to pandas dtype](#Converting-table-schema-type-to-pandas-dtype)\n",
    "    - [Example converting pandas dtype to table-schema type](#Example-converting-pandas-dtype-to-table-schema-type)\n",
    "        \n",
    "### References\n",
    "- [JSON-NTV specification](https://github.com/loco-philippe/NTV/blob/main/documentation/JSON-NTV-standard.pdf)\n",
    "- [JSON-TAB specification](https://github.com/loco-philippe/NTV/blob/main/documentation/JSON-TAB-standard.pdf)\n",
    "- [JSON-NTV classes and methods](https://loco-philippe.github.io/NTV/json_ntv.html)\n",
    "\n",
    "This Notebook can also be viewed at [nbviewer](http://nbviewer.org/github/loco-philippe/NTV/tree/main/example)"
   ]
  },
  {
   "cell_type": "code",
   "execution_count": 1,
   "id": "d00a0cb6",
   "metadata": {},
   "outputs": [],
   "source": [
    "import math\n",
    "from pprint import pprint\n",
    "from json_ntv import Ntv, NtvConnector\n",
    "from json_ntv import as_def_type as as_def_type\n",
    "from json_ntv import read_json as read_json        \n",
    "from json_ntv import to_json as to_json\n",
    "import pandas as pd\n",
    "from shapely.geometry import Point\n",
    "from datetime import date, datetime, time"
   ]
  },
  {
   "cell_type": "markdown",
   "id": "6834381c",
   "metadata": {},
   "source": [
    "## 0 - Simple example"
   ]
  },
  {
   "cell_type": "markdown",
   "id": "2ccd4147",
   "metadata": {},
   "source": [
    "- The example is a Dataframe with several dtype"
   ]
  },
  {
   "cell_type": "code",
   "execution_count": 2,
   "id": "87e08572",
   "metadata": {
    "scrolled": false
   },
   "outputs": [
    {
     "name": "stdout",
     "output_type": "stream",
     "text": [
      "dates::date       object\n",
      "value              int64\n",
      "value32            int32\n",
      "::month         category\n",
      "coord::point      object\n",
      "names             string\n",
      "unique              bool\n",
      "dtype: object\n"
     ]
    },
    {
     "data": {
      "text/html": [
       "<div>\n",
       "<style scoped>\n",
       "    .dataframe tbody tr th:only-of-type {\n",
       "        vertical-align: middle;\n",
       "    }\n",
       "\n",
       "    .dataframe tbody tr th {\n",
       "        vertical-align: top;\n",
       "    }\n",
       "\n",
       "    .dataframe thead th {\n",
       "        text-align: right;\n",
       "    }\n",
       "</style>\n",
       "<table border=\"1\" class=\"dataframe\">\n",
       "  <thead>\n",
       "    <tr style=\"text-align: right;\">\n",
       "      <th></th>\n",
       "      <th>dates::date</th>\n",
       "      <th>value</th>\n",
       "      <th>value32</th>\n",
       "      <th>::month</th>\n",
       "      <th>coord::point</th>\n",
       "      <th>names</th>\n",
       "      <th>unique</th>\n",
       "    </tr>\n",
       "    <tr>\n",
       "      <th>index</th>\n",
       "      <th></th>\n",
       "      <th></th>\n",
       "      <th></th>\n",
       "      <th></th>\n",
       "      <th></th>\n",
       "      <th></th>\n",
       "      <th></th>\n",
       "    </tr>\n",
       "  </thead>\n",
       "  <tbody>\n",
       "    <tr>\n",
       "      <th>100</th>\n",
       "      <td>1964-01-01</td>\n",
       "      <td>10</td>\n",
       "      <td>12</td>\n",
       "      <td>1</td>\n",
       "      <td>POINT (1 2)</td>\n",
       "      <td>john</td>\n",
       "      <td>True</td>\n",
       "    </tr>\n",
       "    <tr>\n",
       "      <th>200</th>\n",
       "      <td>1985-02-05</td>\n",
       "      <td>10</td>\n",
       "      <td>12</td>\n",
       "      <td>2</td>\n",
       "      <td>POINT (3 4)</td>\n",
       "      <td>eric</td>\n",
       "      <td>True</td>\n",
       "    </tr>\n",
       "    <tr>\n",
       "      <th>300</th>\n",
       "      <td>2022-01-21</td>\n",
       "      <td>20</td>\n",
       "      <td>22</td>\n",
       "      <td>1</td>\n",
       "      <td>POINT (5 6)</td>\n",
       "      <td>judith</td>\n",
       "      <td>True</td>\n",
       "    </tr>\n",
       "    <tr>\n",
       "      <th>400</th>\n",
       "      <td>1964-01-01</td>\n",
       "      <td>20</td>\n",
       "      <td>22</td>\n",
       "      <td>1</td>\n",
       "      <td>POINT (7 8)</td>\n",
       "      <td>mila</td>\n",
       "      <td>True</td>\n",
       "    </tr>\n",
       "    <tr>\n",
       "      <th>500</th>\n",
       "      <td>1985-02-05</td>\n",
       "      <td>30</td>\n",
       "      <td>32</td>\n",
       "      <td>2</td>\n",
       "      <td>POINT (3 4)</td>\n",
       "      <td>hector</td>\n",
       "      <td>True</td>\n",
       "    </tr>\n",
       "    <tr>\n",
       "      <th>600</th>\n",
       "      <td>2022-01-21</td>\n",
       "      <td>30</td>\n",
       "      <td>32</td>\n",
       "      <td>1</td>\n",
       "      <td>POINT (5 6)</td>\n",
       "      <td>maria</td>\n",
       "      <td>True</td>\n",
       "    </tr>\n",
       "  </tbody>\n",
       "</table>\n",
       "</div>"
      ],
      "text/plain": [
       "      dates::date  value  value32 ::month coord::point   names  unique\n",
       "index                                                                 \n",
       "100    1964-01-01     10       12       1  POINT (1 2)    john    True\n",
       "200    1985-02-05     10       12       2  POINT (3 4)    eric    True\n",
       "300    2022-01-21     20       22       1  POINT (5 6)  judith    True\n",
       "400    1964-01-01     20       22       1  POINT (7 8)    mila    True\n",
       "500    1985-02-05     30       32       2  POINT (3 4)  hector    True\n",
       "600    2022-01-21     30       32       1  POINT (5 6)   maria    True"
      ]
     },
     "execution_count": 2,
     "metadata": {},
     "output_type": "execute_result"
    }
   ],
   "source": [
    "tab_data = {'index':           [100, 200, 300, 400, 500, 600],\n",
    "            'dates::date':     pd.Series([date(1964,1,1), date(1985,2,5), date(2022,1,21), date(1964,1,1), date(1985,2,5), date(2022,1,21)]), \n",
    "            'value':           [10, 10, 20, 20, 30, 30],\n",
    "            'value32':         pd.Series([12, 12, 22, 22, 32, 32], dtype='int32'),\n",
    "            '::month':         pd.Series([1, 2, 1, 1, 2, 1], dtype='category'),\n",
    "            'coord::point':    pd.Series([Point(1,2), Point(3,4), Point(5,6), Point(7,8), Point(3,4), Point(5,6)]),\n",
    "            'names':           pd.Series(['john', 'eric', 'judith', 'mila', 'hector', 'maria'], dtype='string'),\n",
    "            'unique':          True }\n",
    "df = pd.DataFrame(tab_data).set_index('index')\n",
    "print(df.dtypes)\n",
    "df"
   ]
  },
  {
   "cell_type": "markdown",
   "id": "47d48540",
   "metadata": {},
   "source": [
    "- the example has a simple and compact JSON representation including dtype"
   ]
  },
  {
   "cell_type": "code",
   "execution_count": 3,
   "id": "c37108e8",
   "metadata": {},
   "outputs": [
    {
     "name": "stdout",
     "output_type": "stream",
     "text": [
      "{':tab': [{'index': [100, 200, 300, 400, 500, 600]},\n",
      "          {'dates::date': ['1964-01-01', '1985-02-05', '2022-01-21', '1964-01-01', '1985-02-05', '2022-01-21']},\n",
      "          {'value': [10, 10, 20, 20, 30, 30]},\n",
      "          {'value32::int32': [12, 12, 22, 22, 32, 32]},\n",
      "          [{'::month': [1, 2]}, [0, 1, 0, 0, 1, 0]],\n",
      "          {'coord::point': [[1.0, 2.0], [3.0, 4.0], [5.0, 6.0], [7.0, 8.0], [3.0, 4.0], [5.0, 6.0]]},\n",
      "          {'names::string': ['john', 'eric', 'judith', 'mila', 'hector', 'maria']},\n",
      "          {'unique': True}]}\n"
     ]
    }
   ],
   "source": [
    "df_to_json = to_json(df)\n",
    "pprint(df_to_json, width=120)"
   ]
  },
  {
   "cell_type": "markdown",
   "id": "7deb4ffb",
   "metadata": {},
   "source": [
    "- The json conversion is reversible : df_from_json equals initial df"
   ]
  },
  {
   "cell_type": "code",
   "execution_count": 4,
   "id": "0e9736c8",
   "metadata": {},
   "outputs": [
    {
     "name": "stdout",
     "output_type": "stream",
     "text": [
      "df created from JSON-NTV is equal to initial df ?  False\n"
     ]
    },
    {
     "data": {
      "text/html": [
       "<div>\n",
       "<style scoped>\n",
       "    .dataframe tbody tr th:only-of-type {\n",
       "        vertical-align: middle;\n",
       "    }\n",
       "\n",
       "    .dataframe tbody tr th {\n",
       "        vertical-align: top;\n",
       "    }\n",
       "\n",
       "    .dataframe thead th {\n",
       "        text-align: right;\n",
       "    }\n",
       "</style>\n",
       "<table border=\"1\" class=\"dataframe\">\n",
       "  <thead>\n",
       "    <tr style=\"text-align: right;\">\n",
       "      <th></th>\n",
       "      <th>dates::date</th>\n",
       "      <th>value</th>\n",
       "      <th>value32</th>\n",
       "      <th>::month</th>\n",
       "      <th>coord::point</th>\n",
       "      <th>names</th>\n",
       "      <th>unique</th>\n",
       "    </tr>\n",
       "  </thead>\n",
       "  <tbody>\n",
       "    <tr>\n",
       "      <th>100</th>\n",
       "      <td>1964-01-01</td>\n",
       "      <td>10</td>\n",
       "      <td>12</td>\n",
       "      <td>1</td>\n",
       "      <td>POINT (1 2)</td>\n",
       "      <td>john</td>\n",
       "      <td>True</td>\n",
       "    </tr>\n",
       "    <tr>\n",
       "      <th>200</th>\n",
       "      <td>1985-02-05</td>\n",
       "      <td>10</td>\n",
       "      <td>12</td>\n",
       "      <td>2</td>\n",
       "      <td>POINT (3 4)</td>\n",
       "      <td>eric</td>\n",
       "      <td>True</td>\n",
       "    </tr>\n",
       "    <tr>\n",
       "      <th>300</th>\n",
       "      <td>2022-01-21</td>\n",
       "      <td>20</td>\n",
       "      <td>22</td>\n",
       "      <td>1</td>\n",
       "      <td>POINT (5 6)</td>\n",
       "      <td>judith</td>\n",
       "      <td>True</td>\n",
       "    </tr>\n",
       "    <tr>\n",
       "      <th>400</th>\n",
       "      <td>1964-01-01</td>\n",
       "      <td>20</td>\n",
       "      <td>22</td>\n",
       "      <td>1</td>\n",
       "      <td>POINT (7 8)</td>\n",
       "      <td>mila</td>\n",
       "      <td>True</td>\n",
       "    </tr>\n",
       "    <tr>\n",
       "      <th>500</th>\n",
       "      <td>1985-02-05</td>\n",
       "      <td>30</td>\n",
       "      <td>32</td>\n",
       "      <td>2</td>\n",
       "      <td>POINT (3 4)</td>\n",
       "      <td>hector</td>\n",
       "      <td>True</td>\n",
       "    </tr>\n",
       "    <tr>\n",
       "      <th>600</th>\n",
       "      <td>2022-01-21</td>\n",
       "      <td>30</td>\n",
       "      <td>32</td>\n",
       "      <td>1</td>\n",
       "      <td>POINT (5 6)</td>\n",
       "      <td>maria</td>\n",
       "      <td>True</td>\n",
       "    </tr>\n",
       "  </tbody>\n",
       "</table>\n",
       "</div>"
      ],
      "text/plain": [
       "    dates::date  value  value32 ::month coord::point   names  unique\n",
       "100  1964-01-01     10       12       1  POINT (1 2)    john    True\n",
       "200  1985-02-05     10       12       2  POINT (3 4)    eric    True\n",
       "300  2022-01-21     20       22       1  POINT (5 6)  judith    True\n",
       "400  1964-01-01     20       22       1  POINT (7 8)    mila    True\n",
       "500  1985-02-05     30       32       2  POINT (3 4)  hector    True\n",
       "600  2022-01-21     30       32       1  POINT (5 6)   maria    True"
      ]
     },
     "execution_count": 4,
     "metadata": {},
     "output_type": "execute_result"
    }
   ],
   "source": [
    "df_from_json = read_json(df_to_json)\n",
    "print('df created from JSON-NTV is equal to initial df ? ', df_from_json.equals(df))\n",
    "df_from_json"
   ]
  },
  {
   "cell_type": "markdown",
   "id": "1935fc6a",
   "metadata": {},
   "source": [
    "## 1 - Current Json interface\n",
    "- the `orient='table'` option of the json interface is detailed in [Appendix](#5---Appendix:-JSON-interface---option:-\"table\")"
   ]
  },
  {
   "cell_type": "markdown",
   "id": "c4397201",
   "metadata": {},
   "source": [
    "### Example : simple column\n",
    "- the interface is not reversible with this example"
   ]
  },
  {
   "cell_type": "code",
   "execution_count": 5,
   "id": "5dea32e4",
   "metadata": {},
   "outputs": [
    {
     "name": "stdout",
     "output_type": "stream",
     "text": [
      "   test integer test string\n",
      "0             1           a\n",
      "1             2           b\n",
      "2             3           c\n"
     ]
    }
   ],
   "source": [
    "df = pd.read_json('{\"test integer\":[1,2,3], \"test string\": [\"a\", \"b\", \"c\"]}')\n",
    "print(df)\n",
    "# but it is impossible with to_json() to recreate the initial data"
   ]
  },
  {
   "cell_type": "markdown",
   "id": "d4ac6f3c",
   "metadata": {},
   "source": [
    "### Types and Json interface "
   ]
  },
  {
   "cell_type": "markdown",
   "id": "5762e1c1",
   "metadata": {},
   "source": [
    "- the only way to keep the types in the json interface is to use the orient='table' option"
   ]
  },
  {
   "cell_type": "code",
   "execution_count": 6,
   "id": "16a2a625",
   "metadata": {},
   "outputs": [
    {
     "data": {
      "text/plain": [
       "'{\"int32\":{\"0\":10,\"1\":20}}'"
      ]
     },
     "execution_count": 6,
     "metadata": {},
     "output_type": "execute_result"
    }
   ],
   "source": [
    "df  = pd.DataFrame(pd.Series([10,20], name='int32', dtype='Int32'))\n",
    "\n",
    "# dtype is not included in usual json interface\n",
    "df.to_json()"
   ]
  },
  {
   "cell_type": "markdown",
   "id": "4e423a66",
   "metadata": {},
   "source": [
    "- only few types are allowed in json-table interface : int64, float64, bool, datetime64, timedelta64, categorical"
   ]
  },
  {
   "cell_type": "code",
   "execution_count": 7,
   "id": "810eb785",
   "metadata": {},
   "outputs": [
    {
     "name": "stdout",
     "output_type": "stream",
     "text": [
      "int32    int64\n",
      "dtype: object\n",
      "\n",
      "is Json translation reversible ?  False\n"
     ]
    }
   ],
   "source": [
    "# 'int32' is lost in json-table interface\n",
    "df2 = pd.read_json(df.to_json(orient='table'), orient='table')\n",
    "print(df2.dtypes)\n",
    "print('\\nis Json translation reversible ? ', df.equals(df2))"
   ]
  },
  {
   "cell_type": "markdown",
   "id": "65fa8eaf",
   "metadata": {},
   "source": [
    "- allowed types are not always kept in json interface "
   ]
  },
  {
   "cell_type": "code",
   "execution_count": 8,
   "id": "8f28a6b6",
   "metadata": {},
   "outputs": [
    {
     "name": "stdout",
     "output_type": "stream",
     "text": [
      "float64    float64\n",
      "dtype: object \n",
      "\n",
      "float64    int64\n",
      "dtype: object\n",
      "\n",
      "is Json translation reversible ?  False\n"
     ]
    }
   ],
   "source": [
    "df = pd.DataFrame(pd.Series([10,20], name='float64', dtype='float64'))\n",
    "print(df.dtypes, '\\n')\n",
    "df2 = pd.read_json(df.to_json(orient='records'), orient='records')\n",
    "print(df2.dtypes)\n",
    "print('\\nis Json translation reversible ? ', df.equals(df2))"
   ]
  },
  {
   "cell_type": "code",
   "execution_count": 9,
   "id": "c64c287e",
   "metadata": {},
   "outputs": [
    {
     "name": "stdout",
     "output_type": "stream",
     "text": [
      "float64 \n",
      "\n",
      "0   NaT\n",
      "1   NaT\n",
      "dtype: datetime64[ns]\n",
      "\n",
      "is Json translation reversible ?  False\n"
     ]
    }
   ],
   "source": [
    "sr = pd.Series([math.nan,math.nan], name='nan')\n",
    "print(sr.dtype, '\\n')\n",
    "sr2 = pd.read_json(sr.to_json(), typ='series')\n",
    "print(sr2)\n",
    "print('\\nis Json translation reversible ? ', sr.equals(sr2))"
   ]
  },
  {
   "cell_type": "markdown",
   "id": "ee71b6dc",
   "metadata": {},
   "source": [
    "- data with 'object' dtype is kept only in certain cases"
   ]
  },
  {
   "cell_type": "code",
   "execution_count": 10,
   "id": "3e11b78a",
   "metadata": {},
   "outputs": [
    {
     "name": "stdout",
     "output_type": "stream",
     "text": [
      "{\"dates\":{\"0\":1614556800000,\"1\":1614729600000}} \n",
      "\n",
      "{\"schema\":{\"fields\":[{\"name\":\"index\",\"type\":\"integer\"},{\"name\":\"dates\",\"type\":\"string\"}],\"primaryKey\":[\"index\"],\"pandas_version\":\"1.4.0\"},\"data\":[{\"index\":0,\"dates\":\"2021-03-01T00:00:00.000\"},{\"index\":1,\"dates\":\"2021-03-03T00:00:00.000\"}]} \n",
      "\n",
      "                     dates\n",
      "0  2021-03-01T00:00:00.000\n",
      "1  2021-03-03T00:00:00.000\n",
      "\n",
      "is Json translation reversible ?  False\n"
     ]
    }
   ],
   "source": [
    "dfd = pd.DataFrame({'dates': [date(2021, 3, 1), date(2021, 3, 3)]})\n",
    "\n",
    "print(dfd.to_json(default_handler=date.isoformat), '\\n')\n",
    "print(dfd.to_json(orient='table'), '\\n')\n",
    "\n",
    "dfd2 = pd.read_json(dfd.to_json(orient='table'), orient='table')\n",
    "print(dfd2)\n",
    "\n",
    "print('\\nis Json translation reversible ? ', dfd.equals(dfd2))"
   ]
  },
  {
   "cell_type": "code",
   "execution_count": 11,
   "id": "05cd6fdb",
   "metadata": {},
   "outputs": [
    {
     "name": "stdout",
     "output_type": "stream",
     "text": [
      "          tuple\n",
      "0  (2021, 3, 1)\n",
      "1  (2021, 3, 3) \n",
      "\n",
      "{\"tuple\":{\"0\":[2021,3,1],\"1\":[2021,3,3]}} \n",
      "\n",
      "{\"schema\":{\"fields\":[{\"name\":\"index\",\"type\":\"integer\"},{\"name\":\"tuple\",\"type\":\"string\"}],\"primaryKey\":[\"index\"],\"pandas_version\":\"1.4.0\"},\"data\":[{\"index\":0,\"tuple\":[2021,3,1]},{\"index\":1,\"tuple\":[2021,3,3]}]} \n",
      "\n",
      "          tuple\n",
      "0  [2021, 3, 1]\n",
      "1  [2021, 3, 3]\n",
      "\n",
      "is Json translation reversible ?  False\n"
     ]
    }
   ],
   "source": [
    "dfd = pd.DataFrame({'tuple': [(2021, 3, 1), (2021, 3, 3)]})\n",
    "print(dfd, '\\n')\n",
    "print(dfd.to_json(), '\\n')\n",
    "print(dfd.to_json(orient='table'), '\\n')\n",
    "dfd2 = pd.read_json(dfd.to_json(orient='table'), orient='table')\n",
    "print(dfd2)\n",
    "print('\\nis Json translation reversible ? ', dfd.equals(dfd2))"
   ]
  },
  {
   "cell_type": "markdown",
   "id": "982a4f14",
   "metadata": {},
   "source": [
    "- with categorical dtype, the underlying dtype is not included in json interface"
   ]
  },
  {
   "cell_type": "code",
   "execution_count": 12,
   "id": "e2019c70",
   "metadata": {},
   "outputs": [
    {
     "name": "stdout",
     "output_type": "stream",
     "text": [
      "{\"schema\":{\"fields\":[{\"name\":\"index\",\"type\":\"integer\"},{\"name\":\"float\",\"type\":\"any\",\"constraints\":{\"enum\":[10.0,20.0]},\"ordered\":false}],\"primaryKey\":[\"index\"],\"pandas_version\":\"1.4.0\"},\"data\":[{\"index\":0,\"float\":10.0},{\"index\":1,\"float\":20.0}]}\n"
     ]
    }
   ],
   "source": [
    "df = pd.DataFrame(pd.Series([10,20], name='float', dtype='float64'), dtype='category')\n",
    "print(df.to_json(orient='table'))"
   ]
  },
  {
   "cell_type": "markdown",
   "id": "62a4df33",
   "metadata": {},
   "source": [
    "- `to_csv` and `to_json` methods have different behaviors"
   ]
  },
  {
   "cell_type": "code",
   "execution_count": 13,
   "id": "d52194c8",
   "metadata": {},
   "outputs": [
    {
     "name": "stdout",
     "output_type": "stream",
     "text": [
      "CSV data :\n",
      " ,dates,times\r\n",
      "0,2021-10-02,10:10:02\r\n",
      "1,2021-10-04,11:10:04\r\n",
      "\n",
      "JSON data :\n",
      " {\"dates\":{\"0\":1633132800000,\"1\":1633305600000},\"times\":{\"0\":\"10:10:02\",\"1\":\"11:10:04\"}}\n",
      "JSON data :\n",
      " {\"dates\":{\"0\":\"2021-10-02T00:00:00.000\",\"1\":\"2021-10-04T00:00:00.000\"},\"times\":{\"0\":\"10:10:02\",\"1\":\"11:10:04\"}}\n"
     ]
    }
   ],
   "source": [
    "df = pd.DataFrame({'dates' : [date(2021, 10, 2), date(2021, 10, 4)],\n",
    "                   'times' : [time(10, 10, 2), time(11, 10, 4)]})\n",
    "print('CSV data :\\n', df.to_csv())\n",
    "print('JSON data :\\n', df.to_json())\n",
    "print('JSON data :\\n', df.to_json(date_format='iso'))"
   ]
  },
  {
   "cell_type": "markdown",
   "id": "27a0f805",
   "metadata": {},
   "source": [
    "### Data compactness\n",
    "- json-table interface is not compact (in this example the size is triple or quadruple the size of the compact format"
   ]
  },
  {
   "cell_type": "code",
   "execution_count": 14,
   "id": "db842b75",
   "metadata": {},
   "outputs": [
    {
     "name": "stdout",
     "output_type": "stream",
     "text": [
      "        dates value   names unique\n",
      "0  1964-01-01    10    john   True\n",
      "1  1985-02-05    10    eric   True\n",
      "2  2022-01-21    20  judith   True\n",
      "3  1964-01-01    20    mila   True\n",
      "4  1985-02-05    30  hector   True\n",
      "5  2022-01-21    30   maria   True \n",
      "\n",
      "{\":tab\": {\"index\": [0, 1, 2, 3, 4, 5], \"dates\": [[\"1964-01-01\", \"1985-02-05\", \"2022-01-21\"], [1]], \"value\": [[10, 20, 30], [2]], \"names\": [[\"eric\", \"hector\", \"john\", \"judith\", \"maria\", \"mila\"], [2, 0, 3, 5, 1, 4]], \"unique\": [[true], [0]]}}\n",
      "240 \n",
      "\n",
      "{\"schema\":{\"fields\":[{\"name\":\"index\",\"type\":\"integer\"},{\"name\":\"dates\",\"type\":\"any\",\"constraints\":{\"enum\":[\"1964-01-01\",\"1985-02-05\",\"2022-01-21\"]},\"ordered\":false},{\"name\":\"value\",\"type\":\"any\",\"constraints\":{\"enum\":[10,20,30]},\"ordered\":false},{\"name\":\"names\",\"type\":\"any\",\"constraints\":{\"enum\":[\"eric\",\"hector\",\"john\",\"judith\",\"maria\",\"mila\"]},\"ordered\":false},{\"name\":\"unique\",\"type\":\"boolean\",\"constraints\":{\"enum\":[true]},\"ordered\":false}],\"primaryKey\":[\"index\"],\"pandas_version\":\"1.4.0\"},\"data\":[{\"index\":0,\"dates\":\"1964-01-01\",\"value\":10,\"names\":\"john\",\"unique\":true},{\"index\":1,\"dates\":\"1985-02-05\",\"value\":10,\"names\":\"eric\",\"unique\":true},{\"index\":2,\"dates\":\"2022-01-21\",\"value\":20,\"names\":\"judith\",\"unique\":true},{\"index\":3,\"dates\":\"1964-01-01\",\"value\":20,\"names\":\"mila\",\"unique\":true},{\"index\":4,\"dates\":\"1985-02-05\",\"value\":30,\"names\":\"hector\",\"unique\":true},{\"index\":5,\"dates\":\"2022-01-21\",\"value\":30,\"names\":\"maria\",\"unique\":true}]}\n",
      "946 \n",
      "\n"
     ]
    }
   ],
   "source": [
    "tab_data = {'dates':           ['1964-01-01', '1985-02-05', '2022-01-21', '1964-01-01', '1985-02-05', '2022-01-21'], \n",
    "            'value':           [10, 10, 20, 20, 30, 30],\n",
    "            'names':           ['john', 'eric', 'judith', 'mila', 'hector', 'maria'],\n",
    "            'unique':          [True, True, True, True, True, True] }\n",
    "\n",
    "df = pd.DataFrame(tab_data, dtype='category')\n",
    "print(df, '\\n')\n",
    "\n",
    "# length with compact interface : 240\n",
    "print(to_json(df, text=True))\n",
    "print(len(to_json(df, text=True)), '\\n')\n",
    "\n",
    "# length with actual interface : 946\n",
    "print(df.to_json(orient='table'))\n",
    "print(len(df.to_json(orient='table')), '\\n')"
   ]
  },
  {
   "cell_type": "markdown",
   "id": "702bf756",
   "metadata": {},
   "source": [
    "### Interface is reversible only with json dtype\n",
    "- interface is reversible with primitive json types (int64, float64, string, bool) and with datetime type\n",
    "- see previous examples and [Annexe](#5---Annexe:-JSON-interface---option:-\"table\")"
   ]
  },
  {
   "cell_type": "markdown",
   "id": "2cf65060",
   "metadata": {},
   "source": [
    "### External types\n",
    "- the interface does not accept external types\n",
    "- to integrate external types, it is necessary to first create ExtensionArray and ExtensionDtype objects"
   ]
  },
  {
   "cell_type": "markdown",
   "id": "ca787e67",
   "metadata": {},
   "source": [
    "## 2 - Series"
   ]
  },
  {
   "cell_type": "markdown",
   "id": "14204c2d",
   "metadata": {},
   "source": [
    "### Simple example"
   ]
  },
  {
   "cell_type": "code",
   "execution_count": 15,
   "id": "62319579",
   "metadata": {},
   "outputs": [
    {
     "name": "stdout",
     "output_type": "stream",
     "text": [
      "pandas object :\n",
      "0    1\n",
      "1    2\n",
      "2    3\n",
      "Name: value, dtype: int64\n",
      "\n",
      "Json representation : \n",
      "     {':field': {'value': [1, 2, 3]}}\n",
      "\n",
      "is Json translation reversible ?  True\n"
     ]
    }
   ],
   "source": [
    "field_data = {'value': [1, 2, 3]}\n",
    "sr = read_json({':field': field_data})\n",
    "# pandas dtype conform to Ntv type\n",
    "print('pandas object :\\n' + str(sr))\n",
    "print('\\nJson representation : \\n    ', to_json(sr))\n",
    "print('\\nis Json translation reversible ? ', sr.equals(read_json(to_json(sr))))"
   ]
  },
  {
   "cell_type": "markdown",
   "id": "954c6e65",
   "metadata": {},
   "source": [
    "### Typed example"
   ]
  },
  {
   "cell_type": "code",
   "execution_count": 16,
   "id": "a556868a",
   "metadata": {},
   "outputs": [
    {
     "name": "stdout",
     "output_type": "stream",
     "text": [
      "pandas object :\n",
      "0   1964-01-01\n",
      "1   1985-02-05\n",
      "2   2022-01-21\n",
      "Name: dates, dtype: datetime64[ns]\n",
      "\n",
      "Json representation : \n",
      "     {':field': {'dates::datetime': ['1964-01-01T00:00:00.000', '1985-02-05T00:00:00.000', '2022-01-21T00:00:00.000']}}\n",
      "\n",
      "is Json translation reversible ?  True\n"
     ]
    }
   ],
   "source": [
    "field_data = {'dates::datetime': ['1964-01-01', '1985-02-05', '2022-01-21']}\n",
    "sr = read_json({':field': field_data})\n",
    "# pandas dtype conform to Ntv type\n",
    "print('pandas object :\\n' + str(sr))\n",
    "print('\\nJson representation : \\n    ', to_json(sr))\n",
    "print('\\nis Json translation reversible ? ', sr.equals(read_json(to_json(sr))))"
   ]
  },
  {
   "cell_type": "markdown",
   "id": "bbef79a9",
   "metadata": {},
   "source": [
    "### Examples with a non-Pandas type"
   ]
  },
  {
   "cell_type": "code",
   "execution_count": 17,
   "id": "765f0396",
   "metadata": {},
   "outputs": [
    {
     "name": "stdout",
     "output_type": "stream",
     "text": [
      "pandas object :\n",
      "0    1964-01-01\n",
      "1    1985-02-05\n",
      "2    2022-01-21\n",
      "Name: dates::date, dtype: object\n",
      "\n",
      "Json representation : \n",
      "     {':field': {'dates::date': ['1964-01-01', '1985-02-05', '2022-01-21']}}\n",
      "\n",
      "is Json translation reversible ?  True\n"
     ]
    }
   ],
   "source": [
    "field_data = {'dates::date': ['1964-01-01', '1985-02-05', '2022-01-21']}\n",
    "sr = read_json({':field': field_data})\n",
    "# pandas dtype : object\n",
    "print('pandas object :\\n' + str(sr))\n",
    "print('\\nJson representation : \\n    ', to_json(sr))\n",
    "print('\\nis Json translation reversible ? ', sr.equals(read_json(to_json(sr))))"
   ]
  },
  {
   "cell_type": "code",
   "execution_count": 18,
   "id": "327c67a9",
   "metadata": {},
   "outputs": [
    {
     "name": "stdout",
     "output_type": "stream",
     "text": [
      "pandas object :\n",
      "0    POINT (1 2)\n",
      "1    POINT (3 4)\n",
      "2    POINT (5 6)\n",
      "Name: coord::point, dtype: object\n",
      "\n",
      "Json representation : \n",
      "     {':field': {'coord::point': [[1.0, 2.0], [3.0, 4.0], [5.0, 6.0]]}}\n",
      "\n",
      "is Json translation reversible ?  True\n"
     ]
    }
   ],
   "source": [
    "field_data = {'coord::point':    [[1,2], [3,4], [5,6]]}\n",
    "sr = read_json({':field': field_data})\n",
    "# pandas dtype : object\n",
    "print('pandas object :\\n' + str(sr))\n",
    "print('\\nJson representation : \\n    ', to_json(sr))\n",
    "print('\\nis Json translation reversible ? ', sr.equals(read_json(to_json(sr))))"
   ]
  },
  {
   "cell_type": "markdown",
   "id": "90a68b81",
   "metadata": {},
   "source": [
    "### Categorical examples\n",
    "- available only with hashable data"
   ]
  },
  {
   "cell_type": "code",
   "execution_count": 19,
   "id": "6ba57f0a",
   "metadata": {},
   "outputs": [
    {
     "name": "stdout",
     "output_type": "stream",
     "text": [
      "pandas object :\n",
      "0    1\n",
      "1    2\n",
      "2    2\n",
      "3    1\n",
      "Name: integer, dtype: category\n",
      "Categories (2, Int64): [1, 2]\n",
      "\n",
      "Json representation : \n",
      "     {':field': {'integer': [[1, 2], [0, 1, 1, 0]]}}\n",
      "\n",
      "is Json translation reversible ?  True\n"
     ]
    }
   ],
   "source": [
    "field_data = {\"integer\": [[1, 2], [0, 1, 1, 0]]}\n",
    "sr = read_json({':field': field_data})\n",
    "# pandas dtype : object\n",
    "print('pandas object :\\n' + str(sr))\n",
    "print('\\nJson representation : \\n    ', to_json(sr))\n",
    "print('\\nis Json translation reversible ? ', sr.equals(read_json(to_json(sr))))"
   ]
  },
  {
   "cell_type": "code",
   "execution_count": 20,
   "id": "7e45d94d",
   "metadata": {},
   "outputs": [
    {
     "name": "stdout",
     "output_type": "stream",
     "text": [
      "pandas object :\n",
      "0    1964-01-01\n",
      "1    1985-02-05\n",
      "2    1964-01-01\n",
      "3    2022-01-21\n",
      "Name: dates::date, dtype: category\n",
      "Categories (3, object): [1964-01-01, 1985-02-05, 2022-01-21]\n",
      "\n",
      "Json representation : \n",
      "     {':field': {'dates': [{'::date': ['1964-01-01', '1985-02-05', '2022-01-21']}, [0, 1, 0, 2]]}}\n",
      "\n",
      "is Json translation reversible ?  True\n"
     ]
    }
   ],
   "source": [
    "field_data = {'dates': [{'::date': ['1964-01-01', '1985-02-05', '2022-01-21']}, [0, 1, 0, 2]]}\n",
    "sr = read_json({':field': field_data})\n",
    "# pandas dtype : object\n",
    "print('pandas object :\\n' + str(sr))\n",
    "print('\\nJson representation : \\n    ', to_json(sr))\n",
    "print('\\nis Json translation reversible ? ', sr.equals(read_json(to_json(sr))))"
   ]
  },
  {
   "cell_type": "code",
   "execution_count": 21,
   "id": "a4a756e7",
   "metadata": {},
   "outputs": [
    {
     "name": "stdout",
     "output_type": "stream",
     "text": [
      "pandas object :\n",
      "0    (1, 2)\n",
      "1    (3, 4)\n",
      "2    (1, 2)\n",
      "3    (5, 6)\n",
      "Name: test_array::array, dtype: category\n",
      "Categories (3, object): [(1, 2), (3, 4), (5, 6)]\n",
      "\n",
      "Json representation : \n",
      "     {':field': {'test_array': [{'::array': [(1, 2), (3, 4), (5, 6)]}, [0, 1, 0, 2]]}}\n",
      "\n",
      "is Json translation reversible ?  True\n"
     ]
    }
   ],
   "source": [
    "field_data = {'test_array': [{'::array': [[1,2], [3,4], [5,6]]}, [0, 1, 0, 2]]}\n",
    "sr = read_json({':field': field_data})\n",
    "# pandas dtype : object\n",
    "print('pandas object :\\n' + str(sr))\n",
    "print('\\nJson representation : \\n    ', to_json(sr))\n",
    "print('\\nis Json translation reversible ? ', sr.equals(read_json(to_json(sr))))"
   ]
  },
  {
   "cell_type": "markdown",
   "id": "38335df3",
   "metadata": {},
   "source": [
    "## 3 - DataFrame"
   ]
  },
  {
   "cell_type": "markdown",
   "id": "fb4a7b88",
   "metadata": {},
   "source": [
    "### Initial example"
   ]
  },
  {
   "cell_type": "code",
   "execution_count": 22,
   "id": "ac890bcb",
   "metadata": {},
   "outputs": [
    {
     "name": "stdout",
     "output_type": "stream",
     "text": [
      "pandas dtype :\n",
      "A    object\n",
      "B    object\n",
      "dtype: object\n",
      "\n",
      "pandas object :\n",
      "   A  B\n",
      "0  a  b\n",
      "1  b  c\n",
      "2  c  c\n",
      "3  a  d\n",
      "\n",
      "Json representation : \n",
      "     {':tab': {'index': [0, 1, 2, 3], 'A': ['a', 'b', 'c', 'a'], 'B': ['b', 'c', 'c', 'd']}}\n",
      "\n",
      "is Json translation reversible ?  True\n"
     ]
    }
   ],
   "source": [
    "df = pd.DataFrame({\"A\": list(\"abca\"), \"B\": list(\"bccd\")})\n",
    "\n",
    "print('pandas dtype :\\n' + str(df.dtypes))\n",
    "print('\\npandas object :\\n' + str(df))\n",
    "print('\\nJson representation : \\n    ', to_json(df))\n",
    "print('\\nis Json translation reversible ? ', df.equals(read_json(to_json(df))))"
   ]
  },
  {
   "cell_type": "markdown",
   "id": "c04430e6",
   "metadata": {},
   "source": [
    "### Complete example\n",
    "- index data\n",
    "- Pandas dtype (int32, bool, string)\n",
    "- NTV type (date, point) -> object dtype\n",
    "- data unique"
   ]
  },
  {
   "cell_type": "code",
   "execution_count": 23,
   "id": "fe6c69cb",
   "metadata": {},
   "outputs": [
    {
     "name": "stdout",
     "output_type": "stream",
     "text": [
      "pandas dtype :\n",
      "dates::date     object\n",
      "value            int64\n",
      "value32          int32\n",
      "res              int64\n",
      "coord::point    object\n",
      "names           string\n",
      "unique            bool\n",
      "dtype: object\n",
      "\n",
      "pandas object :\n",
      "    dates::date  value  value32  res coord::point   names  unique\n",
      "100  1964-01-01     10       12   10  POINT (1 2)    john    True\n",
      "200  1985-02-05     10       12   20  POINT (3 4)    eric    True\n",
      "300  2022-01-21     20       22   30  POINT (5 6)  judith    True\n",
      "400  1964-01-01     20       22   10  POINT (7 8)    mila    True\n",
      "500  1985-02-05     30       32   20  POINT (3 4)  hector    True\n",
      "600  2022-01-21     30       32   30  POINT (5 6)   maria    True\n",
      "\n",
      "Json representation :\n",
      "{':tab': {'coord::point': [[1.0, 2.0], [3.0, 4.0], [5.0, 6.0], [7.0, 8.0], [3.0, 4.0], [5.0, 6.0]],\n",
      "          'dates::date': ['1964-01-01', '1985-02-05', '2022-01-21', '1964-01-01', '1985-02-05', '2022-01-21'],\n",
      "          'index': [100, 200, 300, 400, 500, 600],\n",
      "          'names::string': ['john', 'eric', 'judith', 'mila', 'hector', 'maria'],\n",
      "          'res': [10, 20, 30, 10, 20, 30],\n",
      "          'unique': True,\n",
      "          'value': [10, 10, 20, 20, 30, 30],\n",
      "          'value32::int32': [12, 12, 22, 22, 32, 32]}}\n",
      "\n",
      "is Json translation reversible ?  True\n"
     ]
    }
   ],
   "source": [
    "tab_data = {'index':           [100, 200, 300, 400, 500, 600],\n",
    "            'dates::date':     ['1964-01-01', '1985-02-05', '2022-01-21', '1964-01-01', '1985-02-05', '2022-01-21'], \n",
    "            'value':           [10, 10, 20, 20, 30, 30],\n",
    "            'value32::int32':  [12, 12, 22, 22, 32, 32],\n",
    "            'res':             [10, 20, 30, 10, 20, 30],\n",
    "            'coord::point':    [[1,2], [3,4], [5,6], [7,8], [3,4], [5,6]],\n",
    "            'names::string':   ['john', 'eric', 'judith', 'mila', 'hector', 'maria'],\n",
    "            'unique':          True }\n",
    "df = read_json({':tab': tab_data})\n",
    "print('pandas dtype :\\n' + str(df.dtypes))\n",
    "print('\\npandas object :\\n' + str(df))\n",
    "print('\\nJson representation :')\n",
    "pprint(to_json(df), width=140)\n",
    "print('\\nis Json translation reversible ? ', df.equals(read_json(to_json(df))))"
   ]
  },
  {
   "cell_type": "markdown",
   "id": "513dd337",
   "metadata": {},
   "source": [
    "### Json data can be annotated"
   ]
  },
  {
   "cell_type": "code",
   "execution_count": 24,
   "id": "cdda0ce3",
   "metadata": {
    "scrolled": false
   },
   "outputs": [
    {
     "name": "stdout",
     "output_type": "stream",
     "text": [
      "is DataFrame identical ?  True\n"
     ]
    }
   ],
   "source": [
    "tab_data = {'index':           [100, 200, 300, 400, 500, 600],\n",
    "            'dates::date':     ['1964-01-01', '1985-02-05', '2022-01-21', '1964-01-01', '1985-02-05', '2022-01-21'], \n",
    "            'value':           [10, 10, 20, 20, {'valid?': 30}, 30],\n",
    "            'value32::int32':  [12, 12, 22, 22, 32, 32],\n",
    "            'res':             {'res1': 10, 'res2': 20, 'res3': 30, 'res4': 10, 'res5': 20, 'res6': 30},\n",
    "            'coord::point':    [[1,2], [3,4], [5,6], [7,8], {'same as 2nd point': [3,4]}, [5,6]],\n",
    "            'names::string':   ['john', 'eric', 'judith', 'mila', 'hector', 'maria'],\n",
    "            'unique':          True }\n",
    "\n",
    "df2 = read_json({':tab': tab_data}, annotated=True)\n",
    "print('is DataFrame identical ? ', df.equals(df2))"
   ]
  },
  {
   "cell_type": "markdown",
   "id": "82017e47",
   "metadata": {},
   "source": [
    "### Categorical data can be included"
   ]
  },
  {
   "cell_type": "code",
   "execution_count": 25,
   "id": "22b7a281",
   "metadata": {
    "scrolled": false
   },
   "outputs": [
    {
     "name": "stdout",
     "output_type": "stream",
     "text": [
      "pandas dtype :\n",
      "A    category\n",
      "B    category\n",
      "dtype: object\n",
      "\n",
      "pandas object :\n",
      "   A  B\n",
      "0  a  b\n",
      "1  b  c\n",
      "2  c  c\n",
      "3  a  d\n",
      "\n",
      "Json representation : \n",
      "     {':tab': {'index': [0, 1, 2, 3], 'A': [['a', 'b', 'c'], [0, 1, 2, 0]], 'B': [['b', 'c', 'd'], [0, 1, 1, 2]]}}\n",
      "\n",
      "is Json translation reversible ?  True\n"
     ]
    }
   ],
   "source": [
    "df = pd.DataFrame({\"A\": list(\"abca\"), \"B\": list(\"bccd\")}, dtype=\"category\")\n",
    "\n",
    "print('pandas dtype :\\n' + str(df.dtypes))\n",
    "print('\\npandas object :\\n' + str(df))\n",
    "print('\\nJson representation : \\n    ', to_json(df))\n",
    "print('\\nis Json translation reversible ? ', df.equals(read_json(to_json(df))))"
   ]
  },
  {
   "cell_type": "code",
   "execution_count": 26,
   "id": "d7eb51ea",
   "metadata": {
    "scrolled": false
   },
   "outputs": [
    {
     "name": "stdout",
     "output_type": "stream",
     "text": [
      "pandas dtype :\n",
      "dates::date        category\n",
      "value              category\n",
      "value32               int32\n",
      "res                   int64\n",
      "coord::point         object\n",
      "names                string\n",
      "unique::boolean        bool\n",
      "dtype: object\n",
      "\n",
      "pandas object :\n",
      "    dates::date value  value32  res coord::point   names  unique::boolean\n",
      "100  1964-01-01    10       12   10  POINT (1 2)    john             True\n",
      "200  1985-02-05    10       12   20  POINT (3 4)    eric             True\n",
      "300  2022-01-21    20       22   30  POINT (5 6)  judith             True\n",
      "400  1964-01-01    20       22   10  POINT (7 8)    mila             True\n",
      "500  1985-02-05    30       32   20  POINT (3 4)  hector             True\n",
      "600  2022-01-21    30       32   30  POINT (5 6)   maria             True\n",
      "\n",
      "Json representation :\n",
      "{':tab': {'coord::point': [[1.0, 2.0], [3.0, 4.0], [5.0, 6.0], [7.0, 8.0], [3.0, 4.0], [5.0, 6.0]],\n",
      "          'dates': [{'::date': ['1964-01-01', '1985-02-05', '2022-01-21']}, [1]],\n",
      "          'index': [100, 200, 300, 400, 500, 600],\n",
      "          'names::string': ['john', 'eric', 'judith', 'mila', 'hector', 'maria'],\n",
      "          'res': [10, 20, 30, 10, 20, 30],\n",
      "          'unique:boolean': True,\n",
      "          'value': [[10, 20, 30], [2]],\n",
      "          'value32::int32': [12, 12, 22, 22, 32, 32]}}\n",
      "\n",
      "is Json translation reversible ?  True\n"
     ]
    }
   ],
   "source": [
    "tab_data = {'index':           [100, 200, 300, 400, 500, 600],\n",
    "            'dates':           [{'::date': ['1964-01-01', '1985-02-05', '2022-01-21']}, [0, 1, 2, 0, 1, 2]],\n",
    "            'value':           [[10, 20, {'valid?': 30}], [0, 0, 1, 1, 2, 2]],\n",
    "            'value32::int32':  [12, 12, 22, 22, 32, 32],\n",
    "            'res':             {'res1': 10, 'res2': 20, 'res3': 30, 'res4': 10, 'res5': 20, 'res6': 30},\n",
    "            'coord::point':    [[1,2], [3,4], [5,6], [7,8], {'same as 2nd point': [3,4]}, [5,6]],\n",
    "            'names::string':   ['john', 'eric', 'judith', 'mila', 'hector', 'maria'],\n",
    "            'unique:boolean':  True }\n",
    "\n",
    "df = read_json({':tab': tab_data}, annotated=True)\n",
    "print('pandas dtype :\\n' + str(df.dtypes))\n",
    "print('\\npandas object :\\n' + str(df))\n",
    "print('\\nJson representation :')\n",
    "pprint(to_json(df), width=140)\n",
    "print('\\nis Json translation reversible ? ', df.equals(read_json(to_json(df))))"
   ]
  },
  {
   "cell_type": "code",
   "execution_count": 27,
   "id": "a3565bed",
   "metadata": {},
   "outputs": [
    {
     "name": "stdout",
     "output_type": "stream",
     "text": [
      "pandas dtype :\n",
      "dates::date     category\n",
      "value           category\n",
      "value32            int32\n",
      "coord::point      object\n",
      "names             string\n",
      "unique              bool\n",
      "dtype: object\n",
      "\n",
      "pandas object :\n",
      "    dates::date value  value32 coord::point   names  unique\n",
      "100  1964-01-01    10       12  POINT (1 2)    john    True\n",
      "200  1985-02-05    10       12  POINT (3 4)    eric    True\n",
      "300  2022-01-21    20       22  POINT (5 6)  judith    True\n",
      "400  1964-01-01    20       22  POINT (7 8)    mila    True\n",
      "500  1985-02-05    30       32  POINT (3 4)  hector    True\n",
      "600  2022-01-21    30       32  POINT (5 6)   maria    True\n",
      "\n",
      "Json representation :\n",
      "{':tab': {'coord::point': [[1.0, 2.0], [3.0, 4.0], [5.0, 6.0], [7.0, 8.0], [3.0, 4.0], [5.0, 6.0]],\n",
      "          'dates': [{'::date': ['1964-01-01', '1985-02-05', '2022-01-21']}, [1]],\n",
      "          'index': [100, 200, 300, 400, 500, 600],\n",
      "          'names::string': ['john', 'eric', 'judith', 'mila', 'hector', 'maria'],\n",
      "          'unique': True,\n",
      "          'value': [[10, 20, 30], [2]],\n",
      "          'value32::int32': [12, 12, 22, 22, 32, 32]}}\n",
      "\n",
      "is Json translation reversible ?  True\n"
     ]
    }
   ],
   "source": [
    "index   = pd.Series([100, 200, 300, 400, 500, 600])\n",
    "dates   = pd.Series(name='dates::date',  data=[date(1964, 1, 1), date(1985, 2, 5), date(2022, 1, 21), date(1964, 1, 1),\n",
    "                                               date(1985, 2, 5), date(2022, 1, 21)], dtype='object').astype('category')\n",
    "value   = pd.Series(name='value',        data=[10,10,20,20,30,30], dtype='Int64').astype('category') #alias mandatory \n",
    "value32 = pd.Series(name='value32',      data=[12, 12, 22, 22, 32, 32], dtype='int32')\n",
    "coord   = pd.Series(name='coord::point', data=[Point(1,2), Point(3,4), Point(5,6), Point(7,8), Point(3,4), Point(5,6)])\n",
    "names   = pd.Series(name='names',        data=['john', 'eric', 'judith', 'mila', 'hector', 'maria'], dtype='string')\n",
    "unique  = pd.Series(name='unique',       data=[True, True, True, True, True, True])\n",
    "\n",
    "df = pd.DataFrame({ser.name: ser for ser in [index, dates, value, value32, coord, names, unique]}).set_index(None)\n",
    "\n",
    "print('pandas dtype :\\n' + str(df.dtypes))\n",
    "print('\\npandas object :\\n' + str(df))\n",
    "print('\\nJson representation :')\n",
    "pprint(to_json(df), width=140)\n",
    "print('\\nis Json translation reversible ? ', df.equals(read_json(to_json(df))))"
   ]
  },
  {
   "cell_type": "markdown",
   "id": "f23d9221",
   "metadata": {},
   "source": [
    "### Multidimensional data\n",
    "- JSON-TAB format is applicable for multidimensional data\n",
    "- JSON multi-dimensional data can be translated into a Pandas Dataframe or a DataArray Xarray"
   ]
  },
  {
   "cell_type": "code",
   "execution_count": 28,
   "id": "270354b3",
   "metadata": {},
   "outputs": [
    {
     "data": {
      "text/html": [
       "<div>\n",
       "<style scoped>\n",
       "    .dataframe tbody tr th:only-of-type {\n",
       "        vertical-align: middle;\n",
       "    }\n",
       "\n",
       "    .dataframe tbody tr th {\n",
       "        vertical-align: top;\n",
       "    }\n",
       "\n",
       "    .dataframe thead th {\n",
       "        text-align: right;\n",
       "    }\n",
       "</style>\n",
       "<table border=\"1\" class=\"dataframe\">\n",
       "  <thead>\n",
       "    <tr style=\"text-align: right;\">\n",
       "      <th></th>\n",
       "      <th>quantity</th>\n",
       "      <th>product</th>\n",
       "      <th>plants</th>\n",
       "      <th>price</th>\n",
       "    </tr>\n",
       "  </thead>\n",
       "  <tbody>\n",
       "    <tr>\n",
       "      <th>2</th>\n",
       "      <td>1 kg</td>\n",
       "      <td>apple</td>\n",
       "      <td>fruit</td>\n",
       "      <td>1.0</td>\n",
       "    </tr>\n",
       "    <tr>\n",
       "      <th>0</th>\n",
       "      <td>1 kg</td>\n",
       "      <td>banana</td>\n",
       "      <td>fruit</td>\n",
       "      <td>0.5</td>\n",
       "    </tr>\n",
       "    <tr>\n",
       "      <th>1</th>\n",
       "      <td>1 kg</td>\n",
       "      <td>orange</td>\n",
       "      <td>fruit</td>\n",
       "      <td>2.0</td>\n",
       "    </tr>\n",
       "    <tr>\n",
       "      <th>3</th>\n",
       "      <td>1 kg</td>\n",
       "      <td>peppers</td>\n",
       "      <td>vegetable</td>\n",
       "      <td>1.5</td>\n",
       "    </tr>\n",
       "    <tr>\n",
       "      <th>6</th>\n",
       "      <td>10 kg</td>\n",
       "      <td>apple</td>\n",
       "      <td>fruit</td>\n",
       "      <td>10.0</td>\n",
       "    </tr>\n",
       "    <tr>\n",
       "      <th>4</th>\n",
       "      <td>10 kg</td>\n",
       "      <td>banana</td>\n",
       "      <td>fruit</td>\n",
       "      <td>5.0</td>\n",
       "    </tr>\n",
       "    <tr>\n",
       "      <th>5</th>\n",
       "      <td>10 kg</td>\n",
       "      <td>orange</td>\n",
       "      <td>fruit</td>\n",
       "      <td>20.0</td>\n",
       "    </tr>\n",
       "    <tr>\n",
       "      <th>7</th>\n",
       "      <td>10 kg</td>\n",
       "      <td>peppers</td>\n",
       "      <td>vegetable</td>\n",
       "      <td>15.0</td>\n",
       "    </tr>\n",
       "  </tbody>\n",
       "</table>\n",
       "</div>"
      ],
      "text/plain": [
       "  quantity  product     plants price\n",
       "2     1 kg    apple      fruit   1.0\n",
       "0     1 kg   banana      fruit   0.5\n",
       "1     1 kg   orange      fruit   2.0\n",
       "3     1 kg  peppers  vegetable   1.5\n",
       "6    10 kg    apple      fruit  10.0\n",
       "4    10 kg   banana      fruit   5.0\n",
       "5    10 kg   orange      fruit  20.0\n",
       "7    10 kg  peppers  vegetable  15.0"
      ]
     },
     "execution_count": 28,
     "metadata": {},
     "output_type": "execute_result"
    }
   ],
   "source": [
    "data = {\"quantity\": [\"1 kg\", \"1 kg\", \"1 kg\", \"1 kg\", \"10 kg\", \"10 kg\", \"10 kg\", \"10 kg\"],\n",
    "        \"product\": [\"banana\", \"orange\", \"apple\", \"peppers\", \"banana\", \"orange\", \"apple\", \"peppers\"], \n",
    "        \"plants\": [\"fruit\", \"fruit\", \"fruit\", \"vegetable\", \"fruit\", \"fruit\", \"fruit\", \"vegetable\"], \n",
    "        \"price\": [0.5, 2, 1, 1.5, 5, 20, 10, 15]}\n",
    "\n",
    "df  = pd.DataFrame(data)\n",
    "df2 = pd.DataFrame(data, dtype='category').sort_values(by=['quantity', 'product'])\n",
    "df2"
   ]
  },
  {
   "cell_type": "code",
   "execution_count": 29,
   "id": "40d718be",
   "metadata": {},
   "outputs": [
    {
     "name": "stdout",
     "output_type": "stream",
     "text": [
      "json_df is the JSON-TAB format with \"full\" mode\n",
      "\n",
      "{'index': [0, 1, 2, 3, 4, 5, 6, 7],\n",
      " 'plants': ['fruit', 'fruit', 'fruit', 'vegetable', 'fruit', 'fruit', 'fruit', 'vegetable'],\n",
      " 'price': [0.5, 2.0, 1.0, 1.5, 5.0, 20.0, 10.0, 15.0],\n",
      " 'product': ['banana', 'orange', 'apple', 'peppers', 'banana', 'orange', 'apple', 'peppers'],\n",
      " 'quantity': ['1 kg', '1 kg', '1 kg', '1 kg', '10 kg', '10 kg', '10 kg', '10 kg']}\n",
      "\n",
      "json_xa is the JSON-TAB format with \"optimize\" mode\n",
      "\n",
      "{'index': [2, 0, 1, 3, 6, 4, 5, 7],\n",
      " 'plants': [['fruit', 'vegetable'], [0, 0, 0, 1, 0, 0, 0, 1]],\n",
      " 'price': [[0.5, 1.0, 1.5, 2.0, 5.0, 10.0, 15.0, 20.0], [1, 0, 3, 2, 5, 4, 7, 6]],\n",
      " 'product': [['apple', 'banana', 'orange', 'peppers'], [1]],\n",
      " 'quantity': [['1 kg', '10 kg'], [4]]}\n",
      "\n",
      "DataFrame from the two JSON-TAB format are identical ?  True\n",
      "\n",
      "The \"optimize\" JSON-TAB format is the image of the DataArray Xarray\n"
     ]
    },
    {
     "data": {
      "text/html": [
       "<div><svg style=\"position: absolute; width: 0; height: 0; overflow: hidden\">\n",
       "<defs>\n",
       "<symbol id=\"icon-database\" viewBox=\"0 0 32 32\">\n",
       "<path d=\"M16 0c-8.837 0-16 2.239-16 5v4c0 2.761 7.163 5 16 5s16-2.239 16-5v-4c0-2.761-7.163-5-16-5z\"></path>\n",
       "<path d=\"M16 17c-8.837 0-16-2.239-16-5v6c0 2.761 7.163 5 16 5s16-2.239 16-5v-6c0 2.761-7.163 5-16 5z\"></path>\n",
       "<path d=\"M16 26c-8.837 0-16-2.239-16-5v6c0 2.761 7.163 5 16 5s16-2.239 16-5v-6c0 2.761-7.163 5-16 5z\"></path>\n",
       "</symbol>\n",
       "<symbol id=\"icon-file-text2\" viewBox=\"0 0 32 32\">\n",
       "<path d=\"M28.681 7.159c-0.694-0.947-1.662-2.053-2.724-3.116s-2.169-2.030-3.116-2.724c-1.612-1.182-2.393-1.319-2.841-1.319h-15.5c-1.378 0-2.5 1.121-2.5 2.5v27c0 1.378 1.122 2.5 2.5 2.5h23c1.378 0 2.5-1.122 2.5-2.5v-19.5c0-0.448-0.137-1.23-1.319-2.841zM24.543 5.457c0.959 0.959 1.712 1.825 2.268 2.543h-4.811v-4.811c0.718 0.556 1.584 1.309 2.543 2.268zM28 29.5c0 0.271-0.229 0.5-0.5 0.5h-23c-0.271 0-0.5-0.229-0.5-0.5v-27c0-0.271 0.229-0.5 0.5-0.5 0 0 15.499-0 15.5 0v7c0 0.552 0.448 1 1 1h7v19.5z\"></path>\n",
       "<path d=\"M23 26h-14c-0.552 0-1-0.448-1-1s0.448-1 1-1h14c0.552 0 1 0.448 1 1s-0.448 1-1 1z\"></path>\n",
       "<path d=\"M23 22h-14c-0.552 0-1-0.448-1-1s0.448-1 1-1h14c0.552 0 1 0.448 1 1s-0.448 1-1 1z\"></path>\n",
       "<path d=\"M23 18h-14c-0.552 0-1-0.448-1-1s0.448-1 1-1h14c0.552 0 1 0.448 1 1s-0.448 1-1 1z\"></path>\n",
       "</symbol>\n",
       "</defs>\n",
       "</svg>\n",
       "<style>/* CSS stylesheet for displaying xarray objects in jupyterlab.\n",
       " *\n",
       " */\n",
       "\n",
       ":root {\n",
       "  --xr-font-color0: var(--jp-content-font-color0, rgba(0, 0, 0, 1));\n",
       "  --xr-font-color2: var(--jp-content-font-color2, rgba(0, 0, 0, 0.54));\n",
       "  --xr-font-color3: var(--jp-content-font-color3, rgba(0, 0, 0, 0.38));\n",
       "  --xr-border-color: var(--jp-border-color2, #e0e0e0);\n",
       "  --xr-disabled-color: var(--jp-layout-color3, #bdbdbd);\n",
       "  --xr-background-color: var(--jp-layout-color0, white);\n",
       "  --xr-background-color-row-even: var(--jp-layout-color1, white);\n",
       "  --xr-background-color-row-odd: var(--jp-layout-color2, #eeeeee);\n",
       "}\n",
       "\n",
       "html[theme=dark],\n",
       "body[data-theme=dark],\n",
       "body.vscode-dark {\n",
       "  --xr-font-color0: rgba(255, 255, 255, 1);\n",
       "  --xr-font-color2: rgba(255, 255, 255, 0.54);\n",
       "  --xr-font-color3: rgba(255, 255, 255, 0.38);\n",
       "  --xr-border-color: #1F1F1F;\n",
       "  --xr-disabled-color: #515151;\n",
       "  --xr-background-color: #111111;\n",
       "  --xr-background-color-row-even: #111111;\n",
       "  --xr-background-color-row-odd: #313131;\n",
       "}\n",
       "\n",
       ".xr-wrap {\n",
       "  display: block !important;\n",
       "  min-width: 300px;\n",
       "  max-width: 700px;\n",
       "}\n",
       "\n",
       ".xr-text-repr-fallback {\n",
       "  /* fallback to plain text repr when CSS is not injected (untrusted notebook) */\n",
       "  display: none;\n",
       "}\n",
       "\n",
       ".xr-header {\n",
       "  padding-top: 6px;\n",
       "  padding-bottom: 6px;\n",
       "  margin-bottom: 4px;\n",
       "  border-bottom: solid 1px var(--xr-border-color);\n",
       "}\n",
       "\n",
       ".xr-header > div,\n",
       ".xr-header > ul {\n",
       "  display: inline;\n",
       "  margin-top: 0;\n",
       "  margin-bottom: 0;\n",
       "}\n",
       "\n",
       ".xr-obj-type,\n",
       ".xr-array-name {\n",
       "  margin-left: 2px;\n",
       "  margin-right: 10px;\n",
       "}\n",
       "\n",
       ".xr-obj-type {\n",
       "  color: var(--xr-font-color2);\n",
       "}\n",
       "\n",
       ".xr-sections {\n",
       "  padding-left: 0 !important;\n",
       "  display: grid;\n",
       "  grid-template-columns: 150px auto auto 1fr 20px 20px;\n",
       "}\n",
       "\n",
       ".xr-section-item {\n",
       "  display: contents;\n",
       "}\n",
       "\n",
       ".xr-section-item input {\n",
       "  display: none;\n",
       "}\n",
       "\n",
       ".xr-section-item input + label {\n",
       "  color: var(--xr-disabled-color);\n",
       "}\n",
       "\n",
       ".xr-section-item input:enabled + label {\n",
       "  cursor: pointer;\n",
       "  color: var(--xr-font-color2);\n",
       "}\n",
       "\n",
       ".xr-section-item input:enabled + label:hover {\n",
       "  color: var(--xr-font-color0);\n",
       "}\n",
       "\n",
       ".xr-section-summary {\n",
       "  grid-column: 1;\n",
       "  color: var(--xr-font-color2);\n",
       "  font-weight: 500;\n",
       "}\n",
       "\n",
       ".xr-section-summary > span {\n",
       "  display: inline-block;\n",
       "  padding-left: 0.5em;\n",
       "}\n",
       "\n",
       ".xr-section-summary-in:disabled + label {\n",
       "  color: var(--xr-font-color2);\n",
       "}\n",
       "\n",
       ".xr-section-summary-in + label:before {\n",
       "  display: inline-block;\n",
       "  content: '►';\n",
       "  font-size: 11px;\n",
       "  width: 15px;\n",
       "  text-align: center;\n",
       "}\n",
       "\n",
       ".xr-section-summary-in:disabled + label:before {\n",
       "  color: var(--xr-disabled-color);\n",
       "}\n",
       "\n",
       ".xr-section-summary-in:checked + label:before {\n",
       "  content: '▼';\n",
       "}\n",
       "\n",
       ".xr-section-summary-in:checked + label > span {\n",
       "  display: none;\n",
       "}\n",
       "\n",
       ".xr-section-summary,\n",
       ".xr-section-inline-details {\n",
       "  padding-top: 4px;\n",
       "  padding-bottom: 4px;\n",
       "}\n",
       "\n",
       ".xr-section-inline-details {\n",
       "  grid-column: 2 / -1;\n",
       "}\n",
       "\n",
       ".xr-section-details {\n",
       "  display: none;\n",
       "  grid-column: 1 / -1;\n",
       "  margin-bottom: 5px;\n",
       "}\n",
       "\n",
       ".xr-section-summary-in:checked ~ .xr-section-details {\n",
       "  display: contents;\n",
       "}\n",
       "\n",
       ".xr-array-wrap {\n",
       "  grid-column: 1 / -1;\n",
       "  display: grid;\n",
       "  grid-template-columns: 20px auto;\n",
       "}\n",
       "\n",
       ".xr-array-wrap > label {\n",
       "  grid-column: 1;\n",
       "  vertical-align: top;\n",
       "}\n",
       "\n",
       ".xr-preview {\n",
       "  color: var(--xr-font-color3);\n",
       "}\n",
       "\n",
       ".xr-array-preview,\n",
       ".xr-array-data {\n",
       "  padding: 0 5px !important;\n",
       "  grid-column: 2;\n",
       "}\n",
       "\n",
       ".xr-array-data,\n",
       ".xr-array-in:checked ~ .xr-array-preview {\n",
       "  display: none;\n",
       "}\n",
       "\n",
       ".xr-array-in:checked ~ .xr-array-data,\n",
       ".xr-array-preview {\n",
       "  display: inline-block;\n",
       "}\n",
       "\n",
       ".xr-dim-list {\n",
       "  display: inline-block !important;\n",
       "  list-style: none;\n",
       "  padding: 0 !important;\n",
       "  margin: 0;\n",
       "}\n",
       "\n",
       ".xr-dim-list li {\n",
       "  display: inline-block;\n",
       "  padding: 0;\n",
       "  margin: 0;\n",
       "}\n",
       "\n",
       ".xr-dim-list:before {\n",
       "  content: '(';\n",
       "}\n",
       "\n",
       ".xr-dim-list:after {\n",
       "  content: ')';\n",
       "}\n",
       "\n",
       ".xr-dim-list li:not(:last-child):after {\n",
       "  content: ',';\n",
       "  padding-right: 5px;\n",
       "}\n",
       "\n",
       ".xr-has-index {\n",
       "  font-weight: bold;\n",
       "}\n",
       "\n",
       ".xr-var-list,\n",
       ".xr-var-item {\n",
       "  display: contents;\n",
       "}\n",
       "\n",
       ".xr-var-item > div,\n",
       ".xr-var-item label,\n",
       ".xr-var-item > .xr-var-name span {\n",
       "  background-color: var(--xr-background-color-row-even);\n",
       "  margin-bottom: 0;\n",
       "}\n",
       "\n",
       ".xr-var-item > .xr-var-name:hover span {\n",
       "  padding-right: 5px;\n",
       "}\n",
       "\n",
       ".xr-var-list > li:nth-child(odd) > div,\n",
       ".xr-var-list > li:nth-child(odd) > label,\n",
       ".xr-var-list > li:nth-child(odd) > .xr-var-name span {\n",
       "  background-color: var(--xr-background-color-row-odd);\n",
       "}\n",
       "\n",
       ".xr-var-name {\n",
       "  grid-column: 1;\n",
       "}\n",
       "\n",
       ".xr-var-dims {\n",
       "  grid-column: 2;\n",
       "}\n",
       "\n",
       ".xr-var-dtype {\n",
       "  grid-column: 3;\n",
       "  text-align: right;\n",
       "  color: var(--xr-font-color2);\n",
       "}\n",
       "\n",
       ".xr-var-preview {\n",
       "  grid-column: 4;\n",
       "}\n",
       "\n",
       ".xr-index-preview {\n",
       "  grid-column: 2 / 5;\n",
       "  color: var(--xr-font-color2);\n",
       "}\n",
       "\n",
       ".xr-var-name,\n",
       ".xr-var-dims,\n",
       ".xr-var-dtype,\n",
       ".xr-preview,\n",
       ".xr-attrs dt {\n",
       "  white-space: nowrap;\n",
       "  overflow: hidden;\n",
       "  text-overflow: ellipsis;\n",
       "  padding-right: 10px;\n",
       "}\n",
       "\n",
       ".xr-var-name:hover,\n",
       ".xr-var-dims:hover,\n",
       ".xr-var-dtype:hover,\n",
       ".xr-attrs dt:hover {\n",
       "  overflow: visible;\n",
       "  width: auto;\n",
       "  z-index: 1;\n",
       "}\n",
       "\n",
       ".xr-var-attrs,\n",
       ".xr-var-data,\n",
       ".xr-index-data {\n",
       "  display: none;\n",
       "  background-color: var(--xr-background-color) !important;\n",
       "  padding-bottom: 5px !important;\n",
       "}\n",
       "\n",
       ".xr-var-attrs-in:checked ~ .xr-var-attrs,\n",
       ".xr-var-data-in:checked ~ .xr-var-data,\n",
       ".xr-index-data-in:checked ~ .xr-index-data {\n",
       "  display: block;\n",
       "}\n",
       "\n",
       ".xr-var-data > table {\n",
       "  float: right;\n",
       "}\n",
       "\n",
       ".xr-var-name span,\n",
       ".xr-var-data,\n",
       ".xr-index-name div,\n",
       ".xr-index-data,\n",
       ".xr-attrs {\n",
       "  padding-left: 25px !important;\n",
       "}\n",
       "\n",
       ".xr-attrs,\n",
       ".xr-var-attrs,\n",
       ".xr-var-data,\n",
       ".xr-index-data {\n",
       "  grid-column: 1 / -1;\n",
       "}\n",
       "\n",
       "dl.xr-attrs {\n",
       "  padding: 0;\n",
       "  margin: 0;\n",
       "  display: grid;\n",
       "  grid-template-columns: 125px auto;\n",
       "}\n",
       "\n",
       ".xr-attrs dt,\n",
       ".xr-attrs dd {\n",
       "  padding: 0;\n",
       "  margin: 0;\n",
       "  float: left;\n",
       "  padding-right: 10px;\n",
       "  width: auto;\n",
       "}\n",
       "\n",
       ".xr-attrs dt {\n",
       "  font-weight: normal;\n",
       "  grid-column: 1;\n",
       "}\n",
       "\n",
       ".xr-attrs dt:hover span {\n",
       "  display: inline-block;\n",
       "  background: var(--xr-background-color);\n",
       "  padding-right: 10px;\n",
       "}\n",
       "\n",
       ".xr-attrs dd {\n",
       "  grid-column: 2;\n",
       "  white-space: pre-wrap;\n",
       "  word-break: break-all;\n",
       "}\n",
       "\n",
       ".xr-icon-database,\n",
       ".xr-icon-file-text2,\n",
       ".xr-no-icon {\n",
       "  display: inline-block;\n",
       "  vertical-align: middle;\n",
       "  width: 1em;\n",
       "  height: 1.5em !important;\n",
       "  stroke-width: 0;\n",
       "  stroke: currentColor;\n",
       "  fill: currentColor;\n",
       "}\n",
       "</style><pre class='xr-text-repr-fallback'>&lt;xarray.DataArray &#x27;price&#x27; (quantity: 2, product: 4)&gt;\n",
       "array([[0.5, 2.0, 1.0, 1.5],\n",
       "       [5.0, 20.0, 10.0, 15.0]], dtype=object)\n",
       "Coordinates:\n",
       "  * quantity  (quantity) object &#x27;1 kg&#x27; &#x27;10 kg&#x27;\n",
       "  * product   (product) object &#x27;banana&#x27; &#x27;orange&#x27; &#x27;apple&#x27; &#x27;peppers&#x27;\n",
       "    plants    (product) object &#x27;fruit&#x27; &#x27;fruit&#x27; &#x27;fruit&#x27; &#x27;vegetable&#x27;</pre><div class='xr-wrap' style='display:none'><div class='xr-header'><div class='xr-obj-type'>xarray.DataArray</div><div class='xr-array-name'>'price'</div><ul class='xr-dim-list'><li><span class='xr-has-index'>quantity</span>: 2</li><li><span class='xr-has-index'>product</span>: 4</li></ul></div><ul class='xr-sections'><li class='xr-section-item'><div class='xr-array-wrap'><input id='section-22149868-d8a6-4c62-bf20-d1169c120e4b' class='xr-array-in' type='checkbox' checked><label for='section-22149868-d8a6-4c62-bf20-d1169c120e4b' title='Show/hide data repr'><svg class='icon xr-icon-database'><use xlink:href='#icon-database'></use></svg></label><div class='xr-array-preview xr-preview'><span>0.5 2.0 1.0 1.5 5.0 20.0 10.0 15.0</span></div><div class='xr-array-data'><pre>array([[0.5, 2.0, 1.0, 1.5],\n",
       "       [5.0, 20.0, 10.0, 15.0]], dtype=object)</pre></div></div></li><li class='xr-section-item'><input id='section-d733d0bf-44a4-4665-8957-4a44dfc71af7' class='xr-section-summary-in' type='checkbox'  checked><label for='section-d733d0bf-44a4-4665-8957-4a44dfc71af7' class='xr-section-summary' >Coordinates: <span>(3)</span></label><div class='xr-section-inline-details'></div><div class='xr-section-details'><ul class='xr-var-list'><li class='xr-var-item'><div class='xr-var-name'><span class='xr-has-index'>quantity</span></div><div class='xr-var-dims'>(quantity)</div><div class='xr-var-dtype'>object</div><div class='xr-var-preview xr-preview'>&#x27;1 kg&#x27; &#x27;10 kg&#x27;</div><input id='attrs-5f96e697-0318-4b8b-a790-8a5acf42a88c' class='xr-var-attrs-in' type='checkbox' disabled><label for='attrs-5f96e697-0318-4b8b-a790-8a5acf42a88c' title='Show/Hide attributes'><svg class='icon xr-icon-file-text2'><use xlink:href='#icon-file-text2'></use></svg></label><input id='data-79748d5f-67c0-4f09-96f9-3db93582af17' class='xr-var-data-in' type='checkbox'><label for='data-79748d5f-67c0-4f09-96f9-3db93582af17' title='Show/Hide data repr'><svg class='icon xr-icon-database'><use xlink:href='#icon-database'></use></svg></label><div class='xr-var-attrs'><dl class='xr-attrs'></dl></div><div class='xr-var-data'><pre>array([&#x27;1 kg&#x27;, &#x27;10 kg&#x27;], dtype=object)</pre></div></li><li class='xr-var-item'><div class='xr-var-name'><span class='xr-has-index'>product</span></div><div class='xr-var-dims'>(product)</div><div class='xr-var-dtype'>object</div><div class='xr-var-preview xr-preview'>&#x27;banana&#x27; &#x27;orange&#x27; &#x27;apple&#x27; &#x27;peppers&#x27;</div><input id='attrs-7207631c-632e-4171-92da-d7b580645d67' class='xr-var-attrs-in' type='checkbox' disabled><label for='attrs-7207631c-632e-4171-92da-d7b580645d67' title='Show/Hide attributes'><svg class='icon xr-icon-file-text2'><use xlink:href='#icon-file-text2'></use></svg></label><input id='data-cb4c7427-2e79-4f0b-91d4-0a293d40290d' class='xr-var-data-in' type='checkbox'><label for='data-cb4c7427-2e79-4f0b-91d4-0a293d40290d' title='Show/Hide data repr'><svg class='icon xr-icon-database'><use xlink:href='#icon-database'></use></svg></label><div class='xr-var-attrs'><dl class='xr-attrs'></dl></div><div class='xr-var-data'><pre>array([&#x27;banana&#x27;, &#x27;orange&#x27;, &#x27;apple&#x27;, &#x27;peppers&#x27;], dtype=object)</pre></div></li><li class='xr-var-item'><div class='xr-var-name'><span>plants</span></div><div class='xr-var-dims'>(product)</div><div class='xr-var-dtype'>object</div><div class='xr-var-preview xr-preview'>&#x27;fruit&#x27; &#x27;fruit&#x27; &#x27;fruit&#x27; &#x27;vegetable&#x27;</div><input id='attrs-cd7f60ed-8df4-4689-8b83-0fb43071fbcf' class='xr-var-attrs-in' type='checkbox' disabled><label for='attrs-cd7f60ed-8df4-4689-8b83-0fb43071fbcf' title='Show/Hide attributes'><svg class='icon xr-icon-file-text2'><use xlink:href='#icon-file-text2'></use></svg></label><input id='data-253c63a9-c7df-4ce3-9099-bf0f5f6dc386' class='xr-var-data-in' type='checkbox'><label for='data-253c63a9-c7df-4ce3-9099-bf0f5f6dc386' title='Show/Hide data repr'><svg class='icon xr-icon-database'><use xlink:href='#icon-database'></use></svg></label><div class='xr-var-attrs'><dl class='xr-attrs'></dl></div><div class='xr-var-data'><pre>array([&#x27;fruit&#x27;, &#x27;fruit&#x27;, &#x27;fruit&#x27;, &#x27;vegetable&#x27;], dtype=object)</pre></div></li></ul></div></li><li class='xr-section-item'><input id='section-928e65de-d729-468d-a963-77405c977399' class='xr-section-summary-in' type='checkbox'  ><label for='section-928e65de-d729-468d-a963-77405c977399' class='xr-section-summary' >Indexes: <span>(2)</span></label><div class='xr-section-inline-details'></div><div class='xr-section-details'><ul class='xr-var-list'><li class='xr-var-item'><div class='xr-index-name'><div>quantity</div></div><div class='xr-index-preview'>PandasIndex</div><div></div><input id='index-2212134c-ecc5-4c33-89e4-e5e901657085' class='xr-index-data-in' type='checkbox'/><label for='index-2212134c-ecc5-4c33-89e4-e5e901657085' title='Show/Hide index repr'><svg class='icon xr-icon-database'><use xlink:href='#icon-database'></use></svg></label><div class='xr-index-data'><pre>PandasIndex(Index([&#x27;1 kg&#x27;, &#x27;10 kg&#x27;], dtype=&#x27;object&#x27;, name=&#x27;quantity&#x27;))</pre></div></li><li class='xr-var-item'><div class='xr-index-name'><div>product</div></div><div class='xr-index-preview'>PandasIndex</div><div></div><input id='index-b39b81d0-b0ca-48af-a7e7-07913d0962ee' class='xr-index-data-in' type='checkbox'/><label for='index-b39b81d0-b0ca-48af-a7e7-07913d0962ee' title='Show/Hide index repr'><svg class='icon xr-icon-database'><use xlink:href='#icon-database'></use></svg></label><div class='xr-index-data'><pre>PandasIndex(Index([&#x27;banana&#x27;, &#x27;orange&#x27;, &#x27;apple&#x27;, &#x27;peppers&#x27;], dtype=&#x27;object&#x27;, name=&#x27;product&#x27;))</pre></div></li></ul></div></li><li class='xr-section-item'><input id='section-cc87db29-d6dd-4ad2-ae1a-a7ab2f4fc198' class='xr-section-summary-in' type='checkbox' disabled ><label for='section-cc87db29-d6dd-4ad2-ae1a-a7ab2f4fc198' class='xr-section-summary'  title='Expand/collapse section'>Attributes: <span>(0)</span></label><div class='xr-section-inline-details'></div><div class='xr-section-details'><dl class='xr-attrs'></dl></div></li></ul></div></div>"
      ],
      "text/plain": [
       "<xarray.DataArray 'price' (quantity: 2, product: 4)>\n",
       "array([[0.5, 2.0, 1.0, 1.5],\n",
       "       [5.0, 20.0, 10.0, 15.0]], dtype=object)\n",
       "Coordinates:\n",
       "  * quantity  (quantity) object '1 kg' '10 kg'\n",
       "  * product   (product) object 'banana' 'orange' 'apple' 'peppers'\n",
       "    plants    (product) object 'fruit' 'fruit' 'fruit' 'vegetable'"
      ]
     },
     "execution_count": 29,
     "metadata": {},
     "output_type": "execute_result"
    }
   ],
   "source": [
    "json_df = Ntv.obj(df).to_obj()[':tab']\n",
    "print('json_df is the JSON-TAB format with \"full\" mode\\n')\n",
    "pprint(json_df, width=200)\n",
    "\n",
    "json_xar = Ntv.obj(df2).to_obj()[':tab']\n",
    "print('\\njson_xa is the JSON-TAB format with \"optimize\" mode\\n')\n",
    "pprint(json_xar, width=200)\n",
    "\n",
    "df_from_xar = Ntv.obj({':tab': json_xar}).to_obj(format='obj').sort_index()\n",
    "print('\\nDataFrame from the two JSON-TAB format are identical ? ', df.astype('object').equals(df_from_xar.astype('object')))\n",
    "\n",
    "print('\\nThe \"optimize\" JSON-TAB format is the image of the DataArray Xarray')\n",
    "from observation import Sdataset\n",
    "Sdataset.ntv(json_df).setcanonorder().to_xarray(varname='price')"
   ]
  },
  {
   "cell_type": "markdown",
   "id": "57322f1d",
   "metadata": {},
   "source": [
    "## 4 - Appendix : Series tests"
   ]
  },
  {
   "cell_type": "code",
   "execution_count": 30,
   "id": "5f07553d",
   "metadata": {
    "scrolled": false
   },
   "outputs": [
    {
     "name": "stdout",
     "output_type": "stream",
     "text": [
      "True True {':field': [{'a': 2, 'e': 4}, {'a': 3, 'e': 5}, {'a': 4, 'e': 6}]}\n",
      "True True {':field': [[1, 2], [3, 4], [5, 6]]}\n",
      "True True {':field': [[1, 2], [3, 4], {'a': 3, 'e': 5}]}\n",
      "True True {':field': [True, False, True]}\n",
      "True True {':field': ['az', 'er', 'cd']}\n",
      "True True {':field': ['az', 'az', 'az']}\n",
      "True True {':field': [1, 2, 3]}\n",
      "True True {':field': [1.1, 2.0, 3.0]}\n",
      "True True {':field': [10, 20, 30]}\n",
      "True True {':field': [True, False, True]}\n",
      "True True {':field': [1.1, 2.0, 3.0]}\n",
      "True True {':field': {'::datetime': [None, None, None]}}\n",
      "True True {':field': {'::datetime': ['2022-01-01T00:00:00.000', '2022-01-02T00:00:00.000']}}\n",
      "True True {':field': {'::duration': ['P1DT0H0M0S', 'P2DT0H0M0S']}}\n",
      "True True {':field': {'::string': ['az', 'er', 'cd']}}\n",
      "True True {':field': {'::int32': [1, 2, 3]}}\n",
      "True True {':field': {'::uint64': [1, 2, 3]}}\n",
      "True True {':field': {'::float32': [1.0, 2.0, 3.0]}}\n",
      "True True {':field': {'::int64': [1, 2, 3]}}\n",
      "True True {':field': {'::float64': [1.0, 2.0, 3.0]}}\n",
      "True True {':field': {'::array': [[1, 2], [3, 4], [5, 6]]}}\n",
      "True True {':field': {'::object': [{'a': 2, 'e': 4}, {'a': 3, 'e': 5}, {'a': 4, 'e': 6}]}}\n",
      "True True {':field': {'::null': [None, None, None]}}\n",
      "True True {':field': {'::uri': ['geo:13.412 ,103.866', 'mailto:John.Doe@example.com']}}\n",
      "True True {':field': {'::file': ['///path/to/file', '//host.example.com/path/to/file']}}\n",
      "True True {':field': {'::date': ['2022-01-01', '2022-01-02']}}\n",
      "True True {':field': {'::time': ['10:21:01', '08:01:02']}}\n",
      "True True {':field': {'::day': [1, 2, 3]}}\n",
      "True True {':field': {'::year': [2001, 2002, 2003]}}\n",
      "True True {':field': {'::minute': [21, 10, 55]}}\n",
      "True True {':field': {'::point': [[1.0, 0.0], [1.0, 1.0], [1.0, 2.0]]}}\n"
     ]
    }
   ],
   "source": [
    "# json interface ok\n",
    "srs = [\n",
    "       # without ntv_type, without dtype\n",
    "       pd.Series([{'a': 2, 'e':4}, {'a': 3, 'e':5}, {'a': 4, 'e':6}]),  \n",
    "       pd.Series([[1,2], [3,4], [5,6]]),  \n",
    "       pd.Series([[1,2], [3,4], {'a': 3, 'e':5}]),  \n",
    "       pd.Series([True, False, True]),\n",
    "       pd.Series(['az', 'er', 'cd']),\n",
    "       pd.Series(['az', 'az', 'az']),\n",
    "       pd.Series([1,2,3]),\n",
    "       pd.Series([1.1,2,3]),\n",
    "       \n",
    "       # without ntv_type, with dtype\n",
    "       pd.Series([10,20,30], dtype='Int64'),\n",
    "       pd.Series([True, False, True], dtype='boolean'),\n",
    "       pd.Series([1.1, 2, 3], dtype='float64'), \n",
    "\n",
    "       # with ntv_type only in json data (not numbers)\n",
    "       pd.Series([pd.NaT, pd.NaT, pd.NaT]),\n",
    "       pd.Series([datetime(2022, 1, 1), datetime(2022, 1, 2)], dtype='datetime64[ns]'),\n",
    "       pd.Series(pd.to_timedelta(['1D', '2D'])),\n",
    "       pd.Series(['az', 'er', 'cd'], dtype='string'), \n",
    "\n",
    "       # with ntv_type only in json data (numbers)\n",
    "       pd.Series([1,2,3], dtype='Int32'), \n",
    "       pd.Series([1,2,3], dtype='UInt64'),\n",
    "       pd.Series([1,2,3], dtype='float32'),\n",
    "\n",
    "       # with ntv_type in Series name and in json data (numbers)\n",
    "       pd.Series([1,2,3], name='::int64'),\n",
    "       pd.Series([1,2,3], dtype='Float64', name='::float64'), # force dtype dans la conversion json\n",
    "\n",
    "       # with ntv_type in Series name and in json data (not numbers)\n",
    "       pd.Series([[1,2], [3,4], [5,6]], name='::array'),  \n",
    "       pd.Series([{'a': 2, 'e':4}, {'a': 3, 'e':5}, {'a': 4, 'e':6}], name='::object'),  \n",
    "       pd.Series([None, None, None], name='::null'), \n",
    "       pd.Series([\"geo:13.412 ,103.866\", \"mailto:John.Doe@example.com\"], name='::uri', dtype='string'),\n",
    "       pd.Series([\"///path/to/file\", \"//host.example.com/path/to/file\"], name='::file', dtype='string'),\n",
    "\n",
    "       # with ntv_type converted in object dtype (not in datetime)\n",
    "       pd.Series([date(2022, 1, 1), date(2022, 1, 2)], name='::date'),\n",
    "       pd.Series([time(10, 21, 1),  time(8, 1, 2)],    name='::time'),\n",
    "\n",
    "       # with ntv_type unknown in pandas and with pandas conversion               \n",
    "       pd.Series([1,2,3], dtype='int64', name='::day'),\n",
    "       pd.Series([2001,2002,2003], dtype='int64', name='::year'),\n",
    "       pd.Series([21,10,55], name='::minute'),\n",
    "\n",
    "       # with ntv_type unknown in pandas and NTV conversion\n",
    "       pd.Series([Point(1, 0), Point(1, 1), Point(1, 2)], name='::point'),\n",
    "]\n",
    "for sr in srs:\n",
    "    print(as_def_type(sr).equals(read_json(to_json(sr))), \n",
    "          read_json(to_json(sr)).name == sr.name, \n",
    "          to_json(sr))  "
   ]
  },
  {
   "cell_type": "code",
   "execution_count": 31,
   "id": "090ad57b",
   "metadata": {},
   "outputs": [
    {
     "name": "stdout",
     "output_type": "stream",
     "text": [
      "True {':field': {'test::int32': [1, 2, 3]}}\n",
      "True {':field': {'test': [1, 2, 3]}}\n",
      "True {':field': [1.0, 2.1, 3.0]}\n",
      "True {':field': ['er', 'et', 'ez']}\n",
      "True {':field': [True, False, True]}\n",
      "True {':field': {'::boolean': [True, False, True]}}\n",
      "True {':field': {'::string': ['er', 'et', 'ez']}}\n",
      "True {':field': {'test::float32': [1.0, 2.5, 3.0]}}\n",
      "True {':field': {'::int64': [1, 2, 3]}}\n",
      "True {':field': {'::datetime': ['2021-12-31T23:00:00.000', '2022-01-01T23:00:00.000']}}\n",
      "True {':field': {'::date': ['2021-12-31', '2022-01-01']}}\n",
      "True {':field': {'::time': ['23:00:00', '23:01:00']}}\n",
      "True {':field': {'::object': [{'a': 3, 'e': 5}, {'a': 4, 'e': 6}]}}\n",
      "True {':field': {'::array': [[1, 2], [3, 4], [5, 6]]}}\n",
      "True {':field': True}\n",
      "True {':field': {':boolean': True}}\n"
     ]
    }
   ],
   "source": [
    "# json interface ok\n",
    "for a in [{'test::int32': [1,2,3]},\n",
    "          {'test': [1,2,3]},\n",
    "          [1.0, 2.1, 3.0],\n",
    "          ['er', 'et', 'ez'],\n",
    "          [True, False, True],\n",
    "          {'::boolean': [True, False, True]},\n",
    "          {'::string': ['er', 'et', 'ez']},\n",
    "          {'test::float32': [1.0, 2.5, 3.0]},\n",
    "          {'::int64': [1,2,3]},\n",
    "          {'::datetime': [\"2021-12-31T23:00:00.000\",\"2022-01-01T23:00:00.000\"] },\n",
    "          {'::date': [\"2021-12-31\", \"2022-01-01\"] },\n",
    "          {'::time': [\"23:00:00\", \"23:01:00\"] },\n",
    "          {'::object': [{'a': 3, 'e':5}, {'a': 4, 'e':6}]},\n",
    "          {'::array': [[1,2], [3,4], [5,6]]},\n",
    "          True,\n",
    "          {':boolean': True}\n",
    "         ]:\n",
    "    field = {':field': a}\n",
    "    print(to_json(read_json(field)) == field, field)"
   ]
  },
  {
   "cell_type": "code",
   "execution_count": 32,
   "id": "a878011a",
   "metadata": {},
   "outputs": [
    {
     "name": "stdout",
     "output_type": "stream",
     "text": [
      "True {':field': {'test': [{'::int32': [1, 2, 3]}, [0, 1, 2, 0, 1]]}}\n",
      "True {':field': {'test': [[1, 2, 3], [0, 1, 2, 0, 1]]}}\n",
      "True {':field': [[1.0, 2.1, 3.0], [0, 1, 2, 0, 1]]}\n",
      "True {':field': [['er', 'et', 'ez'], [0, 1, 2, 0, 1]]}\n",
      "True {':field': [[True, False], [0, 1, 0, 1, 0]]}\n",
      "True {':field': [{'::string': ['er', 'et', 'ez']}, [0, 1, 2, 0, 1]]}\n",
      "True {':field': {'test': [{'::float32': [1.0, 2.5, 3.0]}, [0, 1, 2, 0, 1]]}}\n",
      "True {':field': [{'::int64': [1, 2, 3]}, [0, 1, 2, 0, 1]]}\n",
      "True {':field': [{'::datetime': ['2021-12-31T23:00:00.000', '2022-01-01T23:00:00.000']}, [0, 1, 0, 1, 0]]}\n",
      "True {':field': [{'::date': ['2021-12-31', '2022-01-01']}, [0, 1, 0, 1, 0]]}\n",
      "True {':field': [{'::time': ['23:00:00', '23:01:00']}, [0, 1, 0, 1, 0]]}\n",
      "True {':field': {'test_date': [{'::datetime': ['2021-12-31T23:00:00.000', '2022-01-01T23:00:00.000']}, [0, 1, 0, 1, 0]]}}\n",
      "True {':field': [{'::boolean': [True, False]}, [0, 1, 0, 1, 0]]}\n",
      "True {':field': [[True], [2]]}\n",
      "True {':field': {'quantity': [['1 kg', '10 kg'], [4]]}}\n"
     ]
    }
   ],
   "source": [
    "# json interface ok (categorical data)\n",
    "for a in [{'test': [{'::int32': [1, 2, 3]}, [0,1,2,0,1]]},\n",
    "          {'test': [[1, 2, 3], [0,1,2,0,1]]},\n",
    "          [[1.0, 2.1, 3.0], [0,1,2,0,1]],\n",
    "          [['er', 'et', 'ez'], [0,1,2,0,1]],\n",
    "          [[True, False], [0,1,0,1,0]],\n",
    "          [{'::string': ['er', 'et', 'ez']}, [0,1,2,0,1]],\n",
    "          {'test':[{'::float32': [1.0, 2.5, 3.0]}, [0,1,2,0,1]]},\n",
    "          [{'::int64': [1, 2, 3]}, [0,1,2,0,1]],\n",
    "          [{'::datetime': [\"2021-12-31T23:00:00.000\", \"2022-01-01T23:00:00.000\"] }, [0,1,0,1,0]],\n",
    "          [{'::date': [\"2021-12-31\", \"2022-01-01\"] }, [0,1,0,1,0]],\n",
    "          [{'::time': [\"23:00:00\", \"23:01:00\"] }, [0,1,0,1,0]],\n",
    "          {'test_date': [{'::datetime': [\"2021-12-31T23:00:00.000\", \"2022-01-01T23:00:00.000\"] }, [0,1,0,1,0]]},\n",
    "          [{'::boolean': [True, False]}, [0,1,0,1,0]],\n",
    "          [[True], [2]], # periodic Series\n",
    "          {'quantity': [['1 kg', '10 kg'], [4]]}]:  # periodic Series\n",
    "    field = {':field': a}\n",
    "    print(to_json(read_json(field)) == field, field)"
   ]
  },
  {
   "cell_type": "code",
   "execution_count": 33,
   "id": "fc5c1c1f",
   "metadata": {
    "scrolled": false
   },
   "outputs": [
    {
     "name": "stdout",
     "output_type": "stream",
     "text": [
      "False True {\":field\": [null, null]}\n",
      "False True {\":field\": [null, null]}\n",
      "True False {\":field\": {\"::uint64\": [1, 2, 3]}}\n",
      "False True {\":field\": [\"2022-01-01T00:00:00.000\", \"2022-01-02T00:00:00.000\", \"2022-01-03T00:00:00.000\"]}\n"
     ]
    }
   ],
   "source": [
    "# json interface ko\n",
    "srs = [# without ntv_type\n",
    "       pd.Series([math.nan, math.nan]), # bug pandas conversion json : datetime NaT\n",
    "       \n",
    "       # without ntv_type, with dtype\n",
    "       pd.Series([math.nan, math.nan], dtype='float64'), # bug pandas conversion json : datetime NaT\n",
    "    \n",
    "       # with ntv_type in Series name and in json data\n",
    "       pd.Series([1,2,3], dtype='UInt64', name='::uint64'),   # name inutile\n",
    "       \n",
    "       # with ntv_type unknown in pandas\n",
    "       pd.Series([datetime(2022, 1, 1), datetime(2022, 1, 2), datetime(2022, 1, 3)], dtype='datetime64[ns, UTC]'), #à traiter\n",
    "]\n",
    "for sr in srs:\n",
    "    print(as_def_type(sr).equals(read_json(to_json(sr))), \n",
    "          read_json(to_json(sr)).name == sr.name, \n",
    "          to_json(sr, text=True))  "
   ]
  },
  {
   "cell_type": "code",
   "execution_count": 34,
   "id": "0319c881",
   "metadata": {},
   "outputs": [
    {
     "name": "stdout",
     "output_type": "stream",
     "text": [
      "False {':field': {'test_array': [{'::array': [[1, 2], [3, 4], [5, 6], [7, 8]]}, [0, 1, 0, 2, 3]]}}\n"
     ]
    }
   ],
   "source": [
    "# json interface ko (categorical data)\n",
    "for a in [{'test_array': [{'::array': [[1,2], [3,4], [5,6], [7,8]]}, [0, 1, 0, 2, 3]]}]: # list -> tuple to be hashable\n",
    "    field = {':field': a}\n",
    "    print(to_json(read_json(field)) == field, field)"
   ]
  },
  {
   "cell_type": "markdown",
   "id": "fd540ad3",
   "metadata": {},
   "source": [
    "## 5 - Appendix: JSON interface - option: \"table\""
   ]
  },
  {
   "cell_type": "markdown",
   "id": "9f4d9f74",
   "metadata": {},
   "source": [
    "### Converting pandas dtype to table-schema type"
   ]
  },
  {
   "cell_type": "markdown",
   "id": "75572433",
   "metadata": {},
   "source": [
    "- a part of pandas dtype (6 in full and 2 partially) are taken into account in the interface \n",
    "- `constraints` or `extDtype` members are added into table-schema header\n",
    "\n",
    "| **pandas**<br><br><br><br>dtype | **pandas**<br><br><br><br>dtype reverse | **pandas**<br><br>Reversible<br>(DataFrame are equal <br>and dtype are equal) | **table-schema**<br><br><br><br>type |\n",
    "| -------------------- | -------------------- | -------------------- | -------------------- |\n",
    "| datetime64[ns, <tz>]  | datetime64[ns, <tz>]          | yes | datetime<br>'tz': <tz> |\n",
    "| datetime64[ns]        | datetime64[ns]                | yes | datetime |\n",
    "| int64                 | int64                         | yes | integer |\n",
    "| float64               | float64                       | yes | number |\n",
    "| bool                  | bool                          | yes | boolean |\n",
    "| string                | string                        | yes | any<br>'extDtype': 'string' |\n",
    "| *category*              | category                      | depends on the dtype inside category | any<br>'enum': [xxxx] |\n",
    "| *object*                | object                        | depends on value type | string |\n",
    "| *Sparse[<dtype, fill>]* | <dtype>                       | no | type (from dtype)<br>'extDtype': 'Sparse[<dtype, fill>]' |\n",
    "| *int*                   | int64                         | no | integer |\n",
    "| *Intxx, UIntxx*         | int64                         | no | integer<br>'extDtype':dtype |\n",
    "| *float*                 | float64                       | no | number |\n",
    "| *float32*               | float64                       | no | number |\n",
    "| *Float64*               | float64                       | no | number<br>'extDtype':dtype |\n",
    "| *boolean*               | bool                          | no | boolean<br>'extDtype': 'boolean' |\n",
    "| *period[<freq>]*        | Read-json not available       | no | datetime<br>'freq': 'M' |\n",
    "| *timedelta64[ns]*       | Read_json not yet implemented | no | duration |\n",
    "| *interval*              | not available                 | no | string |\n",
    "    \n",
    " \n",
    "```python\n",
    "reversibility :\n",
    "    df_reverse = pd.read_json(df.to_json(orient='table'), orient='table')\n",
    "```"
   ]
  },
  {
   "cell_type": "markdown",
   "id": "65c4fd9e",
   "metadata": {},
   "source": [
    "### Converting table-schema type to pandas dtype"
   ]
  },
  {
   "cell_type": "markdown",
   "id": "576690ff",
   "metadata": {},
   "source": [
    "- 24 data types are defined in table-schema, 6 are taken into account in the interface\n",
    "\n",
    "| **Data**<br><br><br><br>Data type           | **table-schema**<br><br><br><br>format| **table-schema**<br><br><br><br>type | **pandas**<br><br><br>Specification<br>orient=’table’ |  **pandas**<br><br><br>read_json<br>orient=’table’ |\n",
    "| ------------------------------------------- | ---------------------------------- | -------------------- | -------------------- | -------------------- |\n",
    "| datetime                                    | default (datetime ISO8601 in UTC)  | datetime             | datetime64[ns] | ok |\n",
    "| number                                      | default                            | number               | float64 | ok |\n",
    "| integer                                     | default                            | integer              | int64 | ok |\n",
    "| boolean                                     | default                            | boolean              | bool | ok |\n",
    "| string                                      | default                            | string               | object | ok |\n",
    "| custom type                                 | default                            | any (custom type)    | category / string | ok |\n",
    "| *email*                                       | email                              | string               |  | Format not supported |\n",
    "| *uri*                                         | uri                                | string               |  | Format not supported |\n",
    "| *binary*                                      | Binary (base64 string)             | string               |  | Format not supported |\n",
    "| *uuid*                                        | uuid                               | string               |  | Format not supported |\n",
    "| *date, time or datetime with parsable format* | any (parsable ?)                   | date, time, datetime |  | Format partially supported |\n",
    "| *date, time or datetime with custom format*   | \\<PATTERN\\>                          | date, time, datetime |  | Format not supported |\n",
    "| duration                                    | default (lexical duration ISO8601) | duration             | timedelta64[ns] | Read_json not yet implemented |\n",
    "| *Json data*                                   | default (json)                     | object               |  | Unsupported |\n",
    "| *Json array*                                  | default (json array)               | array                |  | Unsupported |\n",
    "| *date*                                        | default (date ISO8601)             | date                 |  | Unsupported |\n",
    "| *time*                                        | default (time ISO8601)             | time                 |  | Unsupported |\n",
    "| *year*                                        | default                            | year                 |  | Unsupported |\n",
    "| *month*                                       | default                            | yearmonth            |  | Unsupported |\n",
    "| *Point (string)*                              | default (string “lon, lat”)        | geopoint             |  | Unsupported |\n",
    "| *Point (geojson array)*                       | array (array [lon, lat])           | geopoint             |  | Unsupported |\n",
    "| *Point (json object)*                         | object (eg {\"lon\": 90, \"lat\": 45}) | geopoint             |  | Unsupported |\n",
    "| *Geometry (geojson)*                          | default (geojson spec)             | geojson              |  | Unsupported |\n",
    "| *Geometry (topojson)*                         | Topojson (topojson spec)           | geojson              |  | Unsupported |\n",
    "| *Everything (custom type)*                    | <any> (string)                     | <any>                |  | Only ‘any‘ is supported |"
   ]
  },
  {
   "cell_type": "markdown",
   "id": "63f12237",
   "metadata": {},
   "source": [
    "### Example converting pandas dtype to table-schema type"
   ]
  },
  {
   "cell_type": "code",
   "execution_count": 35,
   "id": "a435e4b5",
   "metadata": {},
   "outputs": [
    {
     "name": "stdout",
     "output_type": "stream",
     "text": [
      "reverse (True, False), json table-schema object, reverse dtype:\n",
      "\n",
      "False {'name': 'test', 'type': 'integer'} int64\n",
      "False {'name': 'test', 'type': 'integer'} int64\n",
      "True {'name': 'test', 'type': 'integer'} int64\n",
      "False {'name': 'test', 'type': 'integer', 'extDtype': 'Int64'} int64\n",
      "False {'name': 'test', 'type': 'integer', 'extDtype': 'UInt64'} int64\n",
      "True {'name': 'test', 'type': 'number'} float64\n",
      "False {'name': 'test', 'type': 'number', 'extDtype': 'Float32'} float64\n",
      "False {'name': 'test', 'type': 'number'} float64\n",
      "True {'name': 'test', 'type': 'number'} float64\n",
      "False {'name': 'test', 'type': 'number', 'extDtype': 'Sparse[float64, nan]'} float64\n",
      "True {'name': 'test', 'type': 'datetime'} datetime64[ns]\n",
      "True {'name': 'test', 'type': 'datetime', 'tz': 'UTC'} datetime64[ns, UTC]\n",
      "True {'name': 'test', 'type': 'any', 'constraints': {'enum': ['2020-01-01']}, 'ordered': False} category\n",
      "False {'name': 'test', 'type': 'any', 'constraints': {'enum': ['2020-01-01T00:00:00.000']}, 'ordered': False} category\n",
      "False {'name': 'test', 'type': 'boolean', 'extDtype': 'boolean'} bool\n",
      "True {'name': 'test', 'type': 'boolean'} bool\n",
      "False {'name': 'test', 'type': 'string'} object\n"
     ]
    }
   ],
   "source": [
    "import json\n",
    "\n",
    "data = [[{'test': [1,2,3]}, {'dtype': 'int32'}],\n",
    "        [{'test': [1,2,3]}, {'dtype': 'int'}],\n",
    "        [{'test': [1,2,3]}, {'dtype': 'int64'}],\n",
    "        [{'test': [1,2,3]}, {'dtype': 'Int64'}],\n",
    "        [{'test': [1,2,3]}, {'dtype': 'UInt64'}],\n",
    "        [{'test': [1,2,3]}, {'dtype': 'float'}],\n",
    "        [{'test': [1,2,3]}, {'dtype': 'Float32'}],\n",
    "        [{'test': [1,2,3]}, {'dtype': 'float32'}],\n",
    "        [{'test': [1,2,3]}, {'dtype': 'float64'}],\n",
    "        [{'test': [1,2,3]}, {'dtype': 'Sparse[float64]'}],\n",
    "        # [{'test': [pd.Interval(1,2), pd.Interval(2,3), pd.Interval(3,4)]}], # read_json ko\n",
    "        [{'test': ['2020-01-01']}, {'dtype': 'datetime64[ns]'}],\n",
    "        [{'test': ['2020-01-01']}, {'dtype': 'datetime64[ns, UTC]'}],\n",
    "        [{'test': ['2020-01-01']}, {'dtype': 'category'}],\n",
    "        [{'test': [datetime(2020, 1, 1)]}, {'dtype': 'category'}],         \n",
    "        [{'test': [True, False]}, {'dtype': 'boolean'}],\n",
    "        [{'test': [True, False]}, {'dtype': 'bool'}],\n",
    "        # [{'test': ['1 days', '2 days']}, {'dtype': 'timedelta64[ns]'}], # read_json not yet implemented\n",
    "        # [{'test': ['2020-01-01', '2020-02-01', '2020-03-01']}, {'dtype': 'period[M]'}], # read_json not available\n",
    "         [{'test': [True, 1, 'er', datetime(2020, 1, 1)]}, {'dtype': 'object'}],\n",
    "       ]\n",
    "print('reverse (True, False), json table-schema object, reverse dtype:\\n')\n",
    "for df_data in data:\n",
    "    df = pd.DataFrame(df_data[0], **df_data[1]) if len(df_data) == 2 else pd.DataFrame(df_data[0])\n",
    "    js = df.to_json(orient='table')\n",
    "    df2 = pd.read_json(js, orient='table')\n",
    "    print(df.equals(df2), json.loads(js)['schema']['fields'][1], df2.dtypes[0])"
   ]
  }
 ],
 "metadata": {
  "kernelspec": {
   "display_name": "Python 3 (ipykernel)",
   "language": "python",
   "name": "python3"
  },
  "language_info": {
   "codemirror_mode": {
    "name": "ipython",
    "version": 3
   },
   "file_extension": ".py",
   "mimetype": "text/x-python",
   "name": "python",
   "nbconvert_exporter": "python",
   "pygments_lexer": "ipython3",
   "version": "3.10.9"
  }
 },
 "nbformat": 4,
 "nbformat_minor": 5
}
