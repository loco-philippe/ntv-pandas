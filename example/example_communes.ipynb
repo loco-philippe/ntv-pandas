{
 "cells": [
  {
   "cell_type": "markdown",
   "id": "f15d481c-171f-4b9d-9633-85364cc603c2",
   "metadata": {},
   "source": [
    "# Example communes"
   ]
  },
  {
   "cell_type": "code",
   "execution_count": 13,
   "id": "0bd6fea5-77bd-4496-a0d5-f355d794fe4f",
   "metadata": {},
   "outputs": [
    {
     "data": {
      "text/html": [
       "<div>\n",
       "<style scoped>\n",
       "    .dataframe tbody tr th:only-of-type {\n",
       "        vertical-align: middle;\n",
       "    }\n",
       "\n",
       "    .dataframe tbody tr th {\n",
       "        vertical-align: top;\n",
       "    }\n",
       "\n",
       "    .dataframe thead th {\n",
       "        text-align: right;\n",
       "    }\n",
       "</style>\n",
       "<table border=\"1\" class=\"dataframe\">\n",
       "  <thead>\n",
       "    <tr style=\"text-align: right;\">\n",
       "      <th></th>\n",
       "      <th>REG</th>\n",
       "      <th>DEP</th>\n",
       "      <th>Région</th>\n",
       "      <th>COM</th>\n",
       "    </tr>\n",
       "  </thead>\n",
       "  <tbody>\n",
       "    <tr>\n",
       "      <th>0</th>\n",
       "      <td>84</td>\n",
       "      <td>01</td>\n",
       "      <td>Auvergne-Rhône-Alpes</td>\n",
       "      <td>01001</td>\n",
       "    </tr>\n",
       "    <tr>\n",
       "      <th>1</th>\n",
       "      <td>84</td>\n",
       "      <td>01</td>\n",
       "      <td>Auvergne-Rhône-Alpes</td>\n",
       "      <td>01002</td>\n",
       "    </tr>\n",
       "    <tr>\n",
       "      <th>2</th>\n",
       "      <td>84</td>\n",
       "      <td>01</td>\n",
       "      <td>Auvergne-Rhône-Alpes</td>\n",
       "      <td>01004</td>\n",
       "    </tr>\n",
       "    <tr>\n",
       "      <th>3</th>\n",
       "      <td>84</td>\n",
       "      <td>01</td>\n",
       "      <td>Auvergne-Rhône-Alpes</td>\n",
       "      <td>01005</td>\n",
       "    </tr>\n",
       "    <tr>\n",
       "      <th>4</th>\n",
       "      <td>84</td>\n",
       "      <td>01</td>\n",
       "      <td>Auvergne-Rhône-Alpes</td>\n",
       "      <td>01006</td>\n",
       "    </tr>\n",
       "    <tr>\n",
       "      <th>...</th>\n",
       "      <td>...</td>\n",
       "      <td>...</td>\n",
       "      <td>...</td>\n",
       "      <td>...</td>\n",
       "    </tr>\n",
       "    <tr>\n",
       "      <th>34965</th>\n",
       "      <td>4</td>\n",
       "      <td>974</td>\n",
       "      <td>La Réunion</td>\n",
       "      <td>97420</td>\n",
       "    </tr>\n",
       "    <tr>\n",
       "      <th>34966</th>\n",
       "      <td>4</td>\n",
       "      <td>974</td>\n",
       "      <td>La Réunion</td>\n",
       "      <td>97421</td>\n",
       "    </tr>\n",
       "    <tr>\n",
       "      <th>34967</th>\n",
       "      <td>4</td>\n",
       "      <td>974</td>\n",
       "      <td>La Réunion</td>\n",
       "      <td>97422</td>\n",
       "    </tr>\n",
       "    <tr>\n",
       "      <th>34968</th>\n",
       "      <td>4</td>\n",
       "      <td>974</td>\n",
       "      <td>La Réunion</td>\n",
       "      <td>97423</td>\n",
       "    </tr>\n",
       "    <tr>\n",
       "      <th>34969</th>\n",
       "      <td>4</td>\n",
       "      <td>974</td>\n",
       "      <td>La Réunion</td>\n",
       "      <td>97424</td>\n",
       "    </tr>\n",
       "  </tbody>\n",
       "</table>\n",
       "<p>34970 rows × 4 columns</p>\n",
       "</div>"
      ],
      "text/plain": [
       "       REG  DEP                Région    COM\n",
       "0       84   01  Auvergne-Rhône-Alpes  01001\n",
       "1       84   01  Auvergne-Rhône-Alpes  01002\n",
       "2       84   01  Auvergne-Rhône-Alpes  01004\n",
       "3       84   01  Auvergne-Rhône-Alpes  01005\n",
       "4       84   01  Auvergne-Rhône-Alpes  01006\n",
       "...    ...  ...                   ...    ...\n",
       "34965    4  974            La Réunion  97420\n",
       "34966    4  974            La Réunion  97421\n",
       "34967    4  974            La Réunion  97422\n",
       "34968    4  974            La Réunion  97423\n",
       "34969    4  974            La Réunion  97424\n",
       "\n",
       "[34970 rows x 4 columns]"
      ]
     },
     "execution_count": 13,
     "metadata": {},
     "output_type": "execute_result"
    }
   ],
   "source": [
    "import pandas as pd\n",
    "\n",
    "comm = pd.read_csv('donnees_communes.csv', sep=';')\n",
    "comm_min = comm[['REG', 'DEP', 'Région', 'COM']]\n",
    "comm_min"
   ]
  },
  {
   "cell_type": "code",
   "execution_count": 15,
   "id": "1ef26518-ab2d-4278-bef6-c0978f65d557",
   "metadata": {},
   "outputs": [
    {
     "name": "stdout",
     "output_type": "stream",
     "text": [
      "-1: root-derived (34970)\n",
      "   1 : DEP (34870 - 100)\n",
      "      0 : REG (83 - 17)\n",
      "         2 : Région (0 - 17)\n",
      "   3 : COM (0 - 34970)\n"
     ]
    }
   ],
   "source": [
    "import ntv_pandas\n",
    "\n",
    "analys = comm_min.npd.analysis()\n",
    "print(analys.tree())"
   ]
  },
  {
   "cell_type": "code",
   "execution_count": 16,
   "id": "50999b7a-cada-4b7d-8e5c-0fa92ea1f646",
   "metadata": {},
   "outputs": [
    {
     "data": {
      "text/plain": [
       "452227"
      ]
     },
     "execution_count": 16,
     "metadata": {},
     "output_type": "execute_result"
    }
   ],
   "source": [
    "import json\n",
    "from tab_dataset.dataset import Sdataset\n",
    "\n",
    "comm_sd = Sdataset(comm_min)\n",
    "jsn = comm_sd.to_ntv(modecodec='optimize').to_obj(encoded=False)\n",
    "len(json.dumps(jsn))\n",
    "#jsn"
   ]
  },
  {
   "cell_type": "code",
   "execution_count": 17,
   "id": "544e049a-43bd-4ebe-bbc8-e93327537d72",
   "metadata": {},
   "outputs": [
    {
     "data": {
      "text/plain": [
       "271414"
      ]
     },
     "execution_count": 17,
     "metadata": {},
     "output_type": "execute_result"
    }
   ],
   "source": [
    "import cbor2\n",
    "len(cbor2.dumps(jsn))"
   ]
  },
  {
   "cell_type": "code",
   "execution_count": 18,
   "id": "dfa596ed-785f-4d79-9be4-2c92154c2175",
   "metadata": {},
   "outputs": [
    {
     "data": {
      "text/plain": [
       "889872"
      ]
     },
     "execution_count": 18,
     "metadata": {},
     "output_type": "execute_result"
    }
   ],
   "source": [
    "len(comm.to_parquet())"
   ]
  }
 ],
 "metadata": {
  "kernelspec": {
   "display_name": "Python 3 (ipykernel)",
   "language": "python",
   "name": "python3"
  },
  "language_info": {
   "codemirror_mode": {
    "name": "ipython",
    "version": 3
   },
   "file_extension": ".py",
   "mimetype": "text/x-python",
   "name": "python",
   "nbconvert_exporter": "python",
   "pygments_lexer": "ipython3",
   "version": "3.11.9"
  }
 },
 "nbformat": 4,
 "nbformat_minor": 5
}
