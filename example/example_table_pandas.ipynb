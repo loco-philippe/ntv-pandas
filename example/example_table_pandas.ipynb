{
 "cells": [
  {
   "cell_type": "markdown",
   "id": "343c7b20",
   "metadata": {},
   "source": [
    "## A TableSchema interface compatible with the pandas data structure \n",
    "-------     \n",
    "The interface converts DataFrame or Series into Json TableSchema format. The interface is reversible and compatible with [TableSchema types and formats](https://specs.frictionlessdata.io/table-schema/#types-and-formats)\n",
    "\n",
    "The interface uses the [JSON-NTV format (Named and Typed Value)](https://github.com/loco-philippe/NTV#readme) - which integrates the notion of type - and its [JSON-TAB variation for tabular data](https://github.com/loco-philippe/NTV/blob/main/documentation/JSON-TAB-standard.pdf).    \n",
    "    \n",
    "This solution allows to include all the types and formats defined in the TableSchema specification.\n",
    "\n",
    "### Content\n",
    "This NoteBook uses examples to present some key points\n",
    "\n",
    "*(active link on jupyter Notebook or Nbviewer)*\n",
    "- [1 - Simple example](#1---Simple-example)\n",
    "- [2 - Example of Series](#2---Example-of-Series)\n",
    "    - [Numerical Series](#Numerical-Series)\n",
    "    - [Json Series](#Json-Series)\n",
    "    - [Datation Series](#Datation-Series)\n",
    "    - [Location Series](#Location-Series)\n",
    "- [3 - DataFrame](#3---DataFrame)\n",
    "        \n",
    "### References\n",
    "- [JSON-NTV specification](https://loco-philippe.github.io/ES/JSON%20semantic%20format%20(JSON-NTV).htm)\n",
    "- [JSON-TAB specification](https://github.com/loco-philippe/NTV/blob/main/documentation/JSON-TAB-standard.pdf)\n",
    "- [JSON-NTV classes and methods](https://loco-philippe.github.io/NTV/json_ntv.html)\n",
    "- [Table Schema specification](https://specs.frictionlessdata.io/table-schema/#types-and-formats)\n",
    "\n",
    "This Notebook can also be viewed at [nbviewer](http://nbviewer.org/github/loco-philippe/ntv-pandas/tree/main/example)"
   ]
  },
  {
   "cell_type": "code",
   "execution_count": 1,
   "id": "2bd336cd",
   "metadata": {},
   "outputs": [],
   "source": [
    "import os\n",
    "import sys\n",
    "os.path\n",
    "sys.path.insert(0, 'C:\\\\Users\\\\phili\\\\github\\\\ntv-pandas')"
   ]
  },
  {
   "cell_type": "code",
   "execution_count": 2,
   "id": "d00a0cb6",
   "metadata": {},
   "outputs": [],
   "source": [
    "import math\n",
    "import json\n",
    "from pprint import pprint\n",
    "\n",
    "import pandas as pd\n",
    "import ntv_pandas as npd\n",
    "from shapely.geometry import Point, Polygon, LineString\n",
    "from json_ntv import Ntv\n",
    "from datetime import date, datetime, time"
   ]
  },
  {
   "cell_type": "markdown",
   "id": "6834381c",
   "metadata": {},
   "source": [
    "## 1 - Simple example"
   ]
  },
  {
   "cell_type": "markdown",
   "id": "2ccd4147",
   "metadata": {},
   "source": [
    "- The example is a Dataframe with several NTVtype : date, point, email"
   ]
  },
  {
   "cell_type": "code",
   "execution_count": 3,
   "id": "87e08572",
   "metadata": {
    "scrolled": false
   },
   "outputs": [
    {
     "data": {
      "text/html": [
       "<div>\n",
       "<style scoped>\n",
       "    .dataframe tbody tr th:only-of-type {\n",
       "        vertical-align: middle;\n",
       "    }\n",
       "\n",
       "    .dataframe tbody tr th {\n",
       "        vertical-align: top;\n",
       "    }\n",
       "\n",
       "    .dataframe thead th {\n",
       "        text-align: right;\n",
       "    }\n",
       "</style>\n",
       "<table border=\"1\" class=\"dataframe\">\n",
       "  <thead>\n",
       "    <tr style=\"text-align: right;\">\n",
       "      <th></th>\n",
       "      <th>end february::date</th>\n",
       "      <th>coordinates::point</th>\n",
       "      <th>contact::email</th>\n",
       "    </tr>\n",
       "  </thead>\n",
       "  <tbody>\n",
       "    <tr>\n",
       "      <th>0</th>\n",
       "      <td>2023-02-28</td>\n",
       "      <td>POINT (2.3 48.9)</td>\n",
       "      <td>john.doe@table.com</td>\n",
       "    </tr>\n",
       "    <tr>\n",
       "      <th>1</th>\n",
       "      <td>2024-02-29</td>\n",
       "      <td>POINT (5.4 43.3)</td>\n",
       "      <td>lisa.minelli@schema.com</td>\n",
       "    </tr>\n",
       "    <tr>\n",
       "      <th>2</th>\n",
       "      <td>2025-02-28</td>\n",
       "      <td>POINT (4.9 45.8)</td>\n",
       "      <td>walter.white@breaking.com</td>\n",
       "    </tr>\n",
       "  </tbody>\n",
       "</table>\n",
       "</div>"
      ],
      "text/plain": [
       "  end february::date coordinates::point             contact::email\n",
       "0         2023-02-28   POINT (2.3 48.9)         john.doe@table.com\n",
       "1         2024-02-29   POINT (5.4 43.3)    lisa.minelli@schema.com\n",
       "2         2025-02-28   POINT (4.9 45.8)  walter.white@breaking.com"
      ]
     },
     "execution_count": 3,
     "metadata": {},
     "output_type": "execute_result"
    }
   ],
   "source": [
    "df = pd.DataFrame({\n",
    "            'end february::date': [date(2023,2,28), date(2024,2,29), date(2025,2,28)],\n",
    "            'coordinates::point': [Point([2.3, 48.9]), Point([5.4, 43.3]), Point([4.9, 45.8])],\n",
    "            'contact::email':     ['john.doe@table.com', 'lisa.minelli@schema.com', 'walter.white@breaking.com']\n",
    "            }).astype({'contact::email': 'string'})\n",
    "df\n"
   ]
  },
  {
   "cell_type": "markdown",
   "id": "47d48540",
   "metadata": {},
   "source": [
    "- the example has a JSON representation conform to TableSchema\n",
    "- the pandas JSON interface is not able to read or to create this representation because it daes not understand `date` type or `geopoint` type or `email` format"
   ]
  },
  {
   "cell_type": "code",
   "execution_count": 4,
   "id": "c37108e8",
   "metadata": {},
   "outputs": [
    {
     "name": "stdout",
     "output_type": "stream",
     "text": [
      "{'schema': {'fields': [{'name': 'index', 'type': 'integer'},\n",
      "                       {'name': 'end february', 'type': 'date'},\n",
      "                       {'name': 'coordinates', 'type': 'geopoint', 'format': 'array'},\n",
      "                       {'name': 'contact', 'type': 'string', 'format': 'email'}],\n",
      "            'primaryKey': ['index'],\n",
      "            'pandas_version': '1.4.0'},\n",
      " 'data': [{'index': 0, 'end february': '2023-02-28', 'coordinates': [2.3, 48.9], 'contact': 'john.doe@table.com'},\n",
      "          {'index': 1, 'end february': '2024-02-29', 'coordinates': [5.4, 43.3], 'contact': 'lisa.minelli@schema.com'},\n",
      "          {'index': 2, 'end february': '2025-02-28', 'coordinates': [4.9, 45.8], 'contact': 'walter.white@breaking.com'}]}\n"
     ]
    }
   ],
   "source": [
    "df_to_table = npd.to_json(df, table=True)\n",
    "pprint(df_to_table, width=140, sort_dicts=False)"
   ]
  },
  {
   "cell_type": "markdown",
   "id": "7deb4ffb",
   "metadata": {},
   "source": [
    "- The json conversion is reversible : df_from_table equals initial df"
   ]
  },
  {
   "cell_type": "code",
   "execution_count": 5,
   "id": "0e9736c8",
   "metadata": {},
   "outputs": [
    {
     "name": "stdout",
     "output_type": "stream",
     "text": [
      "df created from TableSchema is equal to initial df ?  True\n"
     ]
    },
    {
     "data": {
      "text/html": [
       "<div>\n",
       "<style scoped>\n",
       "    .dataframe tbody tr th:only-of-type {\n",
       "        vertical-align: middle;\n",
       "    }\n",
       "\n",
       "    .dataframe tbody tr th {\n",
       "        vertical-align: top;\n",
       "    }\n",
       "\n",
       "    .dataframe thead th {\n",
       "        text-align: right;\n",
       "    }\n",
       "</style>\n",
       "<table border=\"1\" class=\"dataframe\">\n",
       "  <thead>\n",
       "    <tr style=\"text-align: right;\">\n",
       "      <th></th>\n",
       "      <th>end february::date</th>\n",
       "      <th>coordinates::point</th>\n",
       "      <th>contact::email</th>\n",
       "    </tr>\n",
       "  </thead>\n",
       "  <tbody>\n",
       "    <tr>\n",
       "      <th>0</th>\n",
       "      <td>2023-02-28</td>\n",
       "      <td>POINT (2.3 48.9)</td>\n",
       "      <td>john.doe@table.com</td>\n",
       "    </tr>\n",
       "    <tr>\n",
       "      <th>1</th>\n",
       "      <td>2024-02-29</td>\n",
       "      <td>POINT (5.4 43.3)</td>\n",
       "      <td>lisa.minelli@schema.com</td>\n",
       "    </tr>\n",
       "    <tr>\n",
       "      <th>2</th>\n",
       "      <td>2025-02-28</td>\n",
       "      <td>POINT (4.9 45.8)</td>\n",
       "      <td>walter.white@breaking.com</td>\n",
       "    </tr>\n",
       "  </tbody>\n",
       "</table>\n",
       "</div>"
      ],
      "text/plain": [
       "  end february::date coordinates::point             contact::email\n",
       "0         2023-02-28   POINT (2.3 48.9)         john.doe@table.com\n",
       "1         2024-02-29   POINT (5.4 43.3)    lisa.minelli@schema.com\n",
       "2         2025-02-28   POINT (4.9 45.8)  walter.white@breaking.com"
      ]
     },
     "execution_count": 5,
     "metadata": {},
     "output_type": "execute_result"
    }
   ],
   "source": [
    "df_from_table = npd.read_json(df_to_table)\n",
    "print('df created from TableSchema is equal to initial df ? ', df_from_table.equals(df))\n",
    "df_from_table"
   ]
  },
  {
   "cell_type": "markdown",
   "id": "ca787e67",
   "metadata": {},
   "source": [
    "## 2 - Example of Series"
   ]
  },
  {
   "cell_type": "markdown",
   "id": "14204c2d",
   "metadata": {},
   "source": [
    "### Numerical Series\n",
    "- TableSchema defines three types `integer`, `boolean` and `number` (with `default` format)\n",
    "- additional `format` are used to integrate pandas or NTV data :\n",
    "    - `float`, `floatxx` for `number` type where xx is the bit's lenght (as defined in pandas dtype)\n",
    "    - `intxx`, `uintxx` for `integer` type where xx is the bit's lenght (as defined in pandas dtype)"
   ]
  },
  {
   "cell_type": "code",
   "execution_count": 6,
   "id": "62319579",
   "metadata": {},
   "outputs": [
    {
     "name": "stdout",
     "output_type": "stream",
     "text": [
      "pandas object :\n",
      "0    1\n",
      "1    2\n",
      "2    3\n",
      "Name: value, dtype: int64\n",
      "\n",
      "Json Table representation :    \n",
      "{'schema': {'fields': [{'name': 'index', 'type': 'integer'}, {'name': 'value', 'type': 'integer'}],\n",
      "            'primaryKey': ['index'],\n",
      "            'pandas_version': '1.4.0'},\n",
      " 'data': [{'index': 0, 'value': 1}, {'index': 1, 'value': 2}, {'index': 2, 'value': 3}]}\n",
      "\n",
      "Is Json Table translation reversible ?  True\n"
     ]
    }
   ],
   "source": [
    "sr = pd.Series([1, 2, 3], name='value')\n",
    "print('pandas object :\\n' + str(sr))\n",
    "\n",
    "json_table = npd.to_json(sr, table=True)\n",
    "print('\\nJson Table representation :    ')\n",
    "pprint(json_table, width=100, sort_dicts=False)\n",
    "\n",
    "print('\\nIs Json Table translation reversible ? ', sr.equals(npd.read_json(json_table)))"
   ]
  },
  {
   "cell_type": "code",
   "execution_count": 7,
   "id": "33cb3cae",
   "metadata": {},
   "outputs": [
    {
     "name": "stdout",
     "output_type": "stream",
     "text": [
      "reversibility, schema field : \n",
      "     True ,  {'name': 'value', 'type': 'integer'}\n",
      "     True ,  {'name': 'value', 'type': 'number'}\n",
      "     True ,  {'name': 'value', 'type': 'boolean'}\n",
      "     True ,  {'name': 'value', 'type': 'integer', 'format': 'int32'}\n",
      "     True ,  {'name': 'value', 'type': 'integer', 'format': 'uint64'}\n",
      "     True ,  {'name': 'value', 'type': 'number', 'format': 'float32'}\n"
     ]
    }
   ],
   "source": [
    "list_sr = [pd.Series([1, 2, 3],   name='value'),\n",
    "           pd.Series([1.1, 2, 3], name='value'),\n",
    "           pd.Series([True, False, True], name='value'),\n",
    "           # additional types\n",
    "           pd.Series([1, 2, 3],   name='value', dtype='int32'),\n",
    "           pd.Series([1, 2, 3],   name='value', dtype='uint64'),\n",
    "           pd.Series([1.6, 2, 3], name='value', dtype='float32')]\n",
    "\n",
    "print('reversibility, schema field : ')\n",
    "for sr in list_sr:\n",
    "    json_table = npd.to_json(sr, table=True)\n",
    "    print('    ', sr.equals(npd.read_json(json_table)), ', ', json_table['schema']['fields'][1])"
   ]
  },
  {
   "cell_type": "markdown",
   "id": "954c6e65",
   "metadata": {},
   "source": [
    "### Json Series\n",
    "- TableSchema defines two types `object` and `array` with `default` format and one type `string` with five formats (`default`, `uri`, `email`, `binary`, `uuid`). `binary` and `uuid` are not used. \n",
    "- additional `format` are used to integrate pandas or NTV data :\n",
    "    - `file` for `string` type\n",
    "    - `null`, `object` for `object` type (`object` type defines Json data, `object` format defines 'dict' data)"
   ]
  },
  {
   "cell_type": "code",
   "execution_count": 8,
   "id": "853ca958",
   "metadata": {},
   "outputs": [
    {
     "name": "stdout",
     "output_type": "stream",
     "text": [
      "reversibility, schema field : \n",
      "     True ,  {'name': 'value', 'type': 'array'}\n",
      "     True ,  {'name': 'value', 'type': 'object'}\n",
      "     True ,  {'name': 'value', 'type': 'string'}\n",
      "     True ,  {'name': 'value', 'type': 'string', 'format': 'uri'}\n",
      "     True ,  {'name': 'value', 'type': 'string', 'format': 'email'}\n",
      "     True ,  {'name': 'value', 'type': 'object', 'format': 'object'}\n",
      "     True ,  {'name': 'value', 'type': 'string', 'format': 'file'}\n",
      "     True ,  {'name': 'value', 'type': 'object', 'format': 'null'}\n"
     ]
    }
   ],
   "source": [
    "list_sr = [pd.Series([[1, 2], ['val1', 'val2']],   name='value::array'),\n",
    "           pd.Series([[1, 2], 3, 'test', {'val1': 5, 'val2': 6}],   name='value'),\n",
    "           pd.Series(['az', 'er', 'cd'], name='value', dtype='string'),\n",
    "           pd.Series([\"geo:13.412 ,103.866\", \"mailto:John.Doe@example.com\"], name='value::uri', dtype='string'),\n",
    "           pd.Series([\"philippe@loco-labs.io\", \"John.Doe@example.com\"], name='value::email', dtype='string'),\n",
    "           # additional types\n",
    "           pd.Series([{'val1': 5, 'val2': 6}, {'val1': 5.1, 'val2': 6.1}],   name='value::object'),\n",
    "           pd.Series([\"///path/to/file\", \"//host.example.com/path/to/file\"], name='value::file', dtype='string'),\n",
    "           pd.Series([None, None, None], name='value::null')]\n",
    "\n",
    "print('reversibility, schema field : ')\n",
    "for sr in list_sr:\n",
    "    json_table = npd.to_json(sr, table=True)\n",
    "    print('    ', sr.equals(npd.read_json(json_table)), ', ', json_table['schema']['fields'][1])"
   ]
  },
  {
   "cell_type": "markdown",
   "id": "0be7c552",
   "metadata": {},
   "source": [
    "### Datation Series\n",
    "- TableSchema defines six types `duration`, `datetime`, `date`, `time`, `yearmonth` and `year` with `default` format (`duration` type is not yet implemented). The `any` and `<PATTERN>` format for `datetime`, `date` and `time` are not used. \n",
    "- additional `format` are used to integrate NTV data :\n",
    "    - `day`, `wday`, `yday`, `week` for `date` type\n",
    "    - `hour`, `minute`, `second` for `time` type "
   ]
  },
  {
   "cell_type": "code",
   "execution_count": 9,
   "id": "4d6b513d",
   "metadata": {},
   "outputs": [
    {
     "name": "stdout",
     "output_type": "stream",
     "text": [
      "reversibility, schema field : \n",
      "     True ,  {'name': 'value', 'type': 'datetime'}\n",
      "     True ,  {'name': 'value', 'type': 'date'}\n",
      "     True ,  {'name': 'value', 'type': 'time'}\n",
      "     True ,  {'name': 'value', 'type': 'yearmonth'}\n",
      "     True ,  {'name': 'value', 'type': 'year'}\n",
      "     True ,  {'name': 'value', 'type': 'date', 'format': 'day'}\n",
      "     True ,  {'name': 'value', 'type': 'date', 'format': 'wday'}\n",
      "     True ,  {'name': 'value', 'type': 'date', 'format': 'yday'}\n",
      "     True ,  {'name': 'value', 'type': 'date', 'format': 'week'}\n",
      "     True ,  {'name': 'value', 'type': 'time', 'format': 'hour'}\n",
      "     True ,  {'name': 'value', 'type': 'time', 'format': 'minute'}\n",
      "     True ,  {'name': 'value', 'type': 'time', 'format': 'second'}\n"
     ]
    }
   ],
   "source": [
    "list_sr = [pd.Series(['2022-01-01', '2021-01-01'], dtype='datetime64[ns]', name='value'),\n",
    "           pd.Series([date(2022,1,1), date(2021,1,1), date(2023,1,1)],   name='value::date'),\n",
    "           pd.Series([time(10,20,50), time(9,20,50), time(8,20,50)],   name='value::time'),\n",
    "           pd.Series([1, 2, 3], name='value::month'),\n",
    "           pd.Series([2021, 2022, 2023], name='value::year'),\n",
    "           # additional types\n",
    "           pd.Series([1, 2, 3],   name='value::day'),\n",
    "           pd.Series([1, 2, 3],   name='value::wday'),\n",
    "           pd.Series([1, 2, 3],   name='value::yday'),\n",
    "           pd.Series([1, 2, 3],   name='value::week'),\n",
    "           pd.Series([1, 2, 3],   name='value::hour'),\n",
    "           pd.Series([1, 2, 3],   name='value::minute'),\n",
    "           pd.Series([1, 2, 3],   name='value::second')\n",
    "          ]\n",
    "\n",
    "print('reversibility, schema field : ')\n",
    "for sr in list_sr:\n",
    "    json_table = npd.to_json(sr, table=True)\n",
    "    print('    ', sr.equals(npd.read_json(json_table)), ', ', json_table['schema']['fields'][1])"
   ]
  },
  {
   "cell_type": "markdown",
   "id": "060935ab",
   "metadata": {},
   "source": [
    "### Location Series\n",
    "- TableSchema defines two types `geopoint` (`array` format is used, `default` and `object` format are not used) and `geojson`. (`default` format is used, `topojson` is not used).\n",
    "- additional `format` (`geometry`, `polygon`, `line`) for `geojson` are used to integrate NTV data. "
   ]
  },
  {
   "cell_type": "code",
   "execution_count": 10,
   "id": "599ea7ec",
   "metadata": {},
   "outputs": [
    {
     "name": "stdout",
     "output_type": "stream",
     "text": [
      "reversibility, schema field : \n",
      "     True ,  {'name': 'value', 'type': 'geopoint', 'format': 'array'}\n",
      "     True ,  {'name': 'value', 'type': 'geojson'}\n",
      "     True ,  {'name': 'value', 'type': 'geojson', 'format': 'geometry'}\n",
      "     True ,  {'name': 'value', 'type': 'geojson', 'format': 'polygon'}\n",
      "     True ,  {'name': 'value', 'type': 'geojson', 'format': 'line'}\n"
     ]
    }
   ],
   "source": [
    "list_sr = [pd.Series(pd.Series([Point(1, 0), Point(1, 1), Point(1, 2)], name='value::point')),\n",
    "           pd.Series([Point(1, 0), Polygon([[1.0, 2.0], [1.0, 3.0], [2.0, 4.0]])], name='value::geojson'),\n",
    "           # additional types\n",
    "           pd.Series([Point(1, 0), Polygon([[1.0, 2.0], [1.0, 3.0], [2.0, 4.0]])], name='value::geometry'),\n",
    "           pd.Series([Polygon([[1, 2], [1, 3], [2, 4]]), Polygon([[1, 2], [1, 3], [2, 5]])], name='value::polygon'),\n",
    "           pd.Series([LineString([[1, 2], [1, 3], [2, 4]]), LineString([[1, 2], [1, 3], [2, 5]])], name='value::line')\n",
    "          ]\n",
    "\n",
    "print('reversibility, schema field : ')\n",
    "for sr in list_sr:\n",
    "    json_table = npd.to_json(sr, table=True)\n",
    "    print('    ', sr.equals(npd.read_json(json_table)), ', ', json_table['schema']['fields'][1])"
   ]
  },
  {
   "cell_type": "markdown",
   "id": "38335df3",
   "metadata": {},
   "source": [
    "## 3 - DataFrame\n",
    "As used for the Series, DataFrame follow the same implementation. The Example below used some of Series used in previous example."
   ]
  },
  {
   "cell_type": "code",
   "execution_count": 11,
   "id": "ac890bcb",
   "metadata": {
    "scrolled": false
   },
   "outputs": [
    {
     "name": "stdout",
     "output_type": "stream",
     "text": [
      "\n",
      "Json Table representation :    \n",
      "{'schema': {'fields': [{'name': 'index', 'type': 'integer'},\n",
      "                       {'name': 'float', 'type': 'number'},\n",
      "                       {'name': 'boolean', 'type': 'boolean'},\n",
      "                       {'name': 'int32', 'type': 'integer', 'format': 'int32'},\n",
      "                       {'name': 'ex1', 'type': 'array'},\n",
      "                       {'name': 'json', 'type': 'object'},\n",
      "                       {'name': 'string', 'type': 'string'},\n",
      "                       {'name': 'ex2', 'type': 'string', 'format': 'uri'},\n",
      "                       {'name': 'ex3', 'type': 'string', 'format': 'email'},\n",
      "                       {'name': 'ex4', 'type': 'object', 'format': 'object'},\n",
      "                       {'name': 'datetime', 'type': 'datetime'},\n",
      "                       {'name': 'ex5', 'type': 'date'},\n",
      "                       {'name': 'ex6', 'type': 'time'},\n",
      "                       {'name': 'ex7', 'type': 'yearmonth'},\n",
      "                       {'name': 'ex8', 'type': 'time', 'format': 'hour'},\n",
      "                       {'name': 'ex9', 'type': 'geopoint', 'format': 'array'},\n",
      "                       {'name': 'ex10', 'type': 'geojson'},\n",
      "                       {'name': 'ex11', 'type': 'geojson', 'format': 'geometry'},\n",
      "                       {'name': 'ex12', 'type': 'geojson', 'format': 'polygon'},\n",
      "                       {'name': 'ex13', 'type': 'geojson', 'format': 'line'}],\n",
      "            'primaryKey': ['index'],\n",
      "            'pandas_version': '1.4.0'},\n",
      " 'data': [{'index': 0,\n",
      "           'float': 1.1,\n",
      "           'boolean': True,\n",
      "           'int32': 1,\n",
      "           'ex1': [1, 2],\n",
      "           'json': [1, 2],\n",
      "           'string': 'az',\n",
      "           'ex2': 'geo:13.412 ,103.866',\n",
      "           'ex3': 'philippe@loco-labs.io',\n",
      "           'ex4': {'val1': 5, 'val2': 6},\n",
      "           'datetime': '2022-01-01T00:00:00.000',\n",
      "           'ex5': '2022-01-01',\n",
      "           'ex6': '10:20:50',\n",
      "           'ex7': 1,\n",
      "           'ex8': 1,\n",
      "           'ex9': [1.0, 0.0],\n",
      "           'ex10': '{\"type\": \"Point\", \"coordinates\": [1.0, 0.0]}',\n",
      "           'ex11': [1.0, 0.0],\n",
      "           'ex12': [[[1.0, 2.0], [1.0, 3.0], [2.0, 4.0], [1.0, 2.0]]],\n",
      "           'ex13': [[1.0, 2.0], [2.0, 4.0]]},\n",
      "          {'index': 1,\n",
      "           'float': 2.0,\n",
      "           'boolean': False,\n",
      "           'int32': 2,\n",
      "           'ex1': ['val1', 'val2'],\n",
      "           'json': 'test',\n",
      "           'string': 'er',\n",
      "           'ex2': 'mailto:John.Doe@example.com',\n",
      "           'ex3': 'John.Doe@example.com',\n",
      "           'ex4': {'val1': 5.1, 'val2': 6.1},\n",
      "           'datetime': '2021-01-01T00:00:00.000',\n",
      "           'ex5': '2021-01-01',\n",
      "           'ex6': '09:20:50',\n",
      "           'ex7': 2,\n",
      "           'ex8': 2,\n",
      "           'ex9': [1.0, 1.0],\n",
      "           'ex10': '{\"type\": \"LineString\", \"coordinates\": [[1.0, 2.0], [1.0, 3.0]]}',\n",
      "           'ex11': [[1.0, 2.0], [1.0, 3.0]],\n",
      "           'ex12': [[[1.0, 2.0], [1.0, 3.0], [2.0, 5.0], [1.0, 2.0]]],\n",
      "           'ex13': [[1.0, 2.0], [2.0, 5.0]]},\n",
      "          {'index': 2,\n",
      "           'float': 3.0,\n",
      "           'boolean': False,\n",
      "           'int32': 3,\n",
      "           'ex1': [1, {'val3': 3}],\n",
      "           'json': {'val1': 5, 'val2': 6},\n",
      "           'string': 'cd',\n",
      "           'ex2': '',\n",
      "           'ex3': '',\n",
      "           'ex4': {},\n",
      "           'datetime': '2023-01-01T00:00:00.000',\n",
      "           'ex5': '2023-01-01',\n",
      "           'ex6': '08:20:50',\n",
      "           'ex7': 3,\n",
      "           'ex8': 3,\n",
      "           'ex9': [1.0, 2.0],\n",
      "           'ex10': '{\"type\": \"Polygon\", \"coordinates\": [[[1.0, 2.0], [1.0, 3.0], [2.0, 4.0], [1.0, '\n",
      "                   '2.0]]]}',\n",
      "           'ex11': [[[1.0, 2.0], [1.0, 3.0], [2.0, 4.0], [1.0, 2.0]]],\n",
      "           'ex12': [[[1.0, 2.0], [1.0, 3.0], [2.0, 6.0], [1.0, 2.0]]],\n",
      "           'ex13': [[1.0, 2.0], [2.0, 6.0]]}]}\n",
      "\n",
      "is Json translation reversible ?  True\n"
     ]
    }
   ],
   "source": [
    "df = pd.DataFrame({\n",
    "        # numerical\n",
    "        'float':       [1.1, 2, 3],\n",
    "        'boolean':     [True, False, False],\n",
    "        'int32':       pd.Series([1, 2, 3],   dtype='int32'),\n",
    "        # json\n",
    "        'ex1::array':  [[1, 2], ['val1', 'val2'], [1, {'val3': 3}]],\n",
    "        'json':        [[1, 2], 'test', {'val1': 5, 'val2': 6}],\n",
    "        'string':      pd.Series(['az', 'er', 'cd'], dtype='string'),\n",
    "        'ex2::uri':    pd.Series([\"geo:13.412 ,103.866\", \"mailto:John.Doe@example.com\", \"\"], dtype='string'),\n",
    "        'ex3::email':  pd.Series([\"philippe@loco-labs.io\", \"John.Doe@example.com\", \"\"], dtype='string'),\n",
    "        'ex4::object': [{'val1': 5, 'val2': 6}, {'val1': 5.1, 'val2': 6.1}, {}],\n",
    "        # datation\n",
    "        'datetime':    pd.Series(['2022-01-01', '2021-01-01', '2023-01-01'], dtype='datetime64[ns]'),\n",
    "        'ex5::date':   [date(2022,1,1), date(2021,1,1), date(2023,1,1)],\n",
    "        'ex6::time':   [time(10,20,50), time(9,20,50), time(8,20,50)],\n",
    "        'ex7::month':  [1, 2, 3],\n",
    "        'ex8::hour':   [1, 2, 3],\n",
    "        # location\n",
    "        'ex9::point':  [Point(1, 0), Point(1, 1), Point(1, 2)],\n",
    "        'ex10::geojson': [Point(1, 0), LineString([[1, 2], [1, 3]]), Polygon([[1.0, 2.0], [1.0, 3.0], [2.0, 4.0]])],\n",
    "        # additional types\n",
    "        'ex11::geometry': [Point(1, 0), LineString([[1, 2], [1, 3]]), Polygon([[1.0, 2.0], [1.0, 3.0], [2.0, 4.0]])],\n",
    "        'ex12::polygon':  [Polygon([[1,2], [1,3], [2,4]]), Polygon([[1,2], [1,3], [2,5]]), Polygon([[1,2], [1,3], [2,6]])],\n",
    "        'ex13::line':     [LineString([[1, 2], [2, 4]]), LineString([[1, 2], [2, 5]]), LineString([[1, 2], [2, 6]])]           \n",
    "})\n",
    "print('\\nJson Table representation :    ')\n",
    "pprint(npd.to_json(df, table=True), width=100, sort_dicts=False)\n",
    "print('\\nis Json translation reversible ? ', df.equals(npd.read_json(npd.to_json(df, table=True))))"
   ]
  },
  {
   "cell_type": "code",
   "execution_count": 34,
   "id": "2ebb28a0",
   "metadata": {},
   "outputs": [
    {
     "data": {
      "text/html": [
       "<div>\n",
       "<style scoped>\n",
       "    .dataframe tbody tr th:only-of-type {\n",
       "        vertical-align: middle;\n",
       "    }\n",
       "\n",
       "    .dataframe tbody tr th {\n",
       "        vertical-align: top;\n",
       "    }\n",
       "\n",
       "    .dataframe thead th {\n",
       "        text-align: right;\n",
       "    }\n",
       "</style>\n",
       "<table border=\"1\" class=\"dataframe\">\n",
       "  <thead>\n",
       "    <tr style=\"text-align: right;\">\n",
       "      <th></th>\n",
       "      <th>dates::date</th>\n",
       "      <th>value</th>\n",
       "      <th>value32</th>\n",
       "      <th>res</th>\n",
       "      <th>coord::point</th>\n",
       "      <th>names</th>\n",
       "      <th>unique</th>\n",
       "    </tr>\n",
       "  </thead>\n",
       "  <tbody>\n",
       "    <tr>\n",
       "      <th>100</th>\n",
       "      <td>1964-01-01</td>\n",
       "      <td>10</td>\n",
       "      <td>12</td>\n",
       "      <td>10</td>\n",
       "      <td>POINT (1 2)</td>\n",
       "      <td>john</td>\n",
       "      <td>True</td>\n",
       "    </tr>\n",
       "    <tr>\n",
       "      <th>200</th>\n",
       "      <td>1985-02-05</td>\n",
       "      <td>10</td>\n",
       "      <td>12</td>\n",
       "      <td>20</td>\n",
       "      <td>POINT (3 4)</td>\n",
       "      <td>eric</td>\n",
       "      <td>True</td>\n",
       "    </tr>\n",
       "    <tr>\n",
       "      <th>300</th>\n",
       "      <td>2022-01-21</td>\n",
       "      <td>20</td>\n",
       "      <td>22</td>\n",
       "      <td>30</td>\n",
       "      <td>POINT (5 6)</td>\n",
       "      <td>judith</td>\n",
       "      <td>True</td>\n",
       "    </tr>\n",
       "    <tr>\n",
       "      <th>400</th>\n",
       "      <td>1964-01-01</td>\n",
       "      <td>20</td>\n",
       "      <td>22</td>\n",
       "      <td>10</td>\n",
       "      <td>POINT (7 8)</td>\n",
       "      <td>mila</td>\n",
       "      <td>True</td>\n",
       "    </tr>\n",
       "    <tr>\n",
       "      <th>500</th>\n",
       "      <td>1985-02-05</td>\n",
       "      <td>30</td>\n",
       "      <td>32</td>\n",
       "      <td>20</td>\n",
       "      <td>POINT (3 4)</td>\n",
       "      <td>hector</td>\n",
       "      <td>True</td>\n",
       "    </tr>\n",
       "  </tbody>\n",
       "</table>\n",
       "</div>"
      ],
      "text/plain": [
       "    dates::date  value  value32  res coord::point   names  unique\n",
       "100  1964-01-01     10       12   10  POINT (1 2)    john    True\n",
       "200  1985-02-05     10       12   20  POINT (3 4)    eric    True\n",
       "300  2022-01-21     20       22   30  POINT (5 6)  judith    True\n",
       "400  1964-01-01     20       22   10  POINT (7 8)    mila    True\n",
       "500  1985-02-05     30       32   20  POINT (3 4)  hector    True"
      ]
     },
     "execution_count": 34,
     "metadata": {},
     "output_type": "execute_result"
    }
   ],
   "source": [
    "data = {'index':           [100, 200, 300, 400, 500],\n",
    "                'dates::date':     [date(1964,1,1), date(1985,2,5), date(2022,1,21), date(1964,1,1), date(1985,2,5)],\n",
    "                'value':           [10, 10, 20, 20, 30],\n",
    "                'value32':         pd.Series([12, 12, 22, 22, 32], dtype='int32'),\n",
    "                'res':             [10, 20, 30, 10, 20],\n",
    "                'coord::point':    [Point(1,2), Point(3,4), Point(5,6), Point(7,8), Point(3,4)],\n",
    "                'names':           pd.Series(['john', 'eric', 'judith', 'mila', 'hector'], dtype='string'),\n",
    "                'unique':          True }\n",
    "df = pd.DataFrame(data).set_index('index')\n",
    "df.index.name = None\n",
    "df"
   ]
  },
  {
   "cell_type": "code",
   "execution_count": 38,
   "id": "7977522d",
   "metadata": {},
   "outputs": [
    {
     "name": "stdout",
     "output_type": "stream",
     "text": [
      "{':tab': {'index': [100, 200, 300, 400, 500],\n",
      "          'dates::date': ['1964-01-01', '1985-02-05', '2022-01-21', '1964-01-01', '1985-02-05'],\n",
      "          'value': [10, 10, 20, 20, 30],\n",
      "          'value32::int32': [12, 12, 22, 22, 32],\n",
      "          'res': [10, 20, 30, 10, 20],\n",
      "          'coord::point': [[1.0, 2.0], [3.0, 4.0], [5.0, 6.0], [7.0, 8.0], [3.0, 4.0]],\n",
      "          'names::string': ['john', 'eric', 'judith', 'mila', 'hector'],\n",
      "          'unique': True}}\n",
      "True\n"
     ]
    }
   ],
   "source": [
    "df_to_json = npd.to_json(df)\n",
    "pprint(df_to_json, compact=True, width=120, sort_dicts=False)\n",
    "print(npd.read_json(df_to_json).equals(df))"
   ]
  },
  {
   "cell_type": "code",
   "execution_count": 32,
   "id": "98dce36c",
   "metadata": {},
   "outputs": [
    {
     "name": "stdout",
     "output_type": "stream",
     "text": [
      "{'index': 100,\n",
      " 'dates': '1964-01-01',\n",
      " 'value': 10,\n",
      " 'value32': 12,\n",
      " 'res': 10,\n",
      " 'coord': [1.0, 2.0],\n",
      " 'names': 'john',\n",
      " 'unique': True}\n",
      "{'fields': [{'name': 'index', 'type': 'integer'},\n",
      "            {'name': 'dates', 'type': 'date'},\n",
      "            {'name': 'value', 'type': 'integer'},\n",
      "            {'name': 'value32', 'type': 'integer', 'format': 'int32'},\n",
      "            {'name': 'res', 'type': 'integer'},\n",
      "            {'name': 'coord', 'type': 'geopoint', 'format': 'array'},\n",
      "            {'name': 'names', 'type': 'string'},\n",
      "            {'name': 'unique', 'type': 'boolean'}],\n",
      " 'primaryKey': ['index'],\n",
      " 'pandas_version': '1.4.0'}\n",
      "True\n"
     ]
    }
   ],
   "source": [
    "df_to_table = npd.to_json(df, table=True)\n",
    "pprint(df_to_table['data'][0], sort_dicts=False)\n",
    "pprint(df_to_table['schema'], sort_dicts=False)\n",
    "print(npd.read_json(df_to_table).equals(df))"
   ]
  }
 ],
 "metadata": {
  "kernelspec": {
   "display_name": "Python 3 (ipykernel)",
   "language": "python",
   "name": "python3"
  },
  "language_info": {
   "codemirror_mode": {
    "name": "ipython",
    "version": 3
   },
   "file_extension": ".py",
   "mimetype": "text/x-python",
   "name": "python",
   "nbconvert_exporter": "python",
   "pygments_lexer": "ipython3",
   "version": "3.10.9"
  }
 },
 "nbformat": 4,
 "nbformat_minor": 5
}
