{
 "cells": [
  {
   "cell_type": "markdown",
   "id": "343c7b20",
   "metadata": {},
   "source": [
    "## A TableSchema interface compatible with the pandas data structure \n",
    "-------     \n",
    "\n",
    "### NTV-pandas\n",
    "To have a simple, compact and reversible solution, the interface uses the [JSON-NTV format (Named and Typed Value)](https://github.com/loco-philippe/NTV#readme) - which integrates the notion of type - and its JSON-TAB variation for tabular data.    \n",
    "This solution allows to include all the types and formats defined in the TableSchema specification.\n",
    "\n",
    "### Content\n",
    "This NoteBook uses examples to present some key points\n",
    "\n",
    "*(active link on jupyter Notebook or Nbviewer)*\n",
    "- [1 - Simple example](#1---Simple-example)\n",
    "- [2 - Series](#2---Series)\n",
    "    - [Simple example](#Simple-example)\n",
    "    - [Typed example](#Typed-example)\n",
    "    - [Examples with a non-Pandas type](#Examples-with-a-non-Pandas-type)\n",
    "    - [Categorical examples](#Categorical-examples)\n",
    "- [3 - DataFrame](#3---DataFrame)\n",
    "    - [Initial example](#Initial-example)\n",
    "    - [Complete example](#Complete-example)\n",
    "    - [Json data can be annotated](#Json-data-can-be-annotated)\n",
    "    - [Categorical data can be included](#Categorical-data-can-be-included)\n",
    "    - [Multidimensional data](#Multidimensional-data)\n",
    "- [Appendix : Series tests](#Appendix-:-Series-tests)     \n",
    "        \n",
    "### References\n",
    "- [JSON-NTV specification](https://loco-philippe.github.io/ES/JSON%20semantic%20format%20(JSON-NTV).htm)\n",
    "- [JSON-TAB specification](https://github.com/loco-philippe/NTV/blob/main/documentation/JSON-TAB-standard.pdf)\n",
    "- [JSON-NTV classes and methods](https://loco-philippe.github.io/NTV/json_ntv.html)\n",
    "\n",
    "This Notebook can also be viewed at [nbviewer](http://nbviewer.org/github/loco-philippe/ntv-pandas/tree/main/example)"
   ]
  },
  {
   "cell_type": "code",
   "execution_count": 9,
   "id": "d00a0cb6",
   "metadata": {},
   "outputs": [],
   "source": [
    "import math\n",
    "import json\n",
    "from pprint import pprint\n",
    "\n",
    "import pandas as pd\n",
    "import ntv_pandas as npd\n",
    "from shapely.geometry import Point, Polygon\n",
    "from json_ntv import Ntv\n",
    "from datetime import date, datetime, time"
   ]
  },
  {
   "cell_type": "markdown",
   "id": "6834381c",
   "metadata": {},
   "source": [
    "## 1 - Simple example"
   ]
  },
  {
   "cell_type": "markdown",
   "id": "2ccd4147",
   "metadata": {},
   "source": [
    "- The example is a Dataframe with several dtype"
   ]
  },
  {
   "cell_type": "code",
   "execution_count": 22,
   "id": "87e08572",
   "metadata": {
    "scrolled": false
   },
   "outputs": [
    {
     "data": {
      "text/plain": [
       "end february::date    object\n",
       "coordinates::point    object\n",
       "contact::email        string\n",
       "dtype: object"
      ]
     },
     "execution_count": 22,
     "metadata": {},
     "output_type": "execute_result"
    }
   ],
   "source": [
    "df = pd.DataFrame({\n",
    "            'end february::date': [date(2023,2,28), date(2024,2,29), date(2025,2,28)],\n",
    "            'coordinates::point': [Point([2.3, 48.9]), Point([5.4, 43.3]), Point([4.9, 45.8])],\n",
    "            'contact::email':     ['john.doe@table.com', 'lisa.minelli@schema.com', 'walter.white@breaking.com']\n",
    "            }).astype({'contact::email': 'string'})\n",
    "df.dtypes\n"
   ]
  },
  {
   "cell_type": "markdown",
   "id": "47d48540",
   "metadata": {},
   "source": [
    "- the example has a simple and compact JSON representation including dtype"
   ]
  },
  {
   "cell_type": "code",
   "execution_count": 23,
   "id": "c37108e8",
   "metadata": {},
   "outputs": [
    {
     "name": "stdout",
     "output_type": "stream",
     "text": [
      "{'schema': {'fields': [{'name': 'index', 'type': 'integer'},\n",
      "                       {'name': 'end february', 'type': 'date', 'format': 'default'},\n",
      "                       {'name': 'coordinates', 'type': 'geopoint', 'format': 'array'},\n",
      "                       {'name': 'contact', 'type': 'string', 'extDtype': 'string', 'format': 'email'}],\n",
      "            'primaryKey': ['index'],\n",
      "            'pandas_version': '1.4.0'},\n",
      " 'data': [{'index': 0, 'end february': '2023-02-28', 'coordinates': [2.3, 48.9], 'contact': 'john.doe@table.com'},\n",
      "          {'index': 1, 'end february': '2024-02-29', 'coordinates': [5.4, 43.3], 'contact': 'lisa.minelli@schema.com'},\n",
      "          {'index': 2, 'end february': '2025-02-28', 'coordinates': [4.9, 45.8], 'contact': 'walter.white@breaking.com'}]}\n"
     ]
    }
   ],
   "source": [
    "df_to_table = npd.to_json(df, table=True)\n",
    "pprint(df_to_table, width=140, sort_dicts=False)"
   ]
  },
  {
   "cell_type": "markdown",
   "id": "7deb4ffb",
   "metadata": {},
   "source": [
    "- The json conversion is reversible : df_from_json equals initial df"
   ]
  },
  {
   "cell_type": "code",
   "execution_count": 24,
   "id": "0e9736c8",
   "metadata": {},
   "outputs": [
    {
     "name": "stdout",
     "output_type": "stream",
     "text": [
      "df created from TableSchema is equal to initial df ?  True\n",
      "end february::date    object\n",
      "coordinates::point    object\n",
      "contact::email        string\n",
      "dtype: object\n",
      "end february::date    object\n",
      "coordinates::point    object\n",
      "contact::email        string\n",
      "dtype: object\n"
     ]
    },
    {
     "data": {
      "text/html": [
       "<div>\n",
       "<style scoped>\n",
       "    .dataframe tbody tr th:only-of-type {\n",
       "        vertical-align: middle;\n",
       "    }\n",
       "\n",
       "    .dataframe tbody tr th {\n",
       "        vertical-align: top;\n",
       "    }\n",
       "\n",
       "    .dataframe thead th {\n",
       "        text-align: right;\n",
       "    }\n",
       "</style>\n",
       "<table border=\"1\" class=\"dataframe\">\n",
       "  <thead>\n",
       "    <tr style=\"text-align: right;\">\n",
       "      <th></th>\n",
       "      <th>end february::date</th>\n",
       "      <th>coordinates::point</th>\n",
       "      <th>contact::email</th>\n",
       "    </tr>\n",
       "  </thead>\n",
       "  <tbody>\n",
       "    <tr>\n",
       "      <th>0</th>\n",
       "      <td>2023-02-28</td>\n",
       "      <td>POINT (2.3 48.9)</td>\n",
       "      <td>john.doe@table.com</td>\n",
       "    </tr>\n",
       "    <tr>\n",
       "      <th>1</th>\n",
       "      <td>2024-02-29</td>\n",
       "      <td>POINT (5.4 43.3)</td>\n",
       "      <td>lisa.minelli@schema.com</td>\n",
       "    </tr>\n",
       "    <tr>\n",
       "      <th>2</th>\n",
       "      <td>2025-02-28</td>\n",
       "      <td>POINT (4.9 45.8)</td>\n",
       "      <td>walter.white@breaking.com</td>\n",
       "    </tr>\n",
       "  </tbody>\n",
       "</table>\n",
       "</div>"
      ],
      "text/plain": [
       "  end february::date coordinates::point             contact::email\n",
       "0         2023-02-28   POINT (2.3 48.9)         john.doe@table.com\n",
       "1         2024-02-29   POINT (5.4 43.3)    lisa.minelli@schema.com\n",
       "2         2025-02-28   POINT (4.9 45.8)  walter.white@breaking.com"
      ]
     },
     "execution_count": 24,
     "metadata": {},
     "output_type": "execute_result"
    }
   ],
   "source": [
    "df_from_table = npd.read_json(df_to_table)\n",
    "print('df created from TableSchema is equal to initial df ? ', df_from_table.equals(df))\n",
    "df_from_table"
   ]
  },
  {
   "cell_type": "markdown",
   "id": "ca787e67",
   "metadata": {},
   "source": [
    "## 2 - Series"
   ]
  },
  {
   "cell_type": "markdown",
   "id": "14204c2d",
   "metadata": {},
   "source": [
    "### Simple example"
   ]
  },
  {
   "cell_type": "code",
   "execution_count": 29,
   "id": "62319579",
   "metadata": {},
   "outputs": [
    {
     "name": "stdout",
     "output_type": "stream",
     "text": [
      "pandas object :\n",
      "0    1\n",
      "1    2\n",
      "2    3\n",
      "Name: value, dtype: int64\n",
      "\n",
      "Json representation :    \n",
      "{'schema': {'fields': [{'name': 'index', 'type': 'integer'},\n",
      "                       {'name': 'value', 'type': 'object', 'extDtype': 'Int64', 'format': 'default'}],\n",
      "            'primaryKey': ['index'],\n",
      "            'pandas_version': '1.4.0'},\n",
      " 'data': [{'index': 0, 'value': 1}, {'index': 1, 'value': 2}, {'index': 2, 'value': 3}]}\n",
      "\n",
      "is Json translation reversible ?  True\n"
     ]
    }
   ],
   "source": [
    "sr = pd.Series([1, 2, 3], name='value')\n",
    "print('pandas object :\\n' + str(sr))\n",
    "\n",
    "json_table = npd.to_json(sr, table=True)\n",
    "print('\\nJson Table representation :    ')\n",
    "pprint(json_table, width=120, sort_dicts=False)\n",
    "\n",
    "print('\\nIs Json translation reversible ? ', sr.equals(npd.read_json(json_table)))"
   ]
  },
  {
   "cell_type": "markdown",
   "id": "954c6e65",
   "metadata": {},
   "source": [
    "### Typed example"
   ]
  },
  {
   "cell_type": "code",
   "execution_count": 35,
   "id": "a556868a",
   "metadata": {},
   "outputs": [
    {
     "name": "stdout",
     "output_type": "stream",
     "text": [
      "pandas object :\n",
      "0    1964-01-01\n",
      "1    1985-01-01\n",
      "2    2022-01-01\n",
      "Name: new year::date, dtype: object\n",
      "\n",
      "Json Table representation :    \n",
      "{'schema': {'fields': [{'name': 'index', 'type': 'integer'}, {'name': 'new year', 'type': 'date', 'format': 'default'}],\n",
      "            'primaryKey': ['index'],\n",
      "            'pandas_version': '1.4.0'},\n",
      " 'data': [{'index': 0, 'new year': '1964-01-01'},\n",
      "          {'index': 1, 'new year': '1985-01-01'},\n",
      "          {'index': 2, 'new year': '2022-01-01'}]}\n",
      "\n",
      "Is Json translation reversible ?  True\n"
     ]
    }
   ],
   "source": [
    "sr = pd.Series([date(1964, 1, 1), date(1985, 1, 1), date(2022, 1, 1)], name='new year::date')\n",
    "print('pandas object :\\n' + str(sr))\n",
    "\n",
    "json_table = npd.to_json(sr, table=True)\n",
    "print('\\nJson Table representation :    ')\n",
    "pprint(json_table, width=120, sort_dicts=False)\n",
    "\n",
    "print('\\nIs Json translation reversible ? ', sr.equals(npd.read_json(json_table)))"
   ]
  },
  {
   "cell_type": "markdown",
   "id": "bbef79a9",
   "metadata": {},
   "source": [
    "### Examples with a non-Pandas type"
   ]
  },
  {
   "cell_type": "code",
   "execution_count": null,
   "id": "765f0396",
   "metadata": {},
   "outputs": [],
   "source": [
    "field_data = {'dates::date': ['1964-01-01', '1985-02-05', '2022-01-21']}\n",
    "sr = npd.read_json({':field': field_data})\n",
    "# pandas dtype conform to Ntv type\n",
    "print('pandas object :\\n' + str(sr))\n",
    "print('\\nJson representation : \\n    ', npd.to_json(sr))\n",
    "print('\\nis Json translation reversible ? ', sr.equals(npd.read_json(npd.to_json(sr))))\n",
    "print('\\nis pandas translation reversible ? ', json.dumps(npd.to_json(sr)) == json.dumps({':field': field_data}))"
   ]
  },
  {
   "cell_type": "code",
   "execution_count": null,
   "id": "327c67a9",
   "metadata": {},
   "outputs": [],
   "source": [
    "field_data = {'coord::point':    [[1,2], [3,4], [5,6]]}\n",
    "sr = npd.read_json({':field': field_data})\n",
    "# pandas dtype conform to Ntv type\n",
    "print('pandas object :\\n' + str(sr))\n",
    "print('\\nJson representation : \\n    ', npd.to_json(sr))\n",
    "print('\\nis Json translation reversible ? ', sr.equals(npd.read_json(npd.to_json(sr))))"
   ]
  },
  {
   "cell_type": "markdown",
   "id": "90a68b81",
   "metadata": {},
   "source": [
    "### Categorical examples\n",
    "- available only with hashable data"
   ]
  },
  {
   "cell_type": "code",
   "execution_count": null,
   "id": "6ba57f0a",
   "metadata": {},
   "outputs": [],
   "source": [
    "field_data = {\"integer\": [[1, 2], [0, 1, 1, 0]]}\n",
    "sr = npd.read_json({':field': field_data})\n",
    "# pandas dtype conform to Ntv type\n",
    "print('pandas object :\\n' + str(sr))\n",
    "print('\\nJson representation : \\n    ', npd.to_json(sr))\n",
    "print('\\nis Json translation reversible ? ', sr.equals(npd.read_json(npd.to_json(sr))))\n",
    "print('\\nis pandas translation reversible ? ', json.dumps(npd.to_json(sr)) == json.dumps({':field': field_data}))"
   ]
  },
  {
   "cell_type": "code",
   "execution_count": null,
   "id": "7e45d94d",
   "metadata": {},
   "outputs": [],
   "source": [
    "field_data = {'dates': [{'::date': ['1964-01-01', '1985-02-05', '2022-01-21']}, [0, 1, 0, 2]]}\n",
    "sr = npd.read_json({':field': field_data})\n",
    "# pandas dtype conform to Ntv type\n",
    "print('pandas object :\\n' + str(sr))\n",
    "print('\\nJson representation : \\n    ', npd.to_json(sr))\n",
    "print('\\nis Json translation reversible ? ', sr.equals(npd.read_json(npd.to_json(sr))))"
   ]
  },
  {
   "cell_type": "code",
   "execution_count": null,
   "id": "a4a756e7",
   "metadata": {},
   "outputs": [],
   "source": [
    "field_data = {'test_array': [{'::array': [[1,2], [3,4], [5,6]]}, [0, 1, 0, 2]]}\n",
    "sr = npd.read_json({':field': field_data})\n",
    "# pandas dtype conform to Ntv type\n",
    "print('pandas object :\\n' + str(sr))\n",
    "print('\\nJson representation : \\n    ', npd.to_json(sr))\n",
    "print('\\nis Json translation reversible ? ', sr.equals(npd.read_json(npd.to_json(sr))))\n",
    "print('\\nis pandas translation reversible ? ', json.dumps(npd.to_json(sr)) == json.dumps({':field': field_data}))"
   ]
  },
  {
   "cell_type": "markdown",
   "id": "38335df3",
   "metadata": {},
   "source": [
    "## 3 - DataFrame"
   ]
  },
  {
   "cell_type": "markdown",
   "id": "fb4a7b88",
   "metadata": {},
   "source": [
    "### Initial example"
   ]
  },
  {
   "cell_type": "code",
   "execution_count": null,
   "id": "ac890bcb",
   "metadata": {},
   "outputs": [],
   "source": [
    "df = pd.DataFrame({\"A\": list(\"abca\"), \"B\": list(\"bccd\")})\n",
    "\n",
    "print('pandas dtype :\\n' + str(df.dtypes))\n",
    "print('\\npandas object :\\n' + str(df))\n",
    "print('\\nJson representation : \\n    ', npd.to_json(df))\n",
    "print('\\nis Json translation reversible ? ', df.equals(npd.read_json(npd.to_json(df))))"
   ]
  },
  {
   "cell_type": "markdown",
   "id": "c04430e6",
   "metadata": {},
   "source": [
    "### Complete example\n",
    "- index data\n",
    "- Pandas dtype (int32, bool, string)\n",
    "- NTV type (date, point) -> object dtype\n",
    "- data unique"
   ]
  },
  {
   "cell_type": "code",
   "execution_count": null,
   "id": "fe6c69cb",
   "metadata": {},
   "outputs": [],
   "source": [
    "tab_data = {'index':           [100, 200, 300, 400, 500, 600],\n",
    "            'dates::date':     ['1964-01-01', '1985-02-05', '2022-01-21', '1964-01-01', '1985-02-05', '2022-01-21'], \n",
    "            'value':           [10, 10, 20, 20, 30, 30],\n",
    "            'value32::int32':  [12, 12, 22, 22, 32, 32],\n",
    "            'res':             [10, 20, 30, 10, 20, 30],\n",
    "            'coord::point':    [[1,2], [3,4], [5,6], [7,8], [3,4], [5,6]],\n",
    "            'names::string':   ['john', 'eric', 'judith', 'mila', 'hector', 'maria'],\n",
    "            'unique':          True }\n",
    "df = npd.read_json({':tab': tab_data})\n",
    "print('pandas dtype :\\n' + str(df.dtypes))\n",
    "print('\\npandas object :\\n' + str(df))\n",
    "print('\\nJson representation :')\n",
    "pprint(npd.to_json(df), width=140)\n",
    "print('\\nis Json translation reversible ? ', df.equals(npd.read_json(npd.to_json(df))))"
   ]
  },
  {
   "cell_type": "markdown",
   "id": "513dd337",
   "metadata": {},
   "source": [
    "### Json data can be annotated"
   ]
  },
  {
   "cell_type": "code",
   "execution_count": null,
   "id": "cdda0ce3",
   "metadata": {
    "scrolled": false
   },
   "outputs": [],
   "source": [
    "tab_data = {'index':           [100, 200, 300, 400, 500, 600],\n",
    "            'dates::date':     ['1964-01-01', '1985-02-05', '2022-01-21', '1964-01-01', '1985-02-05', '2022-01-21'], \n",
    "            'value':           [10, 10, 20, 20, {'valid?': 30}, 30],\n",
    "            'value32::int32':  [12, 12, 22, 22, 32, 32],\n",
    "            'res':             {'res1': 10, 'res2': 20, 'res3': 30, 'res4': 10, 'res5': 20, 'res6': 30},\n",
    "            'coord::point':    [[1,2], [3,4], [5,6], [7,8], {'same as 2nd point': [3,4]}, [5,6]],\n",
    "            'names::string':   ['john', 'eric', 'judith', 'mila', 'hector', 'maria'],\n",
    "            'unique':          True }\n",
    "\n",
    "df2 = npd.read_json({':tab': tab_data}, annotated=True)\n",
    "print('is DataFrame identical ? ', df.equals(df2))"
   ]
  },
  {
   "cell_type": "markdown",
   "id": "82017e47",
   "metadata": {},
   "source": [
    "### Categorical data can be included"
   ]
  },
  {
   "cell_type": "code",
   "execution_count": null,
   "id": "22b7a281",
   "metadata": {
    "scrolled": false
   },
   "outputs": [],
   "source": [
    "df = pd.DataFrame({\"A\": list(\"abca\"), \"B\": list(\"bccd\")}, dtype=\"category\")\n",
    "\n",
    "print('pandas dtype :\\n' + str(df.dtypes))\n",
    "print('\\npandas object :\\n' + str(df))\n",
    "print('\\nJson representation : \\n    ', npd.to_json(df))\n",
    "print('\\nis Json translation reversible ? ', df.equals(npd.read_json(npd.to_json(df))))"
   ]
  },
  {
   "cell_type": "code",
   "execution_count": null,
   "id": "d7eb51ea",
   "metadata": {
    "scrolled": false
   },
   "outputs": [],
   "source": [
    "tab_data = {'index':           [100, 200, 300, 400, 500, 600],\n",
    "            'dates':           [{'::date': ['1964-01-01', '1985-02-05', '2022-01-21']}, [0, 1, 2, 0, 1, 2]],\n",
    "            'value':           [[10, 20, {'valid?': 30}], [0, 0, 1, 1, 2, 2]],\n",
    "            'value32::int32':  [12, 12, 22, 22, 32, 32],\n",
    "            'res':             {'res1': 10, 'res2': 20, 'res3': 30, 'res4': 10, 'res5': 20, 'res6': 30},\n",
    "            'coord::point':    [[1,2], [3,4], [5,6], [7,8], {'same as 2nd point': [3,4]}, [5,6]],\n",
    "            'names::string':   ['john', 'eric', 'judith', 'mila', 'hector', 'maria'],\n",
    "            'unique:boolean':  True }\n",
    "\n",
    "df = npd.read_json({':tab': tab_data}, annotated=True)\n",
    "print('pandas dtype :\\n' + str(df.dtypes))\n",
    "print('\\npandas object :\\n' + str(df))\n",
    "print('\\nJson representation :')\n",
    "pprint(npd.to_json(df), width=140)\n",
    "print('\\nis Json translation reversible ? ', df.equals(npd.read_json(npd.to_json(df))))"
   ]
  },
  {
   "cell_type": "code",
   "execution_count": null,
   "id": "a3565bed",
   "metadata": {},
   "outputs": [],
   "source": [
    "index   = pd.Series([100, 200, 300, 400, 500, 600])\n",
    "dates   = pd.Series(name='dates::date',  data=[date(1964, 1, 1), date(1985, 2, 5), date(2022, 1, 21), date(1964, 1, 1),\n",
    "                                               date(1985, 2, 5), date(2022, 1, 21)], dtype='object').astype('category')\n",
    "value   = pd.Series(name='value',        data=[10,10,20,20,30,30], dtype='Int64').astype('category') #alias mandatory \n",
    "value32 = pd.Series(name='value32',      data=[12, 12, 22, 22, 32, 32], dtype='int32')\n",
    "coord   = pd.Series(name='coord::point', data=[Point(1,2), Point(3,4), Point(5,6), Point(7,8), Point(3,4), Point(5,6)])\n",
    "names   = pd.Series(name='names',        data=['john', 'eric', 'judith', 'mila', 'hector', 'maria'], dtype='string')\n",
    "unique  = pd.Series(name='unique',       data=[True, True, True, True, True, True])\n",
    "\n",
    "df = pd.DataFrame({ser.name: ser for ser in [index, dates, value, value32, coord, names, unique]}).set_index(None)\n",
    "\n",
    "print('pandas dtype :\\n' + str(df.dtypes))\n",
    "print('\\npandas object :\\n' + str(df))\n",
    "print('\\nJson representation :')\n",
    "pprint(npd.to_json(df), width=140)\n",
    "print('\\nis Json translation reversible ? ', df.equals(npd.read_json(npd.to_json(df))))"
   ]
  },
  {
   "cell_type": "markdown",
   "id": "f23d9221",
   "metadata": {},
   "source": [
    "### Multidimensional data\n",
    "- JSON-TAB format is applicable for multidimensional data\n",
    "- JSON multi-dimensional data can be translated into a Pandas Dataframe or a DataArray Xarray"
   ]
  },
  {
   "cell_type": "code",
   "execution_count": null,
   "id": "270354b3",
   "metadata": {},
   "outputs": [],
   "source": [
    "data = {\"quantity\": [\"1 kg\", \"1 kg\", \"1 kg\", \"1 kg\", \"10 kg\", \"10 kg\", \"10 kg\", \"10 kg\"],\n",
    "        \"product\": [\"banana\", \"orange\", \"apple\", \"peppers\", \"banana\", \"orange\", \"apple\", \"peppers\"], \n",
    "        \"plants\": [\"fruit\", \"fruit\", \"fruit\", \"vegetable\", \"fruit\", \"fruit\", \"fruit\", \"vegetable\"], \n",
    "        \"price\": [0.5, 2, 1, 1.5, 5, 20, 10, 15]}\n",
    "\n",
    "df  = pd.DataFrame(data)\n",
    "df2 = pd.DataFrame(data, dtype='category').sort_values(by=['quantity', 'product'])\n",
    "df2"
   ]
  },
  {
   "cell_type": "code",
   "execution_count": null,
   "id": "40d718be",
   "metadata": {},
   "outputs": [],
   "source": [
    "json_df = Ntv.obj(df).to_obj()[':tab']\n",
    "print('json_df is the JSON-TAB format with \"full\" mode\\n')\n",
    "pprint(json_df, width=200)\n",
    "\n",
    "json_xar = Ntv.obj(df2).to_obj()[':tab']\n",
    "print('\\njson_xa is the JSON-TAB format with \"optimize\" mode\\n')\n",
    "pprint(json_xar, width=200)\n",
    "\n",
    "df_from_xar = Ntv.obj({':tab': json_xar}).to_obj(format='obj').sort_index()\n",
    "print('\\nDataFrame from the two JSON-TAB format are identical ? ', df.astype('object').equals(df_from_xar.astype('object')))\n",
    "\n",
    "print('\\nThe \"optimize\" JSON-TAB format is the image of the DataArray Xarray')\n",
    "from observation import Sdataset\n",
    "Sdataset.ntv(json_df).setcanonorder().to_xarray(varname='price')"
   ]
  },
  {
   "cell_type": "markdown",
   "id": "57322f1d",
   "metadata": {},
   "source": [
    "## Appendix : Series tests"
   ]
  },
  {
   "cell_type": "code",
   "execution_count": null,
   "id": "5f07553d",
   "metadata": {
    "scrolled": false
   },
   "outputs": [],
   "source": [
    "# json interface ok\n",
    "srs = [\n",
    "       # without ntv_type, without dtype\n",
    "       pd.Series([{'a': 2, 'e':4}, {'a': 3, 'e':5}, {'a': 4, 'e':6}]),  \n",
    "       pd.Series([[1,2], [3,4], [5,6]]),  \n",
    "       pd.Series([[1,2], [3,4], {'a': 3, 'e':5}]),  \n",
    "       pd.Series([True, False, True]),\n",
    "       pd.Series(['az', 'er', 'cd']),\n",
    "       pd.Series(['az', 'az', 'az']),\n",
    "       pd.Series([1,2,3]),\n",
    "       pd.Series([1.1,2,3]),\n",
    "       \n",
    "       # without ntv_type, with dtype\n",
    "       pd.Series([10,20,30], dtype='Int64'),\n",
    "       pd.Series([True, False, True], dtype='boolean'),\n",
    "       pd.Series([1.1, 2, 3], dtype='float64'), \n",
    "\n",
    "       # with ntv_type only in json data (not numbers)\n",
    "       pd.Series([pd.NaT, pd.NaT, pd.NaT]),\n",
    "       pd.Series([datetime(2022, 1, 1), datetime(2022, 1, 2)], dtype='datetime64[ns]'),\n",
    "       pd.Series(pd.to_timedelta(['1D', '2D'])),\n",
    "       pd.Series(['az', 'er', 'cd'], dtype='string'), \n",
    "\n",
    "       # with ntv_type only in json data (numbers)\n",
    "       pd.Series([1,2,3], dtype='Int32'), \n",
    "       pd.Series([1,2,3], dtype='UInt64'),\n",
    "       pd.Series([1,2,3], dtype='float32'),\n",
    "\n",
    "       # with ntv_type in Series name and in json data (numbers)\n",
    "       pd.Series([1,2,3], name='::int64'),\n",
    "       pd.Series([1,2,3], dtype='Float64', name='::float64'), # force dtype dans la conversion json\n",
    "\n",
    "       # with ntv_type in Series name and in json data (not numbers)\n",
    "       pd.Series([[1,2], [3,4], [5,6]], name='::array'),  \n",
    "       pd.Series([{'a': 2, 'e':4}, {'a': 3, 'e':5}, {'a': 4, 'e':6}], name='::object'),  \n",
    "       pd.Series([None, None, None], name='::null'), \n",
    "       pd.Series([\"geo:13.412 ,103.866\", \"mailto:John.Doe@example.com\"], name='::uri', dtype='string'),\n",
    "       pd.Series([\"///path/to/file\", \"//host.example.com/path/to/file\"], name='::file', dtype='string'),\n",
    "\n",
    "       # with ntv_type converted in object dtype (not in datetime)\n",
    "       pd.Series([date(2022, 1, 1), date(2022, 1, 2)], name='::date'),\n",
    "       pd.Series([time(10, 21, 1),  time(8, 1, 2)],    name='::time'),\n",
    "\n",
    "       # with ntv_type unknown in pandas and with pandas conversion               \n",
    "       pd.Series([1,2,3], dtype='int64', name='::day'),\n",
    "       pd.Series([2001,2002,2003], dtype='int64', name='::year'),\n",
    "       pd.Series([21,10,55], name='::minute'),\n",
    "\n",
    "       # with ntv_type unknown in pandas and NTV conversion\n",
    "       pd.Series([Point(1, 0), Point(1, 1), Point(1, 2)], name='::point'),\n",
    "]\n",
    "for sr in srs:\n",
    "    print(npd.as_def_type(sr).equals(npd.read_json(npd.to_json(sr))), \n",
    "          npd.read_json(npd.to_json(sr)).name == sr.name, \n",
    "          npd.to_json(sr))  "
   ]
  },
  {
   "cell_type": "code",
   "execution_count": null,
   "id": "090ad57b",
   "metadata": {},
   "outputs": [],
   "source": [
    "# json interface ok\n",
    "for a in [{'test::int32': [1,2,3]},\n",
    "          {'test': [1,2,3]},\n",
    "          [1.0, 2.1, 3.0],\n",
    "          ['er', 'et', 'ez'],\n",
    "          [True, False, True],\n",
    "          {'::boolean': [True, False, True]},\n",
    "          {'::string': ['er', 'et', 'ez']},\n",
    "          {'test::float32': [1.0, 2.5, 3.0]},\n",
    "          {'::int64': [1,2,3]},\n",
    "          {'::datetime': [\"2021-12-31T23:00:00.000\",\"2022-01-01T23:00:00.000\"] },\n",
    "          {'::date': [\"2021-12-31\", \"2022-01-01\"] },\n",
    "          {'::time': [\"23:00:00\", \"23:01:00\"] },\n",
    "          {'::object': [{'a': 3, 'e':5}, {'a': 4, 'e':6}]},\n",
    "          {'::array': [[1,2], [3,4], [5,6]]},\n",
    "          True,\n",
    "          {':boolean': True}\n",
    "         ]:\n",
    "    field = {':field': a}\n",
    "    print(npd.to_json(npd.read_json(field)) == field, field)"
   ]
  },
  {
   "cell_type": "code",
   "execution_count": null,
   "id": "a878011a",
   "metadata": {},
   "outputs": [],
   "source": [
    "# json interface ok (categorical data)\n",
    "for a in [{'test': [{'::int32': [1, 2, 3]}, [0,1,2,0,1]]},\n",
    "          {'test': [[1, 2, 3], [0,1,2,0,1]]},\n",
    "          [[1.0, 2.1, 3.0], [0,1,2,0,1]],\n",
    "          [['er', 'et', 'ez'], [0,1,2,0,1]],\n",
    "          [[True, False], [0,1,0,1,0]],\n",
    "          [{'::string': ['er', 'et', 'ez']}, [0,1,2,0,1]],\n",
    "          {'test':[{'::float32': [1.0, 2.5, 3.0]}, [0,1,2,0,1]]},\n",
    "          [{'::int64': [1, 2, 3]}, [0,1,2,0,1]],\n",
    "          [{'::datetime': [\"2021-12-31T23:00:00.000\", \"2022-01-01T23:00:00.000\"] }, [0,1,0,1,0]],\n",
    "          [{'::date': [\"2021-12-31\", \"2022-01-01\"] }, [0,1,0,1,0]],\n",
    "          [{'::time': [\"23:00:00\", \"23:01:00\"] }, [0,1,0,1,0]],\n",
    "          {'test_date': [{'::datetime': [\"2021-12-31T23:00:00.000\", \"2022-01-01T23:00:00.000\"] }, [0,1,0,1,0]]},\n",
    "          [{'::boolean': [True, False]}, [0,1,0,1,0]],\n",
    "          [[True], [2]], # periodic Series\n",
    "          {'quantity': [['1 kg', '10 kg'], [4]]}]:  # periodic Series\n",
    "    field = {':field': a}\n",
    "    print(npd.to_json(npd.read_json(field)) == field, field)"
   ]
  },
  {
   "cell_type": "code",
   "execution_count": null,
   "id": "fc5c1c1f",
   "metadata": {
    "scrolled": false
   },
   "outputs": [],
   "source": [
    "# json interface ko\n",
    "srs = [# without ntv_type\n",
    "       pd.Series([math.nan, math.nan]), # bug pandas conversion json : datetime NaT\n",
    "       \n",
    "       # without ntv_type, with dtype\n",
    "       pd.Series([math.nan, math.nan], dtype='float64'), # bug pandas conversion json : datetime NaT\n",
    "    \n",
    "       # with ntv_type in Series name and in json data\n",
    "       pd.Series([1,2,3], dtype='UInt64', name='::uint64'),   # name inutile\n",
    "       \n",
    "       # with ntv_type unknown in pandas\n",
    "       pd.Series([datetime(2022, 1, 1), datetime(2022, 1, 2), datetime(2022, 1, 3)], dtype='datetime64[ns, UTC]'), #à traiter\n",
    "]\n",
    "for sr in srs:\n",
    "    print(npd.as_def_type(sr).equals(npd.read_json(npd.to_json(sr))), \n",
    "          npd.read_json(npd.to_json(sr)).name == sr.name, \n",
    "          npd.to_json(sr, text=True))  "
   ]
  },
  {
   "cell_type": "code",
   "execution_count": null,
   "id": "0319c881",
   "metadata": {},
   "outputs": [],
   "source": [
    "# json interface ko (categorical data)\n",
    "for a in [{'test_array': [{'::array': [[1,2], [3,4], [5,6], [7,8]]}, [0, 1, 0, 2, 3]]}]: # list -> tuple to be hashable\n",
    "    field = {':field': a}\n",
    "    print(npd.to_json(npd.read_json(field)) == field, field)"
   ]
  }
 ],
 "metadata": {
  "kernelspec": {
   "display_name": "Python 3 (ipykernel)",
   "language": "python",
   "name": "python3"
  },
  "language_info": {
   "codemirror_mode": {
    "name": "ipython",
    "version": 3
   },
   "file_extension": ".py",
   "mimetype": "text/x-python",
   "name": "python",
   "nbconvert_exporter": "python",
   "pygments_lexer": "ipython3",
   "version": "3.10.9"
  }
 },
 "nbformat": 4,
 "nbformat_minor": 5
}
