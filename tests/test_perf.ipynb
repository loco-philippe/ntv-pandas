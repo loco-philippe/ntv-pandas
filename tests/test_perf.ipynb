{
 "cells": [
  {
   "cell_type": "code",
   "execution_count": 25,
   "id": "7469f343",
   "metadata": {},
   "outputs": [],
   "source": [
    "import xarray as xr\n",
    "import pandas as pd\n",
    "import numpy as np\n",
    "from ntv_numpy import Xdataset\n",
    "import ntv_pandas as npd\n",
    "import cbor2\n"
   ]
  },
  {
   "cell_type": "code",
   "execution_count": 70,
   "id": "63aefc9b-5e03-4730-8498-a218903c8f8c",
   "metadata": {},
   "outputs": [],
   "source": [
    "xds = xr.Dataset(\n",
    "    {\n",
    "        \"var\": (['a', 'b', 'c', 'd', 'e'], np.arange(100000).reshape(10, 10, 10, 10, 10))\n",
    "    },\n",
    "    coords={\n",
    "        \"a\": np.arange(10),\n",
    "        \"b\": np.arange(10),\n",
    "        \"c\": np.arange(10),\n",
    "        \"d\": np.arange(10),\n",
    "        \"e\": np.arange(10),\n",
    "    }\n",
    ")\n",
    "xnd = Xdataset.from_xarray(xds)\n",
    "jsn_txt = xnd.to_json(notype=[True]*len(xnd), encoded=True)\n",
    "jsn = xnd.to_json(notype=[True]*len(xnd))\n",
    "#jsn = xnd.to_json(notype=[True]*len(xnd), format=['complete']*len(xnd))\n",
    "jsb = cbor2.dumps(jsn)"
   ]
  },
  {
   "cell_type": "code",
   "execution_count": 72,
   "id": "22ddc167-75bb-42d4-9db9-2c8c5f68e356",
   "metadata": {},
   "outputs": [
    {
     "name": "stdout",
     "output_type": "stream",
     "text": [
      "368.763 689.172 2277.796\n"
     ]
    }
   ],
   "source": [
    "df = xnd.to_dataframe(json_name=False, info=False).reset_index().sample(frac=1)\n",
    "csv = df.to_csv()\n",
    "df.to_csv('test1.csv')\n",
    "print(len(jsb)/1000, len(jsn_txt)/1000, len(csv)/1000) # parquet 1811 k"
   ]
  },
  {
   "cell_type": "code",
   "execution_count": 73,
   "id": "cab6b56a-75c9-4ea9-9b59-f331555591fc",
   "metadata": {},
   "outputs": [
    {
     "name": "stdout",
     "output_type": "stream",
     "text": [
      "368.763 689.172\n"
     ]
    }
   ],
   "source": [
    "xnd = Xdataset.from_dataframe(df)\n",
    "jsn_txt = xnd.to_json(notype=[True]*len(xnd), encoded=True)\n",
    "jsn = xnd.to_json(notype=[True]*len(xnd))\n",
    "#jsn = xnd.to_json(notype=[True]*len(xnd), format=['complete']*len(xnd))\n",
    "jsb = cbor2.dumps(jsn)\n",
    "print(len(jsb)/1000, len(jsn_txt)/1000)"
   ]
  },
  {
   "cell_type": "markdown",
   "id": "2bbd94c9-8b3d-4ef0-95ba-7a601256558e",
   "metadata": {},
   "source": [
    "entiers : 368.763 689.172 2277.796 parquet 1811 (1985 avec sample)\n",
    "+ string ('e' 6 car) : 368.823 689.242 2777.796 parquet 1812\n",
    "+ random 'a' -> 'd' : 369.143 689.928 9637.796 parquet 1813\n",
    "+ random 'e' 12 car : 369.203 689.994 10297.796 parquet 1813\n",
    "+ sample  : 369.203 689.994 10297.796 parquet 1987\n",
    "+ random 'a' -> 'e' 12 car : 369.363 689.822 7777.796 parquet 1986"
   ]
  },
  {
   "cell_type": "code",
   "execution_count": 65,
   "id": "f7857ac4-1106-4c1e-a970-d7d7910bcdce",
   "metadata": {},
   "outputs": [],
   "source": [
    "np.random.rand(4, 3)\n",
    "xds = xr.Dataset(\n",
    "    {\n",
    "        \"var\": (['a', 'b', 'c', 'd', 'e'], np.arange(100000).reshape(10, 10, 10, 10, 10))\n",
    "    },\n",
    "    coords={\n",
    "        \"a\": np.random.rand(10),\n",
    "        \"b\": np.random.rand(10),\n",
    "        \"c\": np.random.rand(10),\n",
    "        \"d\": np.random.rand(10),\n",
    "        \"e\": np.array(['azertyazerty', 'zertyuzertyu', 'rtyuiortyuio', 'uiopqsuiopqs', 'qsdfghqsdfgh', \n",
    "                       'sdfghjsdfghj', 'dfghjkdfghjk', 'ghjklmghjklm', 'wxcvbnwxcvbn', 'hjklmwhjklmw']),\n",
    "    }\n",
    ")\n",
    "xnd = Xdataset.from_xarray(xds)\n",
    "jsn_txt = xnd.to_json(notype=[True]*len(xnd), encoded=True)\n",
    "jsn = xnd.to_json(notype=[True]*len(xnd))\n",
    "#jsn = xnd.to_json(notype=[True]*len(xnd), format=['complete']*len(xnd))\n",
    "jsb = cbor2.dumps(jsn)"
   ]
  },
  {
   "cell_type": "code",
   "execution_count": 66,
   "id": "60bc2468-9ac9-421f-b9a4-ce43d74ee0d3",
   "metadata": {},
   "outputs": [
    {
     "name": "stdout",
     "output_type": "stream",
     "text": [
      "369.203 689.994 10297.796\n"
     ]
    }
   ],
   "source": [
    "df = xnd.to_dataframe(json_name=False).reset_index()\n",
    "csv = df.to_csv()\n",
    "df.to_csv('test1.csv')\n",
    "print(len(jsb)/1000, len(jsn_txt)/1000, len(csv)/1000) # parquet 1811 k"
   ]
  },
  {
   "cell_type": "code",
   "execution_count": 68,
   "id": "25f3b4c0-cb10-428c-99ef-caba1880c289",
   "metadata": {},
   "outputs": [],
   "source": [
    "np.random.rand(4, 3)\n",
    "xds = xr.Dataset(\n",
    "    {\n",
    "        \"var\": (['a', 'b', 'c', 'd', 'e'], np.arange(100000).reshape(10, 10, 10, 10, 10))\n",
    "    },\n",
    "    coords={\n",
    "        \"a\": np.array(['sdfghjsdfghj', 'dfghjkdfghjk', 'azertyazerty', 'zertyuzertyu', 'rtyuiortyuio', \n",
    "                       'uiopqsuiopqs', 'qsdfghqsdfgh', 'ghjklmghjklm', 'wxcvbnwxcvbn', 'hjklmwhjklmw']),\n",
    "        \"b\": np.array(['uiopqsuiopqs', 'qsdfghqsdfgh', 'azertyazerty', 'zertyuzertyu', 'rtyuiortyuio',\n",
    "                       'sdfghjsdfghj', 'dfghjkdfghjk', 'wxcvbnwxcvbn', 'ghjklmghjklm', 'hjklmwhjklmw']),\n",
    "        \"c\": np.array(['dfghjkdfghjk', 'ghjklmghjklm', 'azertyazerty', 'uiopqsuiopqs', 'qsdfghqsdfgh', \n",
    "                       'sdfghjsdfghj', 'wxcvbnwxcvbn', 'hjklmwhjklmw', 'zertyuzertyu', 'rtyuiortyuio']),\n",
    "        \"d\": np.array(['azertyazerty', 'zertyuzertyu', 'rtyuiortyuio', 'uiopqsuiopqs', 'qsdfghqsdfgh', \n",
    "                       'sdfghjsdfghj', 'dfghjkdfghjk', 'ghjklmghjklm', 'wxcvbnwxcvbn', 'hjklmwhjklmw']),\n",
    "        \"e\": np.array(['qsdfghqsdfgh', 'sdfghjsdfghj', 'dfghjkdfghjk', 'ghjklmghjklm', 'wxcvbnwxcvbn',\n",
    "                       'hjklmwhjklmw', 'azertyazerty', 'zertyuzertyu', 'rtyuiortyuio', 'uiopqsuiopqs'])\n",
    "    }\n",
    ")\n",
    "xnd = Xdataset.from_xarray(xds)\n",
    "jsn_txt = xnd.to_json(notype=[True]*len(xnd), encoded=True)\n",
    "jsn = xnd.to_json(notype=[True]*len(xnd))\n",
    "#jsn = xnd.to_json(notype=[True]*len(xnd), format=['complete']*len(xnd))\n",
    "jsb = cbor2.dumps(jsn)"
   ]
  },
  {
   "cell_type": "code",
   "execution_count": 69,
   "id": "6434187e-42db-4841-b1f6-82394fc6949e",
   "metadata": {},
   "outputs": [
    {
     "name": "stdout",
     "output_type": "stream",
     "text": [
      "369.363 689.822 7777.796\n"
     ]
    }
   ],
   "source": [
    "df = xnd.to_dataframe(json_name=False).reset_index().sample(frac=1)\n",
    "csv = df.to_csv()\n",
    "df.to_csv('test1.csv')\n",
    "print(len(jsb)/1000, len(jsn_txt)/1000, len(csv)/1000) # parquet 1811 k"
   ]
  }
 ],
 "metadata": {
  "kernelspec": {
   "display_name": "Python 3 (ipykernel)",
   "language": "python",
   "name": "python3"
  },
  "language_info": {
   "codemirror_mode": {
    "name": "ipython",
    "version": 3
   },
   "file_extension": ".py",
   "mimetype": "text/x-python",
   "name": "python",
   "nbconvert_exporter": "python",
   "pygments_lexer": "ipython3",
   "version": "3.11.8"
  }
 },
 "nbformat": 4,
 "nbformat_minor": 5
}
